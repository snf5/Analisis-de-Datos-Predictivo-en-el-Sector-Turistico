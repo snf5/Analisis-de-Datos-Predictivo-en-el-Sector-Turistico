{
  "cells": [
    {
      "cell_type": "markdown",
      "metadata": {
        "id": "view-in-github",
        "colab_type": "text"
      },
      "source": [
        "<a href=\"https://colab.research.google.com/github/snf5/Analisis-de-Datos-Predictivo-en-el-Sector-Turistico/blob/main/Airbnb_Torrevieja_Final.ipynb\" target=\"_parent\"><img src=\"https://colab.research.google.com/assets/colab-badge.svg\" alt=\"Open In Colab\"/></a>"
      ]
    },
    {
      "cell_type": "markdown",
      "metadata": {
        "id": "qh3jEqi-P5dX"
      },
      "source": [
        "DATOS A ANALIZAR SOBRE EL SECTOR TURÍSTICA EN TORREVIEJA (RESERVAS A TRAVÉS DE AIRBNB Y VRBO) JUNTO CON LOS EVENTOS ORGANIZADOS EN EL PERÍODO DE TIEMPO A ANALIZAR"
      ]
    },
    {
      "cell_type": "code",
      "execution_count": null,
      "metadata": {
        "id": "-lAlQg3VPvmK"
      },
      "outputs": [],
      "source": [
        "#IMPORTAMOS LAS LIBRERÍAS QUE VAMOSA NECESITAR A LA HORA DE TRABAJAR\n",
        "import pandas as pd\n",
        "import matplotlib.pyplot as plt\n",
        "import seaborn as sns\n",
        "from wordcloud import WordCloud\n",
        "import numpy as np\n",
        "from sklearn.model_selection import train_test_split"
      ]
    },
    {
      "cell_type": "markdown",
      "metadata": {
        "id": "6iARlleYtU2s"
      },
      "source": [
        "# DATOS MESES POR ALOJAMIENTO\n"
      ]
    },
    {
      "cell_type": "markdown",
      "metadata": {
        "id": "RINt1KFkJQVr"
      },
      "source": [
        "DATOS POR MESES DE CADA ALOJAMIENTO"
      ]
    },
    {
      "cell_type": "code",
      "execution_count": null,
      "metadata": {
        "id": "4He5JOInTTkM"
      },
      "outputs": [],
      "source": [
        "#CARGAMOS LOS DATOS DE CADA MES PARA QUEDARNOS CON LOS APARTAMENTOS QUE NOS INTERESA ANALIZA, SOLO AQUELLOS QUE REALMENTE HAN SIDO ALQUILADOS EN EL PERÍODO ANALIZADO\n",
        "datos_meses = pd.read_csv(\"/content/drive/MyDrive/Sergio Naranjo Fernández/DATOS/Spain-torrevieja_Monthly_Match_2023-11-23.csv\")\n",
        "datos_meses"
      ]
    },
    {
      "cell_type": "code",
      "source": [
        "#ANALIZAMOS LAS COLUMAS\n",
        "datos_meses.columns"
      ],
      "metadata": {
        "id": "yMt3YOu6NIlK",
        "collapsed": true
      },
      "execution_count": null,
      "outputs": []
    },
    {
      "cell_type": "code",
      "execution_count": null,
      "metadata": {
        "id": "mar0KJEiRTKo"
      },
      "outputs": [],
      "source": [
        "#ORDENAMOS PARA CONOCER EL MES INICAL A ANALIZAR\n",
        "datos_meses.sort_values(by=\"Reporting Month\")"
      ]
    },
    {
      "cell_type": "code",
      "execution_count": null,
      "metadata": {
        "id": "qa80_urXGEJ8"
      },
      "outputs": [],
      "source": [
        "#NOS QUEDAMOS CON LAS COLUMNAS QUE NOS INTERESAS Y NOS VAN A APORTAR VALOR AL ANÁLISIS\n",
        "campos_meses = ['Property ID','Reporting Month', 'Bedrooms', 'Occupancy Rate', 'Revenue (USD)', 'Revenue (Native)', 'ADR (USD)', 'ADR (Native)', 'Number of Reservations', 'Reservation Days', 'Available Days', 'Blocked Days']\n",
        "datos_meses_columnas = datos_meses.loc[:, campos_meses]\n",
        "datos_meses_columnas_todo = datos_meses.loc[:, campos_meses]\n",
        "datos_meses_columnas"
      ]
    },
    {
      "cell_type": "code",
      "execution_count": null,
      "metadata": {
        "id": "iIo2ENDfzw-D"
      },
      "outputs": [],
      "source": [
        "#ANALIZAMOS LAS COLUMNAS\n",
        "datos_meses_columnas.columns"
      ]
    },
    {
      "cell_type": "markdown",
      "metadata": {
        "id": "PAIY7U_Jq4_0"
      },
      "source": [
        "VALORES AUSENTES MONTHLY"
      ]
    },
    {
      "cell_type": "code",
      "execution_count": null,
      "metadata": {
        "id": "ZJBAW1rH1Hkn"
      },
      "outputs": [],
      "source": [
        "datos_meses_columnas.groupby('Property ID').sum()"
      ]
    },
    {
      "cell_type": "markdown",
      "metadata": {
        "id": "m3FoWgUkoixE"
      },
      "source": [
        "# VALORES AUSENTES MONTHLY"
      ]
    },
    {
      "cell_type": "markdown",
      "metadata": {
        "id": "DO_BHJPaTzIh"
      },
      "source": [
        "VALORES AUSENTES"
      ]
    },
    {
      "cell_type": "code",
      "execution_count": null,
      "metadata": {
        "id": "5T6fMsitO53B"
      },
      "outputs": [],
      "source": [
        "datos_meses_columnas_ausentes_todo = datos_meses_columnas.isna().sum().reset_index()\n",
        "datos_meses_columnas_ausentes_todo.columns = ['Columna', 'Valores Ausentes']\n",
        "datos_meses_columnas_ausdatos_meses_columnas_ausentes_todoentes = datos_meses_columnas_ausentes_todo.sort_values(by='Valores Ausentes', ascending=False)\n",
        "datos_ausentes_filtrados = datos_meses_columnas_ausentes_todo[datos_meses_columnas_ausentes_todo['Valores Ausentes'] > 0]\n",
        "plt.figure(figsize=(14, 8))\n",
        "sns.barplot(y='Valores Ausentes', x='Columna',data=datos_ausentes_filtrados)\n",
        "plt.title(\"Valores ausentes en dataset monthly\")\n",
        "plt.savefig('/content/drive/MyDrive/Sergio Naranjo Fernández/FICHEROS/valores_ausentes_monthly.pdf', dpi=600, format='pdf')\n",
        "print(datos_ausentes_filtrados)"
      ]
    },
    {
      "cell_type": "markdown",
      "metadata": {
        "id": "Edr7PoTq3nBm"
      },
      "source": [
        "RELLENAMOS LOS CAMPOS NATIVE PARA ASÍ PODER TENER TODOS LOS VALORES EN LAS MISMAS UNIDADES DE EUR"
      ]
    },
    {
      "cell_type": "code",
      "execution_count": null,
      "metadata": {
        "id": "O-3N8gjZ3MWl"
      },
      "outputs": [],
      "source": [
        "tasa_de_cambio = 0.955\n",
        "datos_meses_columnas['Revenue (Native)'].fillna(datos_meses_columnas['Revenue (USD)'] * tasa_de_cambio, inplace=True)\n",
        "datos_meses_columnas['ADR (Native)'].fillna(datos_meses_columnas['ADR (USD)'] * tasa_de_cambio, inplace=True)\n",
        "datos_meses_columnas['Revenue (Native)'].round(2)\n",
        "datos_meses_columnas['ADR (Native)'].round(2)\n",
        "datos_meses_columnas"
      ]
    },
    {
      "cell_type": "code",
      "execution_count": null,
      "metadata": {
        "id": "xxkg8JdETyjO"
      },
      "outputs": [],
      "source": [
        "datos_meses_columnas_ausentes_todo = datos_meses_columnas.isna().sum().reset_index()\n",
        "datos_meses_columnas_ausentes_todo.columns = ['Columna', 'Valores Ausentes']\n",
        "datos_meses_columnas_ausdatos_meses_columnas_ausentes_todoentes = datos_meses_columnas_ausentes_todo.sort_values(by='Valores Ausentes', ascending=False)\n",
        "datos_ausentes_filtrados = datos_meses_columnas_ausentes_todo[datos_meses_columnas_ausentes_todo['Valores Ausentes'] > 0]\n",
        "plt.figure(figsize=(14, 8))\n",
        "sns.barplot(y='Valores Ausentes', x='Columna',data=datos_ausentes_filtrados)\n",
        "plt.title(\"Valores ausentes en dataset monthly tras conversión de moneda\")\n",
        "plt.savefig('/content/drive/MyDrive/Sergio Naranjo Fernández/FICHEROS/valores_ausentes_monthly_tras_filtrado.pdf', dpi=600, format='pdf')\n",
        "print(datos_ausentes_filtrados)"
      ]
    },
    {
      "cell_type": "code",
      "execution_count": null,
      "metadata": {
        "id": "ApdS2RY8rCdU"
      },
      "outputs": [],
      "source": [
        "datos_meses_columnas_ausentes2 = datos_meses_columnas\n",
        "adr_ausentes = datos_meses_columnas_ausentes2['ADR (USD)'].isnull()\n",
        "adr_ausentes_native = datos_meses_columnas_ausentes2['ADR (Native)'].isnull()\n",
        "datos_meses_columnas.loc[adr_ausentes, 'ADR (USD)']=datos_meses_columnas.loc[adr_ausentes, 'Revenue (USD)'] / datos_meses_columnas.loc[adr_ausentes, 'Reservation Days']\n",
        "datos_meses_columnas.loc[adr_ausentes_native, 'ADR (Native)']=datos_meses_columnas.loc[adr_ausentes_native, 'Revenue (Native)'] / datos_meses_columnas.loc[adr_ausentes_native, 'Reservation Days']"
      ]
    },
    {
      "cell_type": "code",
      "execution_count": null,
      "metadata": {
        "id": "usoz6N-8s53o"
      },
      "outputs": [],
      "source": [
        "datos_meses_columnas_ausentes3 = datos_meses_columnas_ausentes2.isna().sum().reset_index()\n",
        "datos_meses_columnas_ausentes3.columns = ['Columna', 'Valores Ausentes']\n",
        "datos_meses_columnas_ausentes3 = datos_meses_columnas_ausentes3.sort_values(by='Valores Ausentes', ascending=False)\n",
        "plt.figure(figsize=(14, 7))\n",
        "sns.barplot(y='Valores Ausentes', x='Columna',data=datos_meses_columnas_ausentes3)\n",
        "plt.xticks(rotation=-90)\n",
        "plt.show()"
      ]
    },
    {
      "cell_type": "markdown",
      "metadata": {
        "id": "4LA7nJcgjziz"
      },
      "source": [
        "EL SIGUIENTE DATASET, SI SE AGRUPA Y SE CALCULA EL OCCUPANCY RATE BIEN SE PUEDE SUSTITUIR POR EL SUMATORIO, CALCULAMOS BIEN EL ADR Y QUITAMOS EL MONTH Y YA TENEMOS UN DATASET COMPLETO DE CADA ALOJAMIENTO"
      ]
    },
    {
      "cell_type": "code",
      "execution_count": null,
      "metadata": {
        "id": "uWHqkZ36WxkD"
      },
      "outputs": [],
      "source": [
        "datosMonthly = datos_meses_columnas[(datos_meses_columnas['Occupancy Rate'] > 0) &\n",
        " (datos_meses_columnas['Revenue (USD)'] > 0)]"
      ]
    },
    {
      "cell_type": "code",
      "execution_count": null,
      "metadata": {
        "id": "OCizr6jAXRJD"
      },
      "outputs": [],
      "source": [
        "datosMonthly.groupby('Property ID').sum()"
      ]
    },
    {
      "cell_type": "code",
      "execution_count": null,
      "metadata": {
        "id": "nok8Q9hUum6I"
      },
      "outputs": [],
      "source": [
        "datosMonthly"
      ]
    },
    {
      "cell_type": "code",
      "execution_count": null,
      "metadata": {
        "id": "imLsou1ywVJV"
      },
      "outputs": [],
      "source": [
        "datosMonthly.describe()"
      ]
    },
    {
      "cell_type": "code",
      "execution_count": null,
      "metadata": {
        "id": "6xg1M2rRBxwa"
      },
      "outputs": [],
      "source": [
        "datos_meses_columnas_ausentes3333 = datosMonthly.isna().sum().reset_index()\n",
        "datos_meses_columnas_ausentes3333.columns = ['Columna', 'Valores Ausentes']\n",
        "datos_meses_columnas_ausentes3333 = datos_meses_columnas_ausentes3333.sort_values(by='Valores Ausentes', ascending=False)\n",
        "plt.figure(figsize=(14, 7))\n",
        "sns.barplot(y='Valores Ausentes', x='Columna',data=datos_meses_columnas_ausentes3333)\n",
        "plt.xticks(rotation=-90)\n",
        "plt.show()"
      ]
    },
    {
      "cell_type": "markdown",
      "metadata": {
        "id": "bm6ZfmHptfsx"
      },
      "source": [
        "# DATOS DIARIOS POR ALOJAMIENTO"
      ]
    },
    {
      "cell_type": "markdown",
      "metadata": {
        "id": "nIkGB7pVidMn"
      },
      "source": [
        "LISTADO POR DÍAS PARA COMPROBAR DATOS CON MONTHLY"
      ]
    },
    {
      "cell_type": "code",
      "execution_count": null,
      "metadata": {
        "id": "ZsnUR2JTngX8"
      },
      "outputs": [],
      "source": [
        "datos_diarios = pd.read_csv(\"/content/drive/MyDrive/Sergio Naranjo Fernández/DATOS/Spain-torrevieja_Daily_Match_2023-11-23.csv\")"
      ]
    },
    {
      "cell_type": "code",
      "execution_count": null,
      "metadata": {
        "id": "wKdKPz1wDMhu"
      },
      "outputs": [],
      "source": [
        "datos_diarios"
      ]
    },
    {
      "cell_type": "code",
      "execution_count": null,
      "metadata": {
        "id": "Ykpk1KfUicfi"
      },
      "outputs": [],
      "source": [
        "datos_diarios_reservados = datos_diarios[datos_diarios['Status'] == 'R']\n",
        "datos_diarios_reservados.groupby('Property ID').sum()"
      ]
    },
    {
      "cell_type": "code",
      "execution_count": null,
      "metadata": {
        "id": "jpDvqQW7DU72"
      },
      "outputs": [],
      "source": [
        "datos_diarios_reservados"
      ]
    },
    {
      "cell_type": "markdown",
      "metadata": {
        "id": "nWyg8oEEts7D"
      },
      "source": [
        "# VALORES AUSENTES DAILY"
      ]
    },
    {
      "cell_type": "markdown",
      "metadata": {
        "id": "XAA9H87NPcbg"
      },
      "source": [
        "DATASET CON DATOS DIARIOS DE TODOS LOS APARTAMENTOS PRESENTES EN LOS 3 DATASETS\n"
      ]
    },
    {
      "cell_type": "code",
      "execution_count": null,
      "metadata": {
        "id": "xHZSp2g7Yxnk"
      },
      "outputs": [],
      "source": [
        "campos_daily = ['Property ID', 'Date', 'Status', 'Price (USD)', 'Price (Native)']\n",
        "datos_diarios_reservados = datos_diarios_reservados.loc[:, campos_daily]\n",
        "datos_diarios_reservados"
      ]
    },
    {
      "cell_type": "code",
      "execution_count": null,
      "metadata": {
        "id": "uGr9MsLWt_7E"
      },
      "outputs": [],
      "source": [
        "datos_diarios_columnas_ausentes = datos_diarios_reservados.isna().sum().reset_index()\n",
        "datos_diarios_columnas_ausentes.columns = ['Columna', 'Valores Ausentes']\n",
        "datos_diarios_columnas_ausentes = datos_diarios_columnas_ausentes.sort_values(by='Valores Ausentes', ascending=False)\n",
        "datos_diarios_columnas_ausentes_filtrado = datos_diarios_columnas_ausentes[datos_diarios_columnas_ausentes['Valores Ausentes'] > 0]\n",
        "plt.figure(figsize=(14, 7))\n",
        "sns.barplot(y='Valores Ausentes', x='Columna',data=datos_diarios_columnas_ausentes_filtrado)\n",
        "plt.title(\"Valores ausentes dataset daily\")\n",
        "plt.savefig('/content/drive/MyDrive/Sergio Naranjo Fernández/FICHEROS/valores_ausentes_daily.pdf', dpi=600, format='pdf')"
      ]
    },
    {
      "cell_type": "code",
      "execution_count": null,
      "metadata": {
        "id": "0NQbN-8b8OfA"
      },
      "outputs": [],
      "source": [
        "tasa_de_cambio = 0.955\n",
        "datos_diarios_reservados['Price (Native)'].fillna(datos_diarios_reservados['Price (USD)'] * tasa_de_cambio, inplace=True)\n",
        "datos_diarios_reservados"
      ]
    },
    {
      "cell_type": "code",
      "execution_count": null,
      "metadata": {
        "id": "naLNI01T8tOD"
      },
      "outputs": [],
      "source": [
        "datos_diarios_columnas_ausentes = datos_diarios_reservados[['Property ID', 'Date', 'Status', 'Price (USD)', 'Price (Native)']].isna().sum().reset_index()\n",
        "datos_diarios_columnas_ausentes.columns = ['Columna', 'Valores Ausentes']\n",
        "datos_diarios_columnas_ausentes = datos_diarios_columnas_ausentes.sort_values(by='Valores Ausentes', ascending=False)\n",
        "datos_diarios_columnas_ausentes_filtrado2 = datos_diarios_columnas_ausentes[datos_diarios_columnas_ausentes['Valores Ausentes'] > 0]\n",
        "plt.figure(figsize=(14, 7))\n",
        "sns.barplot(y='Valores Ausentes', x='Columna',data=datos_diarios_columnas_ausentes_filtrado2)\n",
        "plt.title(\"Valores ausentes dataset daily tras conversión de moneda\")\n",
        "plt.savefig('/content/drive/MyDrive/Sergio Naranjo Fernández/FICHEROS/valores_ausentes_daily_filtrados.pdf', dpi=600, format='pdf')"
      ]
    },
    {
      "cell_type": "code",
      "execution_count": null,
      "metadata": {
        "id": "XBkTcsSS392a"
      },
      "outputs": [],
      "source": [
        "datos_diarios_reservados_unicos_sin_ausentes = datos_diarios_reservados.dropna(subset=['Price (Native)'])"
      ]
    },
    {
      "cell_type": "code",
      "execution_count": null,
      "metadata": {
        "id": "wFvGs8Uj4IhG"
      },
      "outputs": [],
      "source": [
        "datos_diarios_columnas_ausentes22 = datos_diarios_reservados_unicos_sin_ausentes[['Property ID', 'Date', 'Status', 'Price (USD)', 'Price (Native)']].isna().sum().reset_index()\n",
        "datos_diarios_columnas_ausentes22.columns = ['Columna', 'Valores Ausentes']\n",
        "datos_diarios_columnas_ausentes22 = datos_diarios_columnas_ausentes22.sort_values(by='Valores Ausentes', ascending=False)\n",
        "plt.figure(figsize=(14, 7))\n",
        "sns.barplot(y='Valores Ausentes', x='Columna',data=datos_diarios_columnas_ausentes22)\n",
        "plt.xticks(rotation=-90)\n",
        "plt.show()"
      ]
    },
    {
      "cell_type": "code",
      "execution_count": null,
      "metadata": {
        "id": "9grmhYGG4Vur"
      },
      "outputs": [],
      "source": [
        "datos_diarios_reservados.describe()"
      ]
    },
    {
      "cell_type": "code",
      "execution_count": null,
      "metadata": {
        "id": "yRFBpGP2ZtuP"
      },
      "outputs": [],
      "source": [
        "datos_diarios_reservados[['Property ID','Price (USD)', 'Price (Native)']].groupby('Property ID').sum()\n",
        "datos_filtrados222 = datos_diarios_reservados[(datos_diarios_reservados['Price (USD)'] > 1) & (datos_diarios_reservados['Price (Native)'] > 1)]\n",
        "datos_filtrados222[['Property ID','Price (USD)', 'Price (Native)']].groupby('Property ID').sum()"
      ]
    },
    {
      "cell_type": "code",
      "execution_count": null,
      "metadata": {
        "id": "y0y78A2z4aHY"
      },
      "outputs": [],
      "source": [
        "datos_filtrados222.describe()"
      ]
    },
    {
      "cell_type": "code",
      "execution_count": null,
      "metadata": {
        "id": "I6Hl6nX-bg3a"
      },
      "outputs": [],
      "source": [
        "datosDaily = datos_filtrados222\n",
        "datosTodos = datosDaily.describe()\n",
        "descriptivas_sin_mean = datosTodos.drop('min')\n",
        "descriptivas_sin_mean"
      ]
    },
    {
      "cell_type": "code",
      "execution_count": null,
      "metadata": {
        "id": "GRyE8hOe-Hy5"
      },
      "outputs": [],
      "source": [
        "indice_menor_precio = datosDaily['Price (USD)'].idxmin()\n",
        "propiedad_menor_precio = datosDaily.loc[indice_menor_precio, 'Property ID']\n",
        "propiedad_menor_precio"
      ]
    },
    {
      "cell_type": "code",
      "execution_count": null,
      "metadata": {
        "id": "-ZTzwX5h-X_w"
      },
      "outputs": [],
      "source": [
        "datosDaily[datosDaily['Property ID'] == 'ha-10154190ha'].describe()"
      ]
    },
    {
      "cell_type": "code",
      "execution_count": null,
      "metadata": {
        "id": "5XRF3IOnOgEB"
      },
      "outputs": [],
      "source": [
        "#le añado una columna con un valor de conteo\n",
        "datos_diarios_reservados_unicos_sin_ausentes = datos_filtrados222\n",
        "datos_diarios_reservados_unicos_sin_ausentes['conteo'] = 1\n",
        "#los agrupo por property id\n",
        "datos_diarios_reservados_unicos_conteo = datos_diarios_reservados_unicos_sin_ausentes.groupby('Property ID').sum().reset_index()\n",
        "#ahora tenemos el total de ingresos de cada apartamento y el total de días de cada apartamento\n",
        "\n",
        "#creamos columna para sacar el precio medio de alquiler de cada apartamento\n",
        "datos_diarios_reservados_unicos_conteo['Precio Medio'] = datos_diarios_reservados_unicos_conteo['Price (Native)'] / datos_diarios_reservados_unicos_conteo['conteo']\n",
        "datos_diarios_reservados_unicos_conteo[['Property ID', 'Precio Medio']]"
      ]
    },
    {
      "cell_type": "code",
      "execution_count": null,
      "metadata": {
        "id": "UfpLpnTF6qQn"
      },
      "outputs": [],
      "source": [
        "datos_diarios_reservados_unicos_conteo.describe()"
      ]
    },
    {
      "cell_type": "code",
      "execution_count": null,
      "metadata": {
        "id": "AMVhENiI-vUO"
      },
      "outputs": [],
      "source": [
        "datos_finales_finales_properties = datos_diarios_reservados_unicos_conteo['Property ID']\n",
        "datos_finales_finales_properties"
      ]
    },
    {
      "cell_type": "code",
      "execution_count": null,
      "metadata": {
        "id": "YsSaDvQh5Km5"
      },
      "outputs": [],
      "source": [
        "solo_precio = datos_diarios_reservados_unicos_conteo[['Property ID', 'Precio Medio']]\n",
        "solo_precio"
      ]
    },
    {
      "cell_type": "markdown",
      "metadata": {
        "id": "mCxjt7ADxsZn"
      },
      "source": [
        "# DATOS DE CADA ALOJAMIENTO"
      ]
    },
    {
      "cell_type": "markdown",
      "metadata": {
        "id": "AkfkaVRJJIo_"
      },
      "source": [
        "DATOS DE CADA UNO DE LOS ALOJAMIENTOS"
      ]
    },
    {
      "cell_type": "code",
      "execution_count": null,
      "metadata": {
        "id": "5k8LDYrBJUqf"
      },
      "outputs": [],
      "source": [
        "datos_propiedades = pd.read_csv(\"/content/drive/MyDrive/Sergio Naranjo Fernández/DATOS/Spain-torrevieja_Property_Extended_Match_2023-11-23.csv\")\n",
        "datos_propiedades"
      ]
    },
    {
      "cell_type": "code",
      "source": [
        "valores_unicos = datos_propiedades['Cancellation Policy'].unique()\n",
        "valores_unicos"
      ],
      "metadata": {
        "id": "crSf56l0eRtS"
      },
      "execution_count": null,
      "outputs": []
    },
    {
      "cell_type": "code",
      "execution_count": null,
      "metadata": {
        "id": "Vn2ajVLBP6ri"
      },
      "outputs": [],
      "source": [
        "prueba_cleaning_fee = datos_propiedades[['Property ID','Cleaning Fee (USD)']]"
      ]
    },
    {
      "cell_type": "code",
      "execution_count": null,
      "metadata": {
        "id": "yyz-2OviVa92"
      },
      "outputs": [],
      "source": [
        "datos_propiedades.columns"
      ]
    },
    {
      "cell_type": "code",
      "source": [
        "estancia_minima = datos_propiedades[['Property ID','Minimum Stay']]"
      ],
      "metadata": {
        "id": "4ApudbVIPt3S"
      },
      "execution_count": null,
      "outputs": []
    },
    {
      "cell_type": "markdown",
      "metadata": {
        "id": "h6faRoWkLleO"
      },
      "source": [
        "# VALORES AUSENTES PROPERTY"
      ]
    },
    {
      "cell_type": "markdown",
      "metadata": {
        "id": "99s3JnqZayW0"
      },
      "source": [
        "VALORES AUSENTES PROPERTY"
      ]
    },
    {
      "cell_type": "code",
      "execution_count": null,
      "metadata": {
        "id": "c30CQzQhaxZA"
      },
      "outputs": [],
      "source": [
        "valores_ausentes_property = datos_propiedades.isna().sum().reset_index()\n",
        "valores_ausentes_property.columns = ['Columna', 'Valores Ausentes']\n",
        "valores_ausentes_property = valores_ausentes_property[(valores_ausentes_property['Valores Ausentes'] > 0) & (valores_ausentes_property['Valores Ausentes'] <= 10000)]\n",
        "valores_ausentes_property = valores_ausentes_property.sort_values(by='Valores Ausentes', ascending=False)\n",
        "plt.figure(figsize=(14, 7))\n",
        "sns.barplot(y='Valores Ausentes', x='Columna',data=valores_ausentes_property)\n",
        "plt.xticks(rotation=-90)\n",
        "plt.show()"
      ]
    },
    {
      "cell_type": "code",
      "execution_count": null,
      "metadata": {
        "id": "d4lZEH6LVnUR"
      },
      "outputs": [],
      "source": [
        "#NOS QUEDAMOS CON LAS COLUMNAS QUE NOS APORTAN VALOR AL ANÁLISIS\n",
        "campos_properties = ['Property ID', 'Property Type','Listing Type', 'Created Date', 'Occupancy Rate LTM', 'Bedrooms', 'Bathrooms', 'Max Guests', 'Response Rate', 'Extra People Fee (USD)', 'Number of Photos', 'Latitude', 'Longitude', 'Amenities', 'Minimum Stay', 'Cancellation Policy', 'Pets Allowed']"
      ]
    },
    {
      "cell_type": "code",
      "execution_count": null,
      "metadata": {
        "id": "OLRSFTRbXDC5"
      },
      "outputs": [],
      "source": [
        "datos_properties_columnas = datos_propiedades.loc[:, campos_properties]\n",
        "datos_properties_columnas"
      ]
    },
    {
      "cell_type": "code",
      "execution_count": null,
      "metadata": {
        "id": "JrvC03HzPSL7"
      },
      "outputs": [],
      "source": [
        "datos_properties_columnas2 = datos_properties_columnas\n",
        "datos_properties_columnas2[(datos_properties_columnas2['Bedrooms'] > 0) & (datos_properties_columnas2['Bathrooms'] > 0) & (datos_properties_columnas2['Max Guests'] > 0)]\n",
        "datos_properties_columnas2"
      ]
    },
    {
      "cell_type": "code",
      "execution_count": null,
      "metadata": {
        "id": "uAc9gPvnA52h"
      },
      "outputs": [],
      "source": [
        "datos_properties_columnas[(datos_properties_columnas['Bedrooms'] == 0) | (datos_properties_columnas['Bathrooms'] == 0)]"
      ]
    },
    {
      "cell_type": "code",
      "execution_count": null,
      "metadata": {
        "id": "17s1bepA1Tu6"
      },
      "outputs": [],
      "source": [
        "valores_ausentes_property_columnas = datos_properties_columnas.isna().sum().reset_index()\n",
        "valores_ausentes_property_columnas.columns = ['Columna', 'Valores Ausentes']\n",
        "valores_ausentes_property_columnas = valores_ausentes_property_columnas[valores_ausentes_property_columnas['Valores Ausentes'] > 0]\n",
        "valores_ausentes_property_columnas = valores_ausentes_property_columnas.sort_values(by='Valores Ausentes', ascending=False)\n",
        "plt.figure(figsize=(14, 7))\n",
        "sns.barplot(y='Valores Ausentes', x='Columna', data=valores_ausentes_property_columnas)\n",
        "plt.title('Valores ausentes en dataset property')\n",
        "plt.savefig('/content/drive/MyDrive/Sergio Naranjo Fernández/FICHEROS/valores_ausentes_property.pdf', dpi=300, format='pdf')\n",
        "print(valores_ausentes_property_columnas)"
      ]
    },
    {
      "cell_type": "code",
      "execution_count": null,
      "metadata": {
        "id": "78nyYg5aJKGN"
      },
      "outputs": [],
      "source": [
        "datos_properties_columnas_completadas = datos_properties_columnas\n",
        "datos_properties_columnas_completadas['Property Type'].fillna('Apartment', inplace=True)\n",
        "datos_properties_columnas_completadas['Listing Type'].fillna('Entire home/apt', inplace=True)\n",
        "datos_properties_columnas_completadas = datos_properties_columnas_completadas[datos_properties_columnas_completadas['Number of Photos'].notnull()]\n",
        "\n",
        "valores_ausentes_property_columnas_completadas = datos_properties_columnas_completadas.isna().sum().reset_index()\n",
        "valores_ausentes_property_columnas_completadas.columns = ['Columna', 'Valores Ausentes']\n",
        "valores_ausentes_property_columnas_completadas = valores_ausentes_property_columnas_completadas[valores_ausentes_property_columnas_completadas['Valores Ausentes'] > 0]\n",
        "valores_ausentes_property_columnas_completadas = valores_ausentes_property_columnas_completadas.sort_values(by='Valores Ausentes', ascending=False)\n",
        "plt.figure(figsize=(14, 7))\n",
        "sns.barplot(y='Valores Ausentes', x='Columna', data=valores_ausentes_property_columnas_completadas)\n",
        "plt.title('Valores ausentes en dataset property')\n",
        "plt.savefig('/content/drive/MyDrive/Sergio Naranjo Fernández/FICHEROS/valores_ausentes_property.pdf', dpi=300, format='pdf')\n",
        "print(valores_ausentes_property_columnas_completadas)"
      ]
    },
    {
      "cell_type": "markdown",
      "metadata": {
        "id": "MToWrgr7Lv9Y"
      },
      "source": [
        "# MODIFICACION DE DATOS, GENERACIÓN DE NUEVAS COLUMNAS Y ELIMINACION DE DATOS INCONGRUENTES"
      ]
    },
    {
      "cell_type": "markdown",
      "metadata": {
        "id": "blQBAI_dxx3o"
      },
      "source": [
        "ELIMINAMOS ALOJAMIENTOS CON 0 BAÑOS Y 0 HABITACIONES"
      ]
    },
    {
      "cell_type": "markdown",
      "metadata": {
        "id": "e7KWoDaRLA4Q"
      },
      "source": [
        "AHORA TENEMOS EL DATASET datos_properties_columnas_completadas EL CUAL ES EL QUE TIENE VALORES COMPLETADOS"
      ]
    },
    {
      "cell_type": "code",
      "execution_count": null,
      "metadata": {
        "id": "UeWwNd_3mfei"
      },
      "outputs": [],
      "source": [
        "alojamientos_cero = datos_propiedades[\n",
        "    (datos_propiedades['Bedrooms'] == 0) |\n",
        "    (datos_propiedades['Bathrooms'] == 0) |\n",
        "    (datos_propiedades['Max Guests'] == 0)\n",
        "]\n",
        "resumen = alojamientos_cero[['Bedrooms', 'Bathrooms', 'Max Guests']].describe()\n",
        "resumen"
      ]
    },
    {
      "cell_type": "code",
      "execution_count": null,
      "metadata": {
        "id": "csEPkDYWGyAr"
      },
      "outputs": [],
      "source": [
        "datos_propiedades[datos_propiedades['Bathrooms'] == 0]"
      ]
    },
    {
      "cell_type": "code",
      "execution_count": null,
      "metadata": {
        "id": "FpybCzoyG6rj"
      },
      "outputs": [],
      "source": [
        "datos_propiedades[datos_propiedades['Bedrooms'] == 0]"
      ]
    },
    {
      "cell_type": "code",
      "execution_count": null,
      "metadata": {
        "id": "qjwNDxlHG-BZ"
      },
      "outputs": [],
      "source": [
        "datos_propiedades[datos_propiedades['Max Guests'] == 0]"
      ]
    },
    {
      "cell_type": "code",
      "execution_count": null,
      "metadata": {
        "id": "tDRYg3U9yCgm"
      },
      "outputs": [],
      "source": [
        "datos_properties_columnas_completadas = datos_properties_columnas_completadas[(datos_properties_columnas_completadas['Bathrooms'] != 0) & (datos_properties_columnas_completadas['Bedrooms'] != 0) & (datos_properties_columnas_completadas['Max Guests'] != 0)]"
      ]
    },
    {
      "cell_type": "markdown",
      "metadata": {
        "id": "__VZEbT0ZFDW"
      },
      "source": [
        "DATASET MODIFICADO Y TRANSFORMADO CON TODAS LAS VARIABLES NECESARIAS A ANALIZAR"
      ]
    },
    {
      "cell_type": "markdown",
      "metadata": {
        "id": "c-prMLWSiMeb"
      },
      "source": [
        "AÑADIMOS 1 O 0 EN CASO DE QUE HAYA EXTRA PEOPLE FEE"
      ]
    },
    {
      "cell_type": "code",
      "execution_count": null,
      "metadata": {
        "id": "vQCEbFy1iB1C"
      },
      "outputs": [],
      "source": [
        "transformacion = lambda x: 1 if pd.notnull(x) else 0\n",
        "datos_properties_columnas_completadas['Extra People Fee (USD)'] = datos_properties_columnas_completadas['Extra People Fee (USD)'].apply(transformacion)\n",
        "datos_properties_columnas_completadas"
      ]
    },
    {
      "cell_type": "markdown",
      "metadata": {
        "id": "XzIxyp0YlE6w"
      },
      "source": [
        "AÑADIMOS AÑO DE CREACIÓN EN LAS PLATAFORMAS"
      ]
    },
    {
      "cell_type": "code",
      "source": [
        "fecha_minima_por_alojamiento = datos_diarios.groupby('Property ID')['Date'].min().reset_index()\n",
        "fecha_minima_por_alojamiento.columns = ['Property ID', 'Fecha Minima']\n",
        "fecha_minima_por_alojamiento"
      ],
      "metadata": {
        "id": "B2s7UxlVSAWd"
      },
      "execution_count": null,
      "outputs": []
    },
    {
      "cell_type": "code",
      "source": [
        "datos_properties_columnas_completadas = pd.merge(datos_properties_columnas_completadas,fecha_minima_por_alojamiento , on='Property ID', how='left')\n",
        "datos_properties_columnas_completadas['Created Date'] = datos_properties_columnas_completadas['Created Date'].fillna(datos_properties_columnas_completadas['Fecha Minima'])\n",
        "datos_properties_columnas_completadas = datos_properties_columnas_completadas.drop(columns=['Fecha Minima'])\n",
        "datos_properties_columnas_completadas"
      ],
      "metadata": {
        "id": "jm1XAkSFUzBd"
      },
      "execution_count": null,
      "outputs": []
    },
    {
      "cell_type": "code",
      "execution_count": null,
      "metadata": {
        "id": "pzwREFezkv8p"
      },
      "outputs": [],
      "source": [
        "datos_properties_columnas_completadas['Created Date'] = pd.to_datetime(datos_properties_columnas_completadas['Created Date'])\n",
        "datos_properties_columnas_completadas['Año Creacion'] = datos_properties_columnas_completadas['Created Date'].dt.strftime('%Y')\n",
        "datos_properties_columnas_completadas"
      ]
    },
    {
      "cell_type": "markdown",
      "metadata": {
        "id": "NzSWKX7MlQHw"
      },
      "source": [
        "AÑADIMOS COLUMNAS BOOLEANAS DE SERVICIOS MAS DESTACADOS QUE OFREZCAN LOS ALOJAMIENTOS"
      ]
    },
    {
      "cell_type": "code",
      "execution_count": null,
      "metadata": {
        "id": "KedgtBy7lV4o"
      },
      "outputs": [],
      "source": [
        "#Añadimos pool, elevator/lift, parking, internet, tv, private pool, aire acondicionado\n",
        "datos_properties_columnas_completadas['Pool'] = 0\n",
        "datos_properties_columnas_completadas.loc[datos_properties_columnas_completadas['Amenities'].str.contains('pool', case=False), 'Pool'] = 1\n",
        "\n",
        "datos_properties_columnas_completadas['Lift/Elevator'] = 0\n",
        "datos_properties_columnas_completadas.loc[datos_properties_columnas_completadas['Amenities'].str.contains('lift|elevator', case=False), 'Lift/Elevator'] = 1\n",
        "\n",
        "datos_properties_columnas_completadas['Parking'] = 0\n",
        "datos_properties_columnas_completadas.loc[datos_properties_columnas_completadas['Amenities'].str.contains('parking', case=False), 'Parking'] = 1\n",
        "\n",
        "datos_properties_columnas_completadas['Internet'] = 0\n",
        "datos_properties_columnas_completadas.loc[datos_properties_columnas_completadas['Amenities'].str.contains('internet|ethernet', case=False), 'Internet'] = 1\n",
        "\n",
        "datos_properties_columnas_completadas['TV'] = 0\n",
        "datos_properties_columnas_completadas.loc[datos_properties_columnas_completadas['Amenities'].str.contains('tv|TV', case=False), 'TV'] = 1\n",
        "\n",
        "datos_properties_columnas_completadas['Private Pool'] = 0\n",
        "datos_properties_columnas_completadas.loc[datos_properties_columnas_completadas['Amenities'].str.contains('private pool', case=False), 'Private Pool'] = 1\n",
        "\n",
        "datos_properties_columnas_completadas['Ac'] = 0\n",
        "datos_properties_columnas_completadas.loc[datos_properties_columnas_completadas['Amenities'].str.contains('ac', case=False), 'Ac'] = 1\n",
        "\n",
        "datos_properties_columnas_completadas"
      ]
    },
    {
      "cell_type": "markdown",
      "source": [
        "ASIGNAR A LOS NAN DE CREATED DATE LA MINIMA FECHA QUE FIGURAN EN EL DIARIO"
      ],
      "metadata": {
        "id": "euy9mKQqROx_"
      }
    },
    {
      "cell_type": "code",
      "source": [
        "alojamientos_sin_created_date = datos_properties_columnas_completadas[datos_properties_columnas_completadas['Created Date'].isna()]\n",
        "alojamientos_sin_created_date"
      ],
      "metadata": {
        "id": "2CkHKwEtROFI"
      },
      "execution_count": null,
      "outputs": []
    },
    {
      "cell_type": "code",
      "execution_count": null,
      "metadata": {
        "id": "vd_CYfDtNrT_"
      },
      "outputs": [],
      "source": [
        "datos_properties_columnas_completadas.columns\n",
        "columnas_df = pd.DataFrame(datos_properties_columnas_completadas.columns, columns=['COLUMNAS PROPERTY'])\n",
        "print(columnas_df)"
      ]
    },
    {
      "cell_type": "code",
      "execution_count": null,
      "metadata": {
        "id": "kmotybYcO6Ih"
      },
      "outputs": [],
      "source": [
        "datosProperties = datos_properties_columnas_completadas"
      ]
    },
    {
      "cell_type": "markdown",
      "metadata": {
        "id": "VodMcnuFMOZx"
      },
      "source": [
        "# MERGE DATOS PROPERTY"
      ]
    },
    {
      "cell_type": "code",
      "execution_count": null,
      "metadata": {
        "id": "nM_rmUQgbYhP"
      },
      "outputs": [],
      "source": [
        "datosProperties\n",
        "#datosMonthly['Reporting Month'] = datosMonthly['Reporting Month'].astype(str)\n",
        "datosMonthlyReset = datosMonthly.groupby('Property ID').sum().reset_index()\n",
        "datosDailyReset = datosDaily.groupby('Property ID').sum().reset_index()\n",
        "\n",
        "datos_properties_monthly = pd.merge(datosProperties, datosMonthlyReset, on=\"Property ID\", how=\"inner\")\n",
        "datos_properties_monthly\n",
        "datos_properties_monthly_daily = pd.merge(datos_properties_monthly, datosDailyReset, on=\"Property ID\", how=\"inner\")\n",
        "datos_properties_monthly_daily"
      ]
    },
    {
      "cell_type": "code",
      "execution_count": null,
      "metadata": {
        "id": "xWdkGN8GFP5a"
      },
      "outputs": [],
      "source": [
        "existen_duplicados = datos_properties_monthly_daily.duplicated().any()\n",
        "existen_duplicados"
      ]
    },
    {
      "cell_type": "code",
      "execution_count": null,
      "metadata": {
        "id": "t-jyBpuAdH6G"
      },
      "outputs": [],
      "source": [
        "datosAlojamientos = datos_properties_monthly_daily['Property ID']\n",
        "datosAlojamientos"
      ]
    },
    {
      "cell_type": "markdown",
      "metadata": {
        "id": "U7vkAvc0OaPR"
      },
      "source": [
        "DATOS PROPERTY"
      ]
    },
    {
      "cell_type": "code",
      "execution_count": null,
      "metadata": {
        "id": "lP75TZjvOdas"
      },
      "outputs": [],
      "source": [
        "datosPropertyMerge = pd.merge(datosAlojamientos, datosProperties, on=\"Property ID\", how=\"inner\")\n",
        "datosPropertyMerge"
      ]
    },
    {
      "cell_type": "code",
      "execution_count": null,
      "metadata": {
        "id": "jnzTSY79Otoz"
      },
      "outputs": [],
      "source": [
        "datosMonthlyMerge = pd.merge(datosAlojamientos, datosMonthly, on=\"Property ID\", how=\"inner\")\n",
        "datosMonthlyMerge.groupby(\"Property ID\").sum()"
      ]
    },
    {
      "cell_type": "code",
      "execution_count": null,
      "metadata": {
        "id": "e6yh3L4IPE44"
      },
      "outputs": [],
      "source": [
        "datosDailyMerge = pd.merge(datosAlojamientos, datosDaily, on=\"Property ID\", how=\"inner\")\n",
        "datosDailyMerge.groupby(\"Property ID\").sum()"
      ]
    },
    {
      "cell_type": "code",
      "source": [
        "datos_properties_columnas_completadas_merge = pd.merge(datos_properties_columnas_completadas, datosAlojamientos, on='Property ID', how='inner')\n",
        "valores_ausentes_property_columnas_completadas = datos_properties_columnas_completadas_merge.isna().sum().reset_index()\n",
        "valores_ausentes_property_columnas_completadas.columns = ['Columna', 'Valores Ausentes']\n",
        "valores_ausentes_property_columnas_completadas = valores_ausentes_property_columnas_completadas[valores_ausentes_property_columnas_completadas['Valores Ausentes'] > 0]\n",
        "valores_ausentes_property_columnas_completadas = valores_ausentes_property_columnas_completadas.sort_values(by='Valores Ausentes', ascending=False)\n",
        "plt.figure(figsize=(14, 7))\n",
        "sns.barplot(y='Valores Ausentes', x='Columna', data=valores_ausentes_property_columnas_completadas)\n",
        "plt.title('Valores ausentes en dataset property')\n",
        "plt.savefig('/content/drive/MyDrive/Sergio Naranjo Fernández/FICHEROS/valores_ausentes_property.pdf', dpi=300, format='pdf')\n",
        "print(valores_ausentes_property_columnas_completadas)"
      ],
      "metadata": {
        "id": "_dPRs0bRnz3c"
      },
      "execution_count": null,
      "outputs": []
    },
    {
      "cell_type": "code",
      "source": [
        "filas_con_nulos_creado = datos_properties_columnas_completadas['Created Date'].isnull().sum()\n",
        "filas_con_nulos_creado"
      ],
      "metadata": {
        "id": "F3jjQvFPn8Q3"
      },
      "execution_count": null,
      "outputs": []
    },
    {
      "cell_type": "markdown",
      "metadata": {
        "id": "0beIImsyaAPr"
      },
      "source": [
        "# ANÁLSISI DE LAS COLUMNAS DE LOS ALOJAMIENTOS PRESENTES EN TODOS LOS DATASETS"
      ]
    },
    {
      "cell_type": "code",
      "execution_count": null,
      "metadata": {
        "id": "5d1FxzP75qma"
      },
      "outputs": [],
      "source": [
        "datos_properties_precio_medio = pd.merge(datosProperties, solo_precio, on=\"Property ID\", how=\"inner\")\n",
        "datos_properties_precio_medio"
      ]
    },
    {
      "cell_type": "code",
      "execution_count": null,
      "metadata": {
        "id": "8OoJ3gOJnXVd"
      },
      "outputs": [],
      "source": [
        "datos_completos_properties_finales = pd.merge(datosProperties, datosAlojamientos, on=\"Property ID\", how=\"inner\")\n",
        "limite = 10\n",
        "datos_completos_properties_finales['Max Guests Group'] = datos_completos_properties_finales['Max Guests'].apply(lambda x: '> ' + str(limite) if x > limite else str(x))\n",
        "\n",
        "max_guests = datos_completos_properties_finales['Max Guests Group']\n",
        "plt.figure(figsize=(14,7))\n",
        "sns.countplot(x='Max Guests Group', data=datos_completos_properties_finales, order=datos_completos_properties_finales['Max Guests Group'].value_counts().index)\n",
        "plt.xlabel('Máximo de personas')\n",
        "plt.ylabel('Número de alojamientos')\n",
        "plt.title('Máximo de personas por alojamiento', fontsize = 20, pad=10)\n",
        "plt.show()"
      ]
    },
    {
      "cell_type": "code",
      "execution_count": null,
      "metadata": {
        "id": "0mflL3iOGt5f"
      },
      "outputs": [],
      "source": [
        "import pandas as pd\n",
        "import seaborn as sns\n",
        "import matplotlib.pyplot as plt\n",
        "\n",
        "orden_max_guests = [str(i) for i in range(1, 11)] + ['> 10']\n",
        "\n",
        "plt.figure(figsize=(14, 7))\n",
        "sns.countplot(x='Max Guests Group', data=datos_completos_properties_finales, order=orden_max_guests)\n",
        "plt.xlabel('Máximo de personas')\n",
        "plt.ylabel('Frecuencia')\n",
        "plt.title('Máximo de personas por alojamiento', fontsize=20, pad=10)\n",
        "plt.savefig('/content/drive/MyDrive/Sergio Naranjo Fernández/FICHEROS/max_guests.pdf', dpi=300, format='pdf')"
      ]
    },
    {
      "cell_type": "code",
      "source": [
        "datos_completos_properties_finales[ datos_completos_properties_finales['Max Guests'] == 4]"
      ],
      "metadata": {
        "id": "Xi-lQfL8OUBt"
      },
      "execution_count": null,
      "outputs": []
    },
    {
      "cell_type": "markdown",
      "metadata": {
        "id": "FS4VPcY1I5XM"
      },
      "source": [
        "MEDIA DE MÁXIMO DE HUÉSPEDES POR ALOJAMIENTO"
      ]
    },
    {
      "cell_type": "code",
      "execution_count": null,
      "metadata": {
        "id": "XThYwlJoI5Lp"
      },
      "outputs": [],
      "source": [
        "datos_completos_properties_finales['Max Guests'].describe()"
      ]
    },
    {
      "cell_type": "code",
      "execution_count": null,
      "metadata": {
        "id": "n8Gm94-vhz3c"
      },
      "outputs": [],
      "source": [
        "limite = 12\n",
        "datos_completos_properties_finales['Max Guests Group'] = datos_completos_properties_finales['Max Guests'].apply(lambda x: '> ' + str(limite) if x > limite else str(x))\n",
        "datos_completos_properties_finales[datos_completos_properties_finales['Max Guests'] < 20][['Max Guests', 'Max Guests Group']].value_counts()"
      ]
    },
    {
      "cell_type": "code",
      "source": [
        "datos_completos_properties_finales_sin14 = datos_completos_properties_finales[datos_completos_properties_finales['Bedrooms'] != 14]"
      ],
      "metadata": {
        "id": "79Y-LqPKhvE6"
      },
      "execution_count": null,
      "outputs": []
    },
    {
      "cell_type": "code",
      "execution_count": null,
      "metadata": {
        "id": "LFe3N4RJn5VC"
      },
      "outputs": [],
      "source": [
        "import pandas as pd\n",
        "import seaborn as sns\n",
        "import matplotlib.pyplot as plt\n",
        "\n",
        "plt.figure(figsize=(14, 7))\n",
        "orden_max_guests = [str(i) for i in range(1, 8)]\n",
        "sns.countplot(x='Bedrooms', data=datos_completos_properties_finales_sin14, order=orden_max_guests, palette={'#5c7fb9'})\n",
        "\n",
        "\n",
        "plt.xlabel('Habitaciones')\n",
        "plt.ylabel('Frecuencia')\n",
        "plt.gca().yaxis.grid(True, linestyle='-', linewidth=0.5, color='grey')\n",
        "plt.title('Número de habitaciones por alojamiento', fontsize = 20, pad = 10)\n",
        "plt.savefig('/content/drive/MyDrive/Sergio Naranjo Fernández/FICHEROS/habitaciones_por_alojamiento.pdf', dpi=300, format='pdf')"
      ]
    },
    {
      "cell_type": "markdown",
      "metadata": {
        "id": "NwBRMNF7JppO"
      },
      "source": [
        "NÚMERO MEDIO DE HABITACIONES POR ALOJAMIENTO"
      ]
    },
    {
      "cell_type": "code",
      "execution_count": null,
      "metadata": {
        "id": "_XBFtghVJvxE"
      },
      "outputs": [],
      "source": [
        "datos_completos_properties_finales[datos_completos_properties_finales['Bedrooms'] > 0]['Bedrooms'].describe()"
      ]
    },
    {
      "cell_type": "code",
      "execution_count": null,
      "metadata": {
        "id": "xtsgDVC8Gr5W"
      },
      "outputs": [],
      "source": [
        "datos_completos_properties_sin_habitacion = datos_completos_properties_finales[datos_completos_properties_finales['Bedrooms'] == 5]\n",
        "datos_completos_properties_sin_habitacion[['Property ID', 'Listing Type', 'Property Type', 'Bedrooms', 'Bathrooms']]"
      ]
    },
    {
      "cell_type": "code",
      "execution_count": null,
      "metadata": {
        "id": "3eGQCsDiobij"
      },
      "outputs": [],
      "source": [
        "plt.figure(figsize=(14, 7))\n",
        "datos_completos_properties_sin_baños_0 = datos_completos_properties_finales\n",
        "\n",
        "limite = 3\n",
        "datos_completos_properties_sin_baños_0['Max Baños'] = datos_completos_properties_sin_baños_0['Bathrooms'].apply(lambda x: '> ' + str(limite) if x > limite else str(x))\n",
        "\n",
        "orden_max_guests = ['0.5', '1.0', '1.5', '2.0', '2.5', '3.0', '> 3']\n",
        "sns.countplot(x='Max Baños', data=datos_completos_properties_sin_baños_0, order=orden_max_guests)\n",
        "plt.xlabel('Baños')\n",
        "plt.ylabel('Frecuencia')\n",
        "plt.title('Número de baños por alojamiento', fontsize = 20, pad = 10)\n",
        "plt.savefig('/content/drive/MyDrive/Sergio Naranjo Fernández/FICHEROS/baños_por_alojamiento.pdf', dpi=300, format='pdf')"
      ]
    },
    {
      "cell_type": "code",
      "execution_count": null,
      "metadata": {
        "id": "k08lCbXnqQd_"
      },
      "outputs": [],
      "source": [
        "datos_completos_properties_sin_baños_0['Bathrooms'].value_counts()"
      ]
    },
    {
      "cell_type": "code",
      "execution_count": null,
      "metadata": {
        "id": "20-eoR9BMZDg"
      },
      "outputs": [],
      "source": [
        "datos_completos_properties_sin_habitacion = datos_completos_properties_finales[datos_completos_properties_finales['Bathrooms'] == 5]\n",
        "datos_completos_properties_sin_habitacion[['Property ID', 'Listing Type', 'Property Type', 'Bedrooms', 'Bathrooms']]"
      ]
    },
    {
      "cell_type": "markdown",
      "metadata": {
        "id": "EoeCv38KKMrb"
      },
      "source": [
        "NÚMERO MEDIO DE BAÑOS POR ALOJAMIENTO"
      ]
    },
    {
      "cell_type": "code",
      "execution_count": null,
      "metadata": {
        "id": "NAFTIFvaKQCP"
      },
      "outputs": [],
      "source": [
        "datos_completos_properties_finales[datos_completos_properties_finales['Bathrooms'] > 0]['Bathrooms'].describe()"
      ]
    },
    {
      "cell_type": "code",
      "execution_count": null,
      "metadata": {
        "id": "Ac2OPhKGYRlH"
      },
      "outputs": [],
      "source": [
        "datos_completos_properties_finales[datos_completos_properties_finales['Bathrooms'] == 0][['Property Type','Bathrooms']]"
      ]
    },
    {
      "cell_type": "code",
      "execution_count": null,
      "metadata": {
        "id": "CdfjvbSKqiAv"
      },
      "outputs": [],
      "source": [
        "plt.figure(figsize=(14,7))\n",
        "sns.countplot(x='Listing Type', data=datos_completos_properties_finales)\n",
        "plt.xlabel('Tipo de propiedad')\n",
        "plt.ylabel('Frecuencia')\n",
        "plt.title('Cantidad de alojamientos por tipo de propiedad', fontsize = 20, pad = 10)\n",
        "plt.savefig('/content/drive/MyDrive/Sergio Naranjo Fernández/FICHEROS/tipos_de_propiedad.pdf', dpi=300, format='pdf')"
      ]
    },
    {
      "cell_type": "code",
      "execution_count": null,
      "metadata": {
        "id": "Yrnounqq2Un2"
      },
      "outputs": [],
      "source": [
        "text = ' '.join(datos_completos_properties_finales['Property Type'].astype(str))\n",
        "wordcloud = WordCloud(width=800, height=400, background_color='white').generate(text)\n",
        "\n",
        "plt.figure(figsize=(14, 6))\n",
        "plt.imshow(wordcloud, interpolation='bilinear')\n",
        "plt.axis('off')\n",
        "plt.title('Nube de palabras tipo de propiedad', fontsize = 20, pad=20)\n",
        "plt.savefig('/content/drive/MyDrive/Sergio Naranjo Fernández/FICHEROS/wordlcloud_property_type.pdf', dpi=300, format='pdf')"
      ]
    },
    {
      "cell_type": "code",
      "execution_count": null,
      "metadata": {
        "id": "Ji9YgKp-4XGJ"
      },
      "outputs": [],
      "source": [
        "datos_completos_properties_finales['Property Type'].value_counts()"
      ]
    },
    {
      "cell_type": "code",
      "execution_count": null,
      "metadata": {
        "id": "c0xZuYOZZKvZ"
      },
      "outputs": [],
      "source": [
        "text = ' '.join(datos_completos_properties_finales['Amenities'].astype(str))\n",
        "wordcloud = WordCloud(width=800, height=400, background_color='white', max_words=50).generate(text)\n",
        "\n",
        "plt.figure(figsize=(14, 6))\n",
        "plt.imshow(wordcloud, interpolation='bilinear')\n",
        "plt.title('Nube de palabras comunes en servicios por alojamiento', fontsize = 20, pad=20)\n",
        "plt.axis('off')\n",
        "plt.savefig('/content/drive/MyDrive/Sergio Naranjo Fernández/FICHEROS/wordlcloud_servicios_comunes.pdf', dpi=300, format='pdf')\n",
        "\n",
        "word_list = list(wordcloud.words_.keys())\n",
        "unique_words = set(word_list)\n",
        "\n",
        "print(\"Cantidad de palabras diferentes:\", len(unique_words))"
      ]
    },
    {
      "cell_type": "markdown",
      "metadata": {
        "id": "sdKq_7o8BaHD"
      },
      "source": [
        "DESGLOSAMOS AMENITIES EN TODAS LAS COLUMNAS POSIBLES"
      ]
    },
    {
      "cell_type": "code",
      "execution_count": null,
      "metadata": {
        "id": "3Es0ZbIsBdm7"
      },
      "outputs": [],
      "source": [
        "datos_properties_transformados2 = datos_completos_properties_finales\n",
        "\n",
        "amenities_unicos = set()\n",
        "for amenities_lista in datos_properties_transformados2['Amenities']:\n",
        "    amenities_unicos.update(amenities_lista.split(','))\n",
        "\n",
        "amenities_unicos\n",
        "\n",
        "for amenitie in amenities_unicos:\n",
        "    datos_properties_transformados2[amenitie.strip()] = 0\n",
        "\n",
        "for index, row in datos_properties_transformados2.iterrows():\n",
        "    for amenitie in row['Amenities'].split(','):\n",
        "        datos_properties_transformados2.at[index, amenitie.strip()] = 1\n",
        "\n",
        "datos_properties_transformados2"
      ]
    },
    {
      "cell_type": "code",
      "execution_count": null,
      "metadata": {
        "id": "LGqw-6akDF3J"
      },
      "outputs": [],
      "source": [
        "columnas_int = datos_properties_transformados2.select_dtypes(include='int')\n",
        "frecuencia_amenities = columnas_int.sum()\n",
        "total_alojamientos = len(datos_properties_transformados2)\n",
        "\n",
        "porcentaje_amenities = (frecuencia_amenities / total_alojamientos) * 100\n",
        "\n",
        "porcentaje_amenities\n",
        "\n",
        "amenities_mayor_50 = porcentaje_amenities[(porcentaje_amenities > 1) & (porcentaje_amenities < 10)]\n",
        "amenities_mayor_50"
      ]
    },
    {
      "cell_type": "markdown",
      "metadata": {
        "id": "sueOjaaZ-9xB"
      },
      "source": [
        "\n",
        "(PRECIO MEDIO POR NOCHE)"
      ]
    },
    {
      "cell_type": "code",
      "execution_count": null,
      "metadata": {
        "id": "EHypVJtT1WpR"
      },
      "outputs": [],
      "source": [
        "datos_diarios_reservadosss = pd.merge(datosDaily, datosProperties, on=\"Property ID\", how=\"inner\")\n",
        "datos_diarios_reservadosss"
      ]
    },
    {
      "cell_type": "code",
      "execution_count": null,
      "metadata": {
        "id": "fmlgZWeWN5ZH"
      },
      "outputs": [],
      "source": [
        "datos_diarios_reservadosss['Price (USD)'].isna().sum()\n",
        "datos_diarios_reservadosss"
      ]
    },
    {
      "cell_type": "code",
      "execution_count": null,
      "metadata": {
        "id": "5CZq_noyOWcc"
      },
      "outputs": [],
      "source": [
        "datos_diarios_reservadosss = datos_diarios_reservadosss.loc[:,~datos_diarios_reservadosss.columns.duplicated()]\n",
        "datos_diarios_reservados_notna = datos_diarios_reservadosss[datos_diarios_reservadosss['Price (Native)'] != 0]"
      ]
    },
    {
      "cell_type": "code",
      "execution_count": null,
      "metadata": {
        "id": "--IKvOJX-_mK"
      },
      "outputs": [],
      "source": [
        "#uso de datos_diarios_reservados\n",
        "pd.set_option('display.float_format', lambda x: '%.2f' % x)\n",
        "datos_diarios_reservados_notna['Price (Native)'].describe()"
      ]
    },
    {
      "cell_type": "code",
      "execution_count": null,
      "metadata": {
        "id": "nrkwfA2-LkgG"
      },
      "outputs": [],
      "source": [
        "plt.figure(figsize=(16,8))\n",
        "sns.set_theme(style=\"whitegrid\")\n",
        "plt.xlim(0, 1935)\n",
        "plt.xticks(range(0, 1935, 25))\n",
        "labels = plt.xticks()[0]\n",
        "new_labels = ['' if i % 50 != 0 else str(i) for i in labels]\n",
        "\n",
        "plt.xticks(labels, new_labels)\n",
        "sns.boxenplot(x='Price (USD)', data=datos_diarios_reservados_notna, width=0.9)\n",
        "plt.xlabel('Precio (USD)')\n",
        "plt.xticks(rotation=45)\n",
        "plt.title('Diagrama de caja de precios por noche de los alojamientos',fontsize = 20, pad=20)\n",
        "plt.savefig('/content/drive/MyDrive/Sergio Naranjo Fernández/FICHEROS/boxenplot_precio_por_noche.pdf', dpi=300, format='pdf')"
      ]
    },
    {
      "cell_type": "markdown",
      "metadata": {
        "id": "C5nOI3BkRwkx"
      },
      "source": [
        "\n",
        "(EVOLUCIÓN DEL PRECIO POR AÑO, TEMPORADA, MES ...)"
      ]
    },
    {
      "cell_type": "code",
      "execution_count": null,
      "metadata": {
        "id": "XWv1b_c8R4a8"
      },
      "outputs": [],
      "source": [
        "#NECESARIO AÑADIR COLUMNAS DE MESES Y AÑOS PARA AGRUPAR, Y TAMBIÉN OTRA DE TEMPORADA"
      ]
    },
    {
      "cell_type": "code",
      "execution_count": null,
      "metadata": {
        "id": "VX_2y5oQqtBr"
      },
      "outputs": [],
      "source": [
        "#VAMOS A MOSTRAR EL PRECIO MEDIO POR NOCHE POR CADA UNO DE LOS ALOJAMIENTOS Y VERLO GRÁFICAMENTE\n",
        "datos_diarios_reservados_notna['Date'] = pd.to_datetime(datos_diarios_reservados_notna['Date'])\n",
        "datos_diarios_reservados_notna['Mes'] = datos_diarios_reservados_notna['Date'].dt.strftime('%Y' + '-' '%m')\n",
        "datos_diarios_reservados_notna['Año'] = datos_diarios_reservados_notna['Date'].dt.strftime('%Y')"
      ]
    },
    {
      "cell_type": "code",
      "execution_count": null,
      "metadata": {
        "id": "9M3xPhIHU4En"
      },
      "outputs": [],
      "source": [
        "datos_diarios_reservados_notna['Recuento'] = 1\n",
        "datos_diarios_reservados_notna"
      ]
    },
    {
      "cell_type": "code",
      "execution_count": null,
      "metadata": {
        "id": "hWerVKlP5s4K"
      },
      "outputs": [],
      "source": [
        "datos_diarios_reservados_notna['Año'] = datos_diarios_reservados_notna['Año'].astype(int)\n",
        "datos_diarios_reservados_notna_utiles = datos_diarios_reservados_notna[['Año', 'Price (Native)', 'Recuento']]\n",
        "datos_diarios_reservados_años = datos_diarios_reservados_notna_utiles.groupby('Año').sum()\n",
        "datos_diarios_reservados_notna['Año'].dtype"
      ]
    },
    {
      "cell_type": "code",
      "execution_count": null,
      "metadata": {
        "id": "QUtbBrapXBke"
      },
      "outputs": [],
      "source": [
        "datos_diarios_reservados_años['Precio Medio'] = datos_diarios_reservados_años['Price (Native)']/datos_diarios_reservados_años['Recuento']\n",
        "datos_diarios_reservados_años"
      ]
    },
    {
      "cell_type": "markdown",
      "metadata": {
        "id": "CAADVih6WdLg"
      },
      "source": [
        "TASA DE CRECIMIENTO DE LOS PRECIOS"
      ]
    },
    {
      "cell_type": "code",
      "execution_count": null,
      "metadata": {
        "id": "92jyhmZDWf9R"
      },
      "outputs": [],
      "source": [
        "datos_diarios_reservados_años['Tasa Crecimiento'] = datos_diarios_reservados_años['Precio Medio'].pct_change() * 100\n",
        "datos_diarios_reservados_años"
      ]
    },
    {
      "cell_type": "code",
      "execution_count": null,
      "metadata": {
        "id": "1e2Xc6j2Y_Nh"
      },
      "outputs": [],
      "source": [
        "datos_diarios_reservados_años['Destacar'] = datos_diarios_reservados_años['Tasa Crecimiento'] < 0\n",
        "plt.figure(figsize=(20,7))\n",
        "sns.catplot(y='Tasa Crecimiento', x='Año', data=datos_diarios_reservados_años, kind='bar', hue='Destacar', palette={False: 'green', True: 'red'})\n",
        "plt.title('Tasa de crecimiento del precio medio', fontsize = 20, pad = 10)\n",
        "plt.savefig('/content/drive/MyDrive/Sergio Naranjo Fernández/FICHEROS/tasa_crecimiento_precio_medio_por_noche_anual.pdf', dpi=300, format='pdf', bbox_inches='tight')"
      ]
    },
    {
      "cell_type": "code",
      "execution_count": null,
      "metadata": {
        "id": "M1hbNLrhZnx8"
      },
      "outputs": [],
      "source": [
        "plt.figure(figsize=(10,4))\n",
        "sns.catplot(y='Precio Medio', x='Año', data=datos_diarios_reservados_años, kind='bar')\n",
        "plt.title('Precio medio por noche', fontsize = 20, pad = 10)\n",
        "plt.savefig('/content/drive/MyDrive/Sergio Naranjo Fernández/FICHEROS/precio_medio_por_noche_anual.pdf', format='pdf', bbox_inches='tight')"
      ]
    },
    {
      "cell_type": "code",
      "execution_count": null,
      "metadata": {
        "id": "69f6e4JJXahf"
      },
      "outputs": [],
      "source": [
        "datos_diarios_reservados_meses = datos_diarios_reservados_notna[['Mes', 'Price (Native)', 'Recuento']].groupby('Mes').sum()\n",
        "datos_diarios_reservados_meses['Precio Medio'] = datos_diarios_reservados_meses['Price (Native)']/datos_diarios_reservados_meses['Recuento']\n",
        "datos_diarios_reservados_meses"
      ]
    },
    {
      "cell_type": "code",
      "execution_count": null,
      "metadata": {
        "id": "61o_A9WLiZ8A"
      },
      "outputs": [],
      "source": [
        "plt.figure(figsize=(14,7))\n",
        "sns.catplot(y='Precio Medio', x='Mes', data=datos_diarios_reservados_meses, kind='bar', aspect = 4)\n",
        "plt.xticks(rotation=-45)\n",
        "plt.title('Precio medio por noche', fontsize = 20, pad = 10)\n",
        "plt.savefig('/content/drive/MyDrive/Sergio Naranjo Fernández/FICHEROS/precio_medio_por_noche_mensual.pdf', dpi=300, format='pdf')"
      ]
    },
    {
      "cell_type": "markdown",
      "metadata": {
        "id": "_2eT4CMXBrn5"
      },
      "source": [
        "PRECIO MEDIO POR NOCHE DE ALOJAMIENTO"
      ]
    },
    {
      "cell_type": "code",
      "execution_count": null,
      "metadata": {
        "id": "gsVW6wWsBrff"
      },
      "outputs": [],
      "source": [
        "datos_diarios_reservados_unicos_conteo_final = pd.merge(datos_properties_monthly_daily, datos_diarios_reservados_unicos_conteo, on=\"Property ID\", how=\"inner\")\n",
        "datos_diarios_reservados_unicos_conteo_final[['Property ID', 'Precio Medio']]"
      ]
    },
    {
      "cell_type": "code",
      "execution_count": null,
      "metadata": {
        "id": "MYaqRLcYoH4_"
      },
      "outputs": [],
      "source": [
        "datos_diarios_reservados_unicos_conteo_final.columns = datos_diarios_reservados_unicos_conteo_final.columns.str.replace('_x', '')\n",
        "datos_diarios_reservados_unicos_conteo_final"
      ]
    },
    {
      "cell_type": "code",
      "execution_count": null,
      "metadata": {
        "id": "vyj1EZNw1-Zl"
      },
      "outputs": [],
      "source": [
        "datos_diarios_reservados_unicos_conteo_final[['Property ID', 'Precio Medio']]\n",
        "precio_medio_igual_a_cero = (datos_diarios_reservados_unicos_conteo_final['Precio Medio'] == 0).sum()\n",
        "precio_medio_igual_a_cero"
      ]
    },
    {
      "cell_type": "code",
      "execution_count": null,
      "metadata": {
        "id": "Fbe2uaFkBq0J"
      },
      "outputs": [],
      "source": [
        "rangos = [0, 25, 50, 75, 100, 125, 150, 175, 200, 225, 250, 275, 300, 325, 350, 375, 400, 425, 450, 475, 50000]\n",
        "etiquetas = ['0-25','26-50','51-75','76-101','101-125','126-150','151-175','176-200','201-225','226-250','251-275','276-300','301-325','326-350','351-375','376-400','401-425','426-450','451-475','476-5000']\n",
        "datos_diarios_reservados_unicos_conteo_final['rango_precio'] = pd.cut(datos_diarios_reservados_unicos_conteo_final['Precio Medio'], bins=rangos, labels=etiquetas, right=False)\n",
        "plt.figure(figsize=(14, 10))\n",
        "sns.histplot(data=datos_diarios_reservados_unicos_conteo_final, x='rango_precio', discrete=True, kde=True, bins=[x for x in range(0,5000)])\n",
        "plt.title('Distribución del precio medio por noche', fontsize = 16, pad = 10)\n",
        "plt.xlabel('Rango de precios por noche')\n",
        "plt.ylabel('Frecuencia')\n",
        "plt.xticks(rotation=45)\n",
        "plt.savefig('/content/drive/MyDrive/Sergio Naranjo Fernández/FICHEROS/distribucion_precio_medio_apartamento.pdf', dpi=300, format='pdf')"
      ]
    },
    {
      "cell_type": "code",
      "execution_count": null,
      "metadata": {
        "id": "aj-bMTvkCkS0"
      },
      "outputs": [],
      "source": [
        "datos_diarios_reservados_unicos_conteo_final['rango_precio'].value_counts().sum()"
      ]
    },
    {
      "cell_type": "code",
      "execution_count": null,
      "metadata": {
        "id": "cDIILQIMrGgW"
      },
      "outputs": [],
      "source": [
        "#AÑADIR VALORACIONES\n",
        "#AÑADIR VALORACIONES DE LIMPIEZA\n",
        "datos_diarios_reservados_unicos_conteo_final.columns\n",
        "precio_medio_por_piscina = datos_diarios_reservados_unicos_conteo_final.groupby('Pool')['Precio Medio'].mean()\n",
        "precio_medio_por_piscina"
      ]
    },
    {
      "cell_type": "code",
      "source": [
        "ultimo_año = pd.read_csv('/content/drive/MyDrive/Sergio Naranjo Fernández/DATOS/df_ultimos_12_meses_revenue.csv')\n",
        "precio_medio_por_piscina_ultimo_año = ultimo_año.groupby('Pool')['ADR (Native)'].mean()\n",
        "precio_medio_por_piscina_ultimo_año"
      ],
      "metadata": {
        "id": "ka76RXt7id5s"
      },
      "execution_count": null,
      "outputs": []
    },
    {
      "cell_type": "code",
      "execution_count": null,
      "metadata": {
        "id": "U3cS2XyuQDhb"
      },
      "outputs": [],
      "source": [
        "datos_completos_properties_creados = datos_completos_properties_finales['Created Date']\n",
        "datos_completos_properties_creados"
      ]
    },
    {
      "cell_type": "markdown",
      "metadata": {
        "id": "Dudp5u6T8Twk"
      },
      "source": [
        "PORCENTAJE DE ALOJAMIENTOS CON PISCINA"
      ]
    },
    {
      "cell_type": "code",
      "execution_count": null,
      "metadata": {
        "id": "a8UT8X9M8YRA"
      },
      "outputs": [],
      "source": [
        "datos_completos_properties_finales[datos_completos_properties_finales['Amenities'].str.contains('pool|swim', case=False)].shape[0]"
      ]
    },
    {
      "cell_type": "code",
      "execution_count": null,
      "metadata": {
        "id": "Hxz48oQ0-Ht4"
      },
      "outputs": [],
      "source": [
        "proporcion_pool = datos_completos_properties_finales[datos_completos_properties_finales['Amenities'].str.contains('pool|swim|swimming', case=False)].shape[0] / 13358\n",
        "proporcion_sin_pool = 1 - proporcion_pool\n",
        "\n",
        "sizes = [proporcion_pool, proporcion_sin_pool]\n",
        "labels = ['Con piscina', 'Sin piscina']\n",
        "colors = ['#01881C', '#BE2414']\n",
        "\n",
        "plt.figure(figsize=(10, 6))\n",
        "plt.pie(sizes, labels=labels, colors=colors, autopct='%1.1f%%', startangle=140, wedgeprops=dict(width=0.3), textprops={'fontsize': 12})\n",
        "centre_circle = plt.Circle((0, 0), 0.70, fc='white')\n",
        "fig = plt.gcf()\n",
        "fig.gca().add_artist(centre_circle)\n",
        "\n",
        "plt.axis('equal')\n",
        "\n",
        "plt.savefig('/content/drive/MyDrive/Sergio Naranjo Fernández/FICHEROS/porcentaje_alojamientos_piscina.pdf', dpi=300, format='pdf')\n",
        "\n",
        "plt.show()"
      ]
    },
    {
      "cell_type": "code",
      "source": [
        "datos_completos_properties_finales[datos_completos_properties_finales['Amenities'].str.contains('free_parking', case=False)].shape[0]"
      ],
      "metadata": {
        "id": "XUlpDdqgChRk"
      },
      "execution_count": null,
      "outputs": []
    },
    {
      "cell_type": "code",
      "execution_count": null,
      "metadata": {
        "id": "SgHmK0YxPPXd"
      },
      "outputs": [],
      "source": [
        "proporcion_parking = datos_completos_properties_finales[datos_completos_properties_finales['Amenities'].str.contains('free_parking', case=False)].shape[0] / 13358\n",
        "proporcion_sin_parking = 1 - proporcion_parking\n",
        "\n",
        "sizes = [proporcion_parking, proporcion_sin_parking]\n",
        "labels = ['Con parking', 'Sin parking']\n",
        "colors = ['#01881C', '#BE2414']\n",
        "\n",
        "plt.figure(figsize=(10, 6))\n",
        "plt.pie(sizes, labels=labels, colors=colors, autopct='%1.1f%%', startangle=140, wedgeprops=dict(width=0.3), textprops={'fontsize': 12})\n",
        "\n",
        "centre_circle = plt.Circle((0, 0), 0.70, fc='white')\n",
        "fig = plt.gcf()\n",
        "fig.gca().add_artist(centre_circle)\n",
        "\n",
        "plt.axis('equal')\n",
        "\n",
        "plt.savefig('/content/drive/MyDrive/Sergio Naranjo Fernández/FICHEROS/porcentaje_alojamientos_parking.pdf', dpi=300, format='pdf')\n",
        "\n",
        "plt.show()"
      ]
    },
    {
      "cell_type": "markdown",
      "metadata": {
        "id": "OqRqYhTHEp8C"
      },
      "source": [
        "PORCENTAJE DE ALOJAMIENTOS CON ASCENSOR"
      ]
    },
    {
      "cell_type": "code",
      "execution_count": null,
      "metadata": {
        "id": "1Y0nX9trEoPv"
      },
      "outputs": [],
      "source": [
        "datos_completos_properties_finales[datos_completos_properties_finales['Amenities'].str.contains('elevator', case=False)].shape[0]"
      ]
    },
    {
      "cell_type": "code",
      "execution_count": null,
      "metadata": {
        "id": "PFIdEM4XGOYi"
      },
      "outputs": [],
      "source": [
        "proporcion_elevator = datos_completos_properties_finales[datos_completos_properties_finales['Amenities'].str.contains('elevator', case=False)].shape[0] / 13358\n",
        "proporcion_sin_elevator = 1 - proporcion_elevator\n",
        "\n",
        "sizes = [proporcion_elevator, proporcion_sin_elevator]\n",
        "labels = ['Con ascensor', 'Sin ascensor']\n",
        "colors = ['#01881C', '#BE2414']\n",
        "\n",
        "plt.figure(figsize=(10, 6))\n",
        "plt.pie(sizes, labels=labels, colors=colors, autopct='%1.1f%%', startangle=140, wedgeprops=dict(width=0.3), textprops={'fontsize': 12})\n",
        "\n",
        "centre_circle = plt.Circle((0, 0), 0.70, fc='white')\n",
        "fig = plt.gcf()\n",
        "fig.gca().add_artist(centre_circle)\n",
        "\n",
        "plt.axis('equal')\n",
        "\n",
        "plt.savefig('/content/drive/MyDrive/Sergio Naranjo Fernández/FICHEROS/porcentaje_alojamientos_ascensor.pdf', dpi=300, format='pdf')\n",
        "\n",
        "plt.show()"
      ]
    },
    {
      "cell_type": "code",
      "execution_count": null,
      "metadata": {
        "id": "az2XR1RmC3c5"
      },
      "outputs": [],
      "source": [
        "datos_completos_properties_finales[datos_completos_properties_finales['Amenities'].str.contains('private pool', case=False)].shape[0]"
      ]
    },
    {
      "cell_type": "code",
      "source": [
        "proporcion_aire = datos_completos_properties_finales[datos_completos_properties_finales['Amenities'].str.contains('air', case=False)].shape[0]\n",
        "proporcion_aire"
      ],
      "metadata": {
        "id": "hDb5O6f-PPwN"
      },
      "execution_count": null,
      "outputs": []
    },
    {
      "cell_type": "markdown",
      "metadata": {
        "id": "cgrpHCAtbSIz"
      },
      "source": [
        "EVOLUCIÓN DE LA INCORPORACIÓN DE LOS APARTAMENTOS A LAS PLATAFORMAS"
      ]
    },
    {
      "cell_type": "code",
      "execution_count": null,
      "metadata": {
        "id": "Q0aDazoMo3Dc"
      },
      "outputs": [],
      "source": [
        "datos_completos_properties_finales[datos_completos_properties_finales['Created Date'].isnull()]"
      ]
    },
    {
      "cell_type": "markdown",
      "metadata": {
        "id": "QTgTsyelh8pp"
      },
      "source": [
        "EVOLUCIÓN DE NUEVOS ALOJAMIENTOS DADOS DE ALTA EN LAS PLATAFORMAS"
      ]
    },
    {
      "cell_type": "code",
      "execution_count": null,
      "metadata": {
        "id": "fORrtI0ta5mz"
      },
      "outputs": [],
      "source": [
        "datos_completos_properties_finales['Created Date'] = pd.to_datetime(datos_completos_properties_finales['Created Date'])\n",
        "datos_completos_properties_finales['Año Creacion'] = datos_completos_properties_finales['Created Date'].dt.strftime('%Y')\n",
        "\n",
        "filtro = datos_completos_properties_finales[datos_completos_properties_finales['Año Creacion'].notnull()]\n",
        "\n",
        "filtro['Recuento'] = 1\n",
        "evolucion_nuevos_alojamientos = filtro[['Año Creacion', 'Recuento']].groupby('Año Creacion').sum()"
      ]
    },
    {
      "cell_type": "code",
      "source": [
        "evolucion_nuevos_alojamientos"
      ],
      "metadata": {
        "id": "dodNDJm2aCHL"
      },
      "execution_count": null,
      "outputs": []
    },
    {
      "cell_type": "markdown",
      "metadata": {
        "id": "Aq_VWGX5GxeP"
      },
      "source": [
        "PROCESO DE SACAR % DEL TOTAL CADA UNO DE LOS AÑOS PARA COMPLETAR LOS QUE NO TIENEN FECHA DE CREACIÓN"
      ]
    },
    {
      "cell_type": "code",
      "execution_count": null,
      "metadata": {
        "id": "Z01GFfT_G6bg"
      },
      "outputs": [],
      "source": [
        "totales = evolucion_nuevos_alojamientos['Recuento'].sum()\n",
        "evolucion_nuevos_alojamientos['Porcentaje'] = (evolucion_nuevos_alojamientos['Recuento'] / totales)\n",
        "evolucion_nuevos_alojamientos['Recuento'] = evolucion_nuevos_alojamientos['Recuento']\n",
        "evolucion_nuevos_alojamientos['Recuento'].sum()"
      ]
    },
    {
      "cell_type": "code",
      "execution_count": null,
      "metadata": {
        "id": "nNUQJlVl2niS"
      },
      "outputs": [],
      "source": [
        "plt.figure(figsize=(14, 8))\n",
        "sns.catplot(y='Recuento', x='Año Creacion', data=evolucion_nuevos_alojamientos, kind='bar', height=6, aspect=2)\n",
        "plt.title('Nuevos alojamientos en las plataformas', fontsize=20, pad=20)\n",
        "plt.xlabel('Año de creación', fontsize=12)\n",
        "plt.ylabel('Frecuencia', fontsize=12)\n",
        "plt.xticks(rotation=45, fontsize=12)\n",
        "plt.yticks(fontsize=12)\n",
        "plt.grid(axis='y', linestyle='--', linewidth=0.5, color='gray')\n",
        "plt.tight_layout()\n",
        "plt.savefig('/content/drive/MyDrive/Sergio Naranjo Fernández/FICHEROS/nuevos_alojamientos.pdf', format='pdf', dpi=300)"
      ]
    },
    {
      "cell_type": "code",
      "execution_count": null,
      "metadata": {
        "id": "MkguJzxEMrsV"
      },
      "outputs": [],
      "source": [
        "evolucion_nuevos_alojamientos['Recuento'].sum()"
      ]
    },
    {
      "cell_type": "code",
      "execution_count": null,
      "metadata": {
        "id": "F2ioufIFUyDn"
      },
      "outputs": [],
      "source": [
        "evolucion_nuevos_alojamientos['Acumulado'] = evolucion_nuevos_alojamientos['Recuento'].cumsum()\n",
        "evolucion_nuevos_alojamientos"
      ]
    },
    {
      "cell_type": "markdown",
      "metadata": {
        "id": "ZbPulDXMw1eJ"
      },
      "source": [
        "# ANÁLISIS DE LA OFERTA"
      ]
    },
    {
      "cell_type": "code",
      "execution_count": null,
      "metadata": {
        "id": "7UagkvKfw9D-"
      },
      "outputs": [],
      "source": [
        "datosAlojamientos"
      ]
    },
    {
      "cell_type": "code",
      "execution_count": null,
      "metadata": {
        "id": "IAUkouFQw-Vw"
      },
      "outputs": [],
      "source": [
        "datos_oferta = datos_diarios[(datos_diarios['Status'] == 'R') | (datos_diarios['Status'] == 'A')]\n",
        "datos_oferta"
      ]
    },
    {
      "cell_type": "code",
      "execution_count": null,
      "metadata": {
        "id": "nJOjPnqGxh8A"
      },
      "outputs": [],
      "source": [
        "datos_oferta_alojamientos = pd.merge(datos_oferta, datosAlojamientos, on='Property ID', how='inner')\n",
        "datos_oferta_alojamientos"
      ]
    },
    {
      "cell_type": "code",
      "execution_count": null,
      "metadata": {
        "id": "xU5BA5iUyEbC"
      },
      "outputs": [],
      "source": [
        "datos_oferta_alojamientos['Date'] = pd.to_datetime(datos_oferta_alojamientos['Date'], format='%Y-%m-%d')\n",
        "datos_oferta_alojamientos['Año'] = datos_oferta_alojamientos['Date'].dt.year\n",
        "datos_oferta_alojamientos"
      ]
    },
    {
      "cell_type": "code",
      "execution_count": null,
      "metadata": {
        "id": "6tbi9e-vzXjW"
      },
      "outputs": [],
      "source": [
        "datos_oferta_alojamientos2 = datos_oferta_alojamientos.groupby(['Año', 'Property ID']).size().reset_index(name='count')\n",
        "datos_oferta_alojamientos2['Count 2'] = 1\n",
        "datos_oferta_alojamientos2.groupby('Año').sum()"
      ]
    },
    {
      "cell_type": "code",
      "execution_count": null,
      "metadata": {
        "id": "yQnVzflo0x90"
      },
      "outputs": [],
      "source": [
        "datos_oferta_alojamientos3 = datos_oferta_alojamientos.groupby('Año')['Property ID'].nunique().reset_index()\n",
        "datos_oferta_alojamientos3.columns = ['Año', 'Cantidad de Properties']\n",
        "datos_oferta_alojamientos3"
      ]
    },
    {
      "cell_type": "code",
      "execution_count": null,
      "metadata": {
        "id": "NEKk1x882rxl"
      },
      "outputs": [],
      "source": [
        "plt.figure(figsize=(14, 7))\n",
        "sns.barplot(y='Cantidad de Properties', x='Año',data=datos_oferta_alojamientos3)\n",
        "plt.title(\"Alojamientos ofertados por año\")\n",
        "plt.ylabel(\"Frecuencia\")\n",
        "plt.savefig('/content/drive/MyDrive/Sergio Naranjo Fernández/FICHEROS/alojamientos_ofertados_año.pdf', dpi=600, format='pdf')"
      ]
    },
    {
      "cell_type": "code",
      "execution_count": null,
      "metadata": {
        "id": "FPVxjfsTez1B"
      },
      "outputs": [],
      "source": [
        "datos_diarios_merge = pd.merge(datos_diarios, datosAlojamientos, on='Property ID', how='inner')\n",
        "datos_diarios_merge_a_r = datos_diarios_merge[(datos_diarios_merge['Status'] == 'A') | (datos_diarios_merge['Status'] == 'R') | (datos_diarios_merge['Status'] == 'B')]\n",
        "datos_diarios_merge_a_r['Date'] = pd.to_datetime(datos_diarios_merge_a_r['Date'], format='%Y-%m-%d')\n",
        "datos_diarios_merge_a_r['Año'] = datos_diarios_merge_a_r['Date'].dt.year\n",
        "datos_diarios_merge_a_r.groupby('Año')['Property ID'].nunique()"
      ]
    },
    {
      "cell_type": "markdown",
      "metadata": {
        "id": "wfURlWjM3igW"
      },
      "source": [
        "ANÁLISIS DE LA DEMANDA, OFERTADOS / RESERVADOS"
      ]
    },
    {
      "cell_type": "code",
      "execution_count": null,
      "metadata": {
        "id": "R-XhJCiU3h5_"
      },
      "outputs": [],
      "source": [
        "datos_oferta_alojamientos_available = datos_oferta_alojamientos[datos_oferta_alojamientos['Status'] == 'A'].groupby('Año').size().reset_index()\n",
        "datos_oferta_alojamientos_available.columns = ['Año', 'Dias Disponibles']\n",
        "datos_oferta_alojamientos_available"
      ]
    },
    {
      "cell_type": "code",
      "execution_count": null,
      "metadata": {
        "id": "CmrTnalRp5ij"
      },
      "outputs": [],
      "source": [
        "datos_oferta_alojamientos222 = pd.merge(datos_oferta, datosAlojamientos, on='Property ID', how='inner')\n",
        "datos_oferta_alojamientos222[(datos_oferta_alojamientos222['Status'] == 'A') | (datos_oferta_alojamientos222['Status'] == 'R')].groupby('Property ID').sum()"
      ]
    },
    {
      "cell_type": "code",
      "execution_count": null,
      "metadata": {
        "id": "2fmxHA5w8L8w"
      },
      "outputs": [],
      "source": [
        "datos_oferta_alojamientos_reserved = datos_oferta_alojamientos[datos_oferta_alojamientos['Status'] == 'R'].groupby('Año').size().reset_index()\n",
        "datos_oferta_alojamientos_reserved.columns = ['Año', 'Dias Reservados']\n",
        "datos_oferta_alojamientos_reserved"
      ]
    },
    {
      "cell_type": "code",
      "execution_count": null,
      "metadata": {
        "id": "QnGYc2YR9uxF"
      },
      "outputs": [],
      "source": [
        "datos_oferta_alojamientos_ocupacion = pd.DataFrame()\n",
        "datos_oferta_alojamientos_ocupacion['Año'] = datos_oferta_alojamientos_reserved['Año']\n",
        "datos_oferta_alojamientos_ocupacion['Tasa de Ocupación'] = datos_oferta_alojamientos_reserved['Dias Reservados'] / (datos_oferta_alojamientos_reserved['Dias Reservados'] + datos_oferta_alojamientos_available['Dias Disponibles'])\n",
        "datos_oferta_alojamientos_ocupacion"
      ]
    },
    {
      "cell_type": "code",
      "execution_count": null,
      "metadata": {
        "id": "3L7TFJlx-8PV"
      },
      "outputs": [],
      "source": [
        "datos_verano = datos_oferta_alojamientos[(datos_oferta_alojamientos['Date'].dt.month > 7) & (datos_oferta_alojamientos['Date'].dt.month < 9)]\n",
        "datos_oferta_alojamientos_available_verano = datos_verano[datos_verano['Status'] == 'A'].groupby('Año').size().reset_index()\n",
        "datos_oferta_alojamientos_available_verano.columns = ['Año', 'Dias Disponibles Verano']\n",
        "datos_oferta_alojamientos_available_verano"
      ]
    },
    {
      "cell_type": "code",
      "execution_count": null,
      "metadata": {
        "id": "IEG0XTcUASvy"
      },
      "outputs": [],
      "source": [
        "datos_oferta_alojamientos_reserved_verano = datos_verano[datos_verano['Status'] == 'R'].groupby('Año').size().reset_index()\n",
        "datos_oferta_alojamientos_reserved_verano.columns = ['Año', 'Dias Reservados Verano']\n",
        "datos_oferta_alojamientos_reserved_verano"
      ]
    },
    {
      "cell_type": "code",
      "execution_count": null,
      "metadata": {
        "id": "RvfKB37jAjnX"
      },
      "outputs": [],
      "source": [
        "datos_oferta_alojamientos_ocupacion_verano = pd.DataFrame()\n",
        "datos_oferta_alojamientos_ocupacion_verano['Año'] = datos_oferta_alojamientos_reserved_verano['Año']\n",
        "datos_oferta_alojamientos_ocupacion_verano['Tasa de Ocupación'] = datos_oferta_alojamientos_reserved_verano['Dias Reservados Verano'] / (datos_oferta_alojamientos_reserved_verano['Dias Reservados Verano'] + datos_oferta_alojamientos_available_verano['Dias Disponibles Verano'])\n",
        "datos_oferta_alojamientos_ocupacion_verano"
      ]
    },
    {
      "cell_type": "markdown",
      "metadata": {
        "id": "0pJ0yQlWIoCH"
      },
      "source": [
        "# ANÁLISIS CORRELATIVO"
      ]
    },
    {
      "cell_type": "markdown",
      "metadata": {
        "id": "Lnps1cO4E8GU"
      },
      "source": [
        "DATASET PARA EL ANÁLISIS COORELATIVO"
      ]
    },
    {
      "cell_type": "code",
      "execution_count": null,
      "metadata": {
        "id": "k65jrR6OE_ZC"
      },
      "outputs": [],
      "source": [
        "datos_diarios_reservados_unicos_conteo.columns"
      ]
    },
    {
      "cell_type": "code",
      "execution_count": null,
      "metadata": {
        "id": "9tcDPn3hF2Ym"
      },
      "outputs": [],
      "source": [
        "datos_diarios_reservados_unicos_conteo"
      ]
    },
    {
      "cell_type": "code",
      "execution_count": null,
      "metadata": {
        "id": "2Rbg6PcAkbDf"
      },
      "outputs": [],
      "source": [
        "datos_diarios_reservados_unicos_conteo_final.columns"
      ]
    },
    {
      "cell_type": "code",
      "execution_count": null,
      "metadata": {
        "id": "Zg5um5W_lJ_l"
      },
      "outputs": [],
      "source": [
        "datos_diarios_reservados_unicos_conteo_final[['Reservation Days', 'Available Days' ]]"
      ]
    },
    {
      "cell_type": "code",
      "execution_count": null,
      "metadata": {
        "id": "61EhwYvjoTIV"
      },
      "outputs": [],
      "source": [
        "datos_diarios_reservados_unicos_conteo_final['Ocupacion'] = datos_diarios_reservados_unicos_conteo_final['Reservation Days'] / (datos_diarios_reservados_unicos_conteo_final['Reservation Days'] + datos_diarios_reservados_unicos_conteo_final['Available Days'])"
      ]
    },
    {
      "cell_type": "code",
      "execution_count": null,
      "metadata": {
        "id": "xt4c5NEtotG8"
      },
      "outputs": [],
      "source": [
        "datos_diarios_reservados_unicos_conteo_final['Number of Reservations']"
      ]
    },
    {
      "cell_type": "code",
      "execution_count": null,
      "metadata": {
        "id": "zDdlKP2HFh7_"
      },
      "outputs": [],
      "source": [
        "datos_properties_reservados_corr = datos_diarios_reservados_unicos_conteo_final[['Property ID', 'Precio Medio']]\n",
        "datos_properties_columnas_corr = datos_diarios_reservados_unicos_conteo_final[['Property ID', 'Bedrooms', 'Bathrooms', 'Max Guests', 'Pool', 'Lift/Elevator', 'Parking', 'Internet', 'TV', 'Ocupacion', 'Number of Reservations', 'Number of Photos', 'Private Pool']]\n",
        "datos_properties_corr = pd.merge(datos_properties_reservados_corr, datos_properties_columnas_corr, how='inner')"
      ]
    },
    {
      "cell_type": "code",
      "execution_count": null,
      "metadata": {
        "id": "17ZsaRs8Gw0L"
      },
      "outputs": [],
      "source": [
        "ax = sns.heatmap(\n",
        "    datos_properties_corr[['Precio Medio', 'Bedrooms', 'Bathrooms', 'Max Guests', 'Pool', 'Lift/Elevator', 'Parking', 'Internet', 'TV', 'Ocupacion', 'Number of Reservations', 'Number of Photos', 'Private Pool']].corr(),\n",
        "    vmin=-1, vmax=1, center=0,\n",
        "    cmap=sns.diverging_palette(20, 220, n=200),\n",
        "    square=True)\n",
        "\n",
        "ax.set_xticklabels(\n",
        "    ax.get_xticklabels(),\n",
        "    rotation=45,\n",
        "    horizontalalignment='right'\n",
        ");\n",
        "\n",
        "ax.grid(False, 'major')\n",
        "ax.grid(True, 'minor')\n",
        "ax.set_xticks([t + 0.5 for t in ax.get_xticks()], minor=True)\n",
        "ax.set_yticks([t + 0.5 for t in ax.get_yticks()], minor=True)"
      ]
    },
    {
      "cell_type": "code",
      "execution_count": null,
      "metadata": {
        "id": "gk6S3gWfMU2G"
      },
      "outputs": [],
      "source": [
        "def heatmap(x, y, size):\n",
        "    fig, ax = plt.subplots()\n",
        "\n",
        "    x_labels = [v for v in sorted(x.unique())]\n",
        "    y_labels = [v for v in sorted(y.unique())]\n",
        "    x_to_num = {p[1]:p[0] for p in enumerate(x_labels)}\n",
        "    y_to_num = {p[1]:p[0] for p in enumerate(y_labels)}\n",
        "\n",
        "    size_scale = 500\n",
        "    ax.scatter(\n",
        "        x=x.map(x_to_num),\n",
        "        y=y.map(y_to_num),\n",
        "        s=size * size_scale,\n",
        "        marker='s'\n",
        "    )\n",
        "    ax.set_xticks([x_to_num[v] for v in x_labels])\n",
        "    ax.set_xticklabels(x_labels, rotation=45, horizontalalignment='right')\n",
        "    ax.set_yticks([y_to_num[v] for v in y_labels])\n",
        "    ax.set_yticklabels(y_labels)"
      ]
    },
    {
      "cell_type": "code",
      "execution_count": null,
      "metadata": {
        "id": "BUmm2QKAOCjF"
      },
      "outputs": [],
      "source": [
        "datos_properties_reservados_corr2 = datos_diarios_reservados_unicos_conteo_final[['Property ID', 'Precio Medio']]\n",
        "datos_properties_columnas_corr2 = datos_diarios_reservados_unicos_conteo_final[['Property ID', 'Bedrooms', 'Bathrooms', 'Max Guests', 'Pool', 'Lift/Elevator', 'Parking', 'Internet', 'TV', 'Ocupacion', 'Number of Reservations', 'Number of Photos', 'Private Pool']]\n",
        "datos_properties_corr2 = pd.merge(datos_properties_reservados_corr2, datos_properties_columnas_corr2, how='inner')\n",
        "columnas_relevantes = datos_properties_corr2[['Precio Medio', 'Bedrooms', 'Bathrooms', 'Max Guests', 'Pool', 'Lift/Elevator', 'Parking', 'Internet', 'TV', 'Ocupacion', 'Number of Reservations', 'Number of Photos', 'Private Pool']]\n",
        "correlacion = columnas_relevantes.corr()\n",
        "correlacion"
      ]
    },
    {
      "cell_type": "code",
      "execution_count": null,
      "metadata": {
        "id": "BRN1qe7BqNcw"
      },
      "outputs": [],
      "source": [
        "coef = columnas_relevantes.corr(method='pearson')\n",
        "coef"
      ]
    },
    {
      "cell_type": "code",
      "execution_count": null,
      "metadata": {
        "id": "gVJZGzI2rDbo"
      },
      "outputs": [],
      "source": [
        "plt.figure(figsize=(14,6))\n",
        "sns.heatmap(coef, annot=True)\n",
        "plt.show()"
      ]
    },
    {
      "cell_type": "markdown",
      "metadata": {
        "id": "6fkdKgA_KxSK"
      },
      "source": [
        "# GRÁGICAS POR MESES"
      ]
    },
    {
      "cell_type": "code",
      "execution_count": null,
      "metadata": {
        "id": "vh5H-KN7NOci"
      },
      "outputs": [],
      "source": [
        "#CON ESTO TENEMOS EN DATOS_MESES TODOS LOS DATOS DE LOS APARTAMENTOS POR MESES QUE APARECEN EN MONTHLY Y DAILY (INNER)\n",
        "#datos_meses2 = pd.merge(datosMonthly, datosAlojamientos, on='Property ID', how='inner')\n",
        "datos_meses2 = pd.merge(datos_meses_columnas, datosAlojamientos, on='Property ID', how='inner')\n",
        "datos_meses2"
      ]
    },
    {
      "cell_type": "code",
      "execution_count": null,
      "metadata": {
        "id": "EgoBGAlhGEmV"
      },
      "outputs": [],
      "source": [
        "datos_meses2.groupby('Property ID').sum()"
      ]
    },
    {
      "cell_type": "code",
      "execution_count": null,
      "metadata": {
        "id": "GVxmnRrpE4rC"
      },
      "outputs": [],
      "source": [
        "datos_meses2['Reporting Month']=pd.to_datetime(datos_meses2['Reporting Month'])\n",
        "datos_meses2['Year'] = datos_meses2['Reporting Month'].dt.year\n",
        "datos_meses2"
      ]
    },
    {
      "cell_type": "code",
      "execution_count": null,
      "metadata": {
        "id": "3uOQ3Nt_dqMW"
      },
      "outputs": [],
      "source": [
        "datos = pd.merge(datos_meses, datosAlojamientos, on='Property ID', how='inner')\n",
        "datos['Reporting Month']=pd.to_datetime(datos['Reporting Month'])\n",
        "datos['Year'] = datos['Reporting Month'].dt.year\n",
        "datos_meses2.groupby('Year')['Property ID'].nunique()"
      ]
    },
    {
      "cell_type": "code",
      "execution_count": null,
      "metadata": {
        "id": "Gtl75CIPE_6c"
      },
      "outputs": [],
      "source": [
        "reservas_año = datos_meses2.groupby('Year')['Number of Reservations'].sum()\n",
        "reservas_año"
      ]
    },
    {
      "cell_type": "code",
      "execution_count": null,
      "metadata": {
        "id": "U7xRu3jX9f8a"
      },
      "outputs": [],
      "source": [
        "reservas_año_columnas = pd.DataFrame(reservas_año)\n",
        "reservas_año_columnas_reseteado = reservas_año_columnas.reset_index()"
      ]
    },
    {
      "cell_type": "code",
      "execution_count": null,
      "metadata": {
        "id": "7jbF9CNXK5hd"
      },
      "outputs": [],
      "source": [
        "#RESERVAS POR MESES CADA UNO DE LOS AÑOS (MESES QUE CADA UNO DE LOS APARTAMENTOS HAN SIDO ALQUILADOS)\n",
        "#ESTAN EN datos_meses_alquilados\n",
        "reservas_totales_año = pd.DataFrame(reservas_año, columns=[ 'Number of Reservations'])\n",
        "plt.figure(figsize=(20,7))\n",
        "\n",
        "unique_years = reservas_año_columnas_reseteado['Year'].nunique()\n",
        "palette = sns.color_palette(\"husl\", unique_years)\n",
        "\n",
        "sns.barplot(x='Year', y='Number of Reservations', data=reservas_año_columnas_reseteado, palette=palette)\n",
        "plt.title('Número total de reservas por año', fontsize = 20, pad = 10)\n",
        "plt.xticks(rotation=-45)\n",
        "plt.xlabel('Año')\n",
        "plt.ylabel('Número de reservas')\n",
        "plt.savefig('/content/drive/MyDrive/Sergio Naranjo Fernández/FICHEROS/numero_reservas_por_año.pdf', dpi=300, format='pdf')"
      ]
    },
    {
      "cell_type": "code",
      "execution_count": null,
      "metadata": {
        "id": "8eRLhsXQhPk4"
      },
      "outputs": [],
      "source": [
        "datos_meses2_verano = datos_meses2\n",
        "datos_meses2_verano = datos_meses2_verano[(datos_meses2_verano['Reporting Month'].dt.month >= 6) & (datos_meses2_verano['Reporting Month'].dt.month <= 8)]\n",
        "reservas_verano = datos_meses2_verano.groupby('Year')['Number of Reservations'].sum()\n",
        "\n",
        "reservas_año_verano = pd.DataFrame(reservas_verano)\n",
        "new_row = pd.DataFrame({'Year': [2016], 'Reservas': [0]})\n",
        "reservas_año_verano = pd.concat([new_row, reservas_año_verano], ignore_index=True)\n",
        "reservas_año_columnas_resetead2 = reservas_año_verano.reset_index()\n",
        "reservas_año_columnas_reseteado['Number of Reservations Verano'] = reservas_año_columnas_resetead2['Number of Reservations']\n",
        "reservas_año_columnas_reseteado"
      ]
    },
    {
      "cell_type": "code",
      "source": [
        "reservas_año_verano"
      ],
      "metadata": {
        "id": "_rlDCVItqHe0"
      },
      "execution_count": null,
      "outputs": []
    },
    {
      "cell_type": "code",
      "execution_count": null,
      "metadata": {
        "id": "IXzvvqLzky0H"
      },
      "outputs": [],
      "source": [
        "reservas_año_columnas_reseteado['Porcentaje Verano'] = (reservas_año_columnas_reseteado['Number of Reservations Verano'] / reservas_año_columnas_reseteado['Number of Reservations'])*100\n",
        "reservas_año_columnas_reseteado"
      ]
    },
    {
      "cell_type": "code",
      "execution_count": null,
      "metadata": {
        "id": "fafJ63SqjRTb"
      },
      "outputs": [],
      "source": [
        "import numpy as np\n",
        "años = reservas_año_columnas_reseteado['Year']\n",
        "reservas_anual = reservas_año_columnas_reseteado['Number of Reservations']\n",
        "reservas_verano = reservas_año_columnas_reseteado['Number of Reservations Verano']\n",
        "percent_verano = reservas_año_columnas_reseteado['Porcentaje Verano']\n",
        "\n",
        "bar_width = 0.35\n",
        "r1 = np.arange(len(años))\n",
        "r2 = [x + bar_width for x in r1]\n",
        "plt.figure(figsize=(16, 7))\n",
        "\n",
        "plt.bar(r1, reservas_anual, color='b', width=bar_width, edgecolor='grey', label='Reservas anuales')\n",
        "plt.bar(r2, reservas_verano, color='#EB984E', width=bar_width, edgecolor='grey', label='Reservas junio a agosto')\n",
        "\n",
        "plt.xlabel('Año', fontweight='bold', fontsize=12)\n",
        "plt.ylabel('Frecuencia', fontsize=12)\n",
        "plt.title('Número de reservas', fontsize=16)\n",
        "plt.xticks([r + bar_width / 2 for r in range(len(años))], años, fontsize=12)\n",
        "\n",
        "fig = plt.gcf()\n",
        "fig.subplots_adjust(right=0.75)\n",
        "\n",
        "plt.legend(bbox_to_anchor=(1.05, 1), loc='upper left')\n",
        "\n",
        "for i, perc in enumerate(percent_verano):\n",
        "    plt.text(r2[i], reservas_verano[i] + 50, f'{perc:.1f}%', ha='center', va='bottom', fontsize=10)\n",
        "plt.savefig('/content/drive/MyDrive/Sergio Naranjo Fernández/FICHEROS/numero_reservas.pdf', dpi=1000, format='pdf')\n",
        "plt.show()"
      ]
    },
    {
      "cell_type": "code",
      "source": [
        "import matplotlib.pyplot as plt\n",
        "import numpy as np\n",
        "\n",
        "años = reservas_año_columnas_reseteado['Year']\n",
        "reservas_anual = reservas_año_columnas_reseteado['Number of Reservations']\n",
        "reservas_verano = reservas_año_columnas_reseteado['Number of Reservations Verano']\n",
        "percent_verano = reservas_año_columnas_reseteado['Porcentaje Verano']\n",
        "\n",
        "plt.figure(figsize=(16, 7))\n",
        "\n",
        "plt.plot(años, reservas_anual, color='b', marker='o', linestyle='-', label='Reservas anuales')\n",
        "plt.plot(años, reservas_verano, color='#EB984E', marker='o', linestyle='-', label='Reservas junio a septiembre')\n",
        "\n",
        "plt.xlabel('Año', fontweight='bold', fontsize=12)\n",
        "plt.ylabel('Frecuencia', fontsize=12)\n",
        "plt.title('Número de reservas', fontsize=16)\n",
        "plt.xticks(años, fontsize=12)\n",
        "\n",
        "fig = plt.gcf()\n",
        "fig.subplots_adjust(right=0.75)\n",
        "\n",
        "plt.legend(bbox_to_anchor=(1.05, 1), loc='upper left')\n",
        "\n",
        "# Añadir porcentajes sobre las barras de \"Reservas junio a septiembre\"\n",
        "for i, perc in enumerate(percent_verano):\n",
        "    plt.text(años[i], reservas_verano[i] + 50, f'{perc:.1f}%', ha='center', va='bottom', fontsize=10)\n",
        "\n",
        "# Mostrar el gráfico\n",
        "plt.savefig('/content/drive/MyDrive/Sergio Naranjo Fernández/FICHEROS/numero_reservas_lineal.pdf', dpi=1000, format='pdf')\n",
        "plt.show()"
      ],
      "metadata": {
        "id": "SP2Gsd1RdG6u"
      },
      "execution_count": null,
      "outputs": []
    },
    {
      "cell_type": "code",
      "execution_count": null,
      "metadata": {
        "id": "ju5QglLnG1o_"
      },
      "outputs": [],
      "source": [
        "reservas_totales_año"
      ]
    },
    {
      "cell_type": "code",
      "execution_count": null,
      "metadata": {
        "id": "XJmQLLekrkaU"
      },
      "outputs": [],
      "source": [
        "apartamentos_reservados_por_año = datos_meses2.groupby('Year')['Property ID'].nunique()\n",
        "apartamentos_reservados_por_año.reset_index(name='Alojamientos Diferentes')"
      ]
    },
    {
      "cell_type": "code",
      "execution_count": null,
      "metadata": {
        "id": "Y65qNk6K2ArZ"
      },
      "outputs": [],
      "source": [
        "plt.figure(figsize=(20, 7))\n",
        "sns.barplot(x='Year',y='Alojamientos Diferentes', data=apartamentos_reservados_por_año.reset_index(name='Alojamientos Diferentes'), hue='Year', palette='viridis')\n",
        "plt.legend(bbox_to_anchor=(1.01, 1.01), loc=2)\n",
        "plt.title('Número total de apartamentos reservados por año', fontsize = 20, pad = 10)\n",
        "plt.xticks(rotation=-45)\n",
        "plt.xlabel('Año')\n",
        "plt.ylabel('Apartamentos')\n",
        "plt.savefig('/content/drive/MyDrive/Sergio Naranjo Fernández/FICHEROS/numero_apartamentos_reservados_por_año.pdf', dpi=300, format='pdf')"
      ]
    },
    {
      "cell_type": "code",
      "execution_count": null,
      "metadata": {
        "id": "pf0kXkGtHkb8"
      },
      "outputs": [],
      "source": [
        "#datos_meses2['conteo']=1\n",
        "datos_meses_ocupacion = datos_meses2.groupby('Reporting Month').sum().reset_index()\n",
        "\n",
        "datos_meses_ocupacion['Dias Ofertados'] = datos_meses_ocupacion['Reservation Days'] + datos_meses_ocupacion['Available Days']\n",
        "datos_meses_ocupacion['Porcentaje Ocupacion'] = datos_meses_ocupacion['Reservation Days'] / datos_meses_ocupacion['Dias Ofertados']\n",
        "datos_meses_ocupacion"
      ]
    },
    {
      "cell_type": "code",
      "execution_count": null,
      "metadata": {
        "id": "pFUMNtzVvuiB"
      },
      "outputs": [],
      "source": [
        "plt.figure(figsize=(10, 6))\n",
        "\n",
        "plt.plot(datos_meses_ocupacion['Reporting Month'], datos_meses_ocupacion['Porcentaje Ocupacion'], marker='o')\n",
        "\n",
        "plt.xlabel('Meses')\n",
        "plt.ylabel('Porcentaje de Ocupación')\n",
        "plt.title('Evolución de la Tasa de Ocupación')\n",
        "\n",
        "plt.xticks(rotation=45)\n",
        "\n",
        "plt.grid(True)\n",
        "plt.tight_layout()\n",
        "plt.show()\n",
        "#faltaría el plt.savefig"
      ]
    },
    {
      "cell_type": "markdown",
      "metadata": {
        "id": "p1xSyazciwBT"
      },
      "source": [
        "NUMERO TOTAL DE RESERVAS POR MESES\n"
      ]
    },
    {
      "cell_type": "code",
      "execution_count": null,
      "metadata": {
        "id": "v06sZOTFR_PX"
      },
      "outputs": [],
      "source": [
        "\n",
        "#filtro de solo los que en cada uno de los meses han sido alquilados\n",
        "#datos_meses2 = datos_meses2[datos_meses2['Occupancy Rate'] > 0]\n",
        "\n",
        "datos_meses_agrupados_mes = datos_meses2.groupby('Reporting Month').sum().reset_index()\n",
        "datos_meses_agrupados_mes"
      ]
    },
    {
      "cell_type": "code",
      "execution_count": null,
      "metadata": {
        "id": "apZ5Dqu0i0QQ"
      },
      "outputs": [],
      "source": [
        "plt.figure(figsize=(200, 7))\n",
        "orden=datos_meses2['Reporting Month'].sort_values()\n",
        "sns.catplot(x='Reporting Month', y='Number of Reservations', data=datos_meses2.groupby('Reporting Month').sum().reset_index(),kind='bar', palette='viridis', aspect=4)\n",
        "plt.legend(bbox_to_anchor=(1.01, 1.01), loc=2)  # Para sacar la leyenda fuera del gráfico\n",
        "plt.xticks(rotation=-45)\n",
        "plt.title('Número total de rservas por meses', fontsize = 20, pad = 10)\n",
        "plt.xlabel('Mes')\n",
        "plt.ylabel('Número de reservas')\n",
        "plt.tight_layout()\n",
        "plt.savefig('/content/drive/MyDrive/Sergio Naranjo Fernández/FICHEROS/numero_reservas_por_meses.pdf', dpi=300, format='pdf')"
      ]
    },
    {
      "cell_type": "markdown",
      "metadata": {
        "id": "mPq4tka03mIW"
      },
      "source": [
        "MEDIA DE LAS ESTANCIAS POR RESERVAS DE CADA UNO DE LOS MESES"
      ]
    },
    {
      "cell_type": "code",
      "execution_count": null,
      "metadata": {
        "id": "jRQ_SL4v3pqM"
      },
      "outputs": [],
      "source": [
        "#PARA ELLO NECESITAMOS REPORTING MONTH, NUMBER OF RESERVATIONS, RESERVATIONS DAY Y LA COLUMNA CALCULADA A PARTIR DE LOS 2 ANTERIORES\n",
        "datos_noches_reservas = datos_meses_agrupados_mes[['Reporting Month', 'Number of Reservations', 'Reservation Days']]\n",
        "datos_noches_reservas['Media Estancia'] = datos_noches_reservas['Reservation Days']/datos_noches_reservas['Number of Reservations']\n",
        "datos_noches_reservas\n",
        "\n",
        "plt.figure(figsize=(14, 7))\n",
        "sns.catplot(x='Reporting Month', y='Media Estancia', data=datos_noches_reservas, kind='bar', aspect=4)\n",
        "plt.xticks(rotation=-45)\n",
        "plt.title('Estacia media por meses ', fontsize = 20, pad = 10)\n",
        "plt.xlabel('Mes')\n",
        "plt.savefig('/content/drive/MyDrive/Sergio Naranjo Fernández/FICHEROS/media_De_las_estancias_meses.pdf', dpi=300, format='pdf')"
      ]
    },
    {
      "cell_type": "code",
      "execution_count": null,
      "metadata": {
        "id": "VqMt8Tzenq6h"
      },
      "outputs": [],
      "source": [
        "datos_noches_reservas"
      ]
    },
    {
      "cell_type": "code",
      "execution_count": null,
      "metadata": {
        "id": "67iT1rAhnuzg"
      },
      "outputs": [],
      "source": [
        "datos_noches_reservas['Reporting Month'] = pd.to_datetime(datos_noches_reservas['Reporting Month'])\n",
        "datos_noches_reservas['Año'] = datos_noches_reservas['Reporting Month'].dt.year\n",
        "datos_noches_reservas_año = datos_noches_reservas.groupby('Año')['Media Estancia'].mean().reset_index()\n",
        "datos_noches_reservas_año"
      ]
    },
    {
      "cell_type": "code",
      "execution_count": null,
      "metadata": {
        "id": "d-3q_UoLpsaZ"
      },
      "outputs": [],
      "source": [
        "datos_noches_reservas_año_verano = datos_noches_reservas\n",
        "datos_noches_reservas_año_verano = datos_noches_reservas[(datos_noches_reservas['Reporting Month'].dt.month >=6) & (datos_noches_reservas['Reporting Month'].dt.month <=8)]\n",
        "datos_noches_reservas_año_verano_año = datos_noches_reservas_año_verano.groupby('Año')['Media Estancia'].mean().reset_index()\n",
        "new_row = pd.DataFrame({'Year': [2016], 'Reservas': [0]})\n",
        "datos_noches_reservas_año_verano_año = pd.concat([new_row, datos_noches_reservas_año_verano_año], ignore_index=True)\n",
        "datos_noches_reservas_año_verano_año"
      ]
    },
    {
      "cell_type": "code",
      "execution_count": null,
      "metadata": {
        "id": "zcHzqZNBqb0g"
      },
      "outputs": [],
      "source": [
        "datos_noches_reservas_año_verano = pd.DataFrame()\n",
        "datos_noches_reservas_año_verano = datos_noches_reservas_año\n",
        "datos_noches_reservas_año_verano['Media Estancia Verano'] = datos_noches_reservas_año_verano_año['Media Estancia']\n",
        "datos_noches_reservas_año_verano"
      ]
    },
    {
      "cell_type": "code",
      "execution_count": null,
      "metadata": {
        "id": "G7qMZfc_rV-8"
      },
      "outputs": [],
      "source": [
        "años = datos_noches_reservas_año_verano['Año']\n",
        "estancia_media = datos_noches_reservas_año_verano['Media Estancia']\n",
        "estancia_media_verano = datos_noches_reservas_año_verano['Media Estancia Verano']\n",
        "\n",
        "bar_width = 0.35\n",
        "r1 = np.arange(len(años))\n",
        "r2 = [x + bar_width for x in r1]\n",
        "\n",
        "plt.figure(figsize=(16, 7))\n",
        "\n",
        "plt.bar(r1, estancia_media, color='b', width=bar_width, edgecolor='grey', label='Estancia media anual')\n",
        "plt.bar(r2, estancia_media_verano, color='#EB984E', width=bar_width, edgecolor='grey', label='Estancia media junio a agosto')\n",
        "\n",
        "plt.xlabel('Año', fontweight='bold')\n",
        "plt.ylabel('Frecuencia')\n",
        "plt.title('Estancia media por reserva')\n",
        "plt.xticks([r + bar_width / 2 for r in range(len(años))], años)  # Ajustar etiquetas para que se centren entre las barras\n",
        "\n",
        "fig = plt.gcf()\n",
        "fig.subplots_adjust(right=0.75)\n",
        "\n",
        "plt.legend(bbox_to_anchor=(1.05, 1), loc='upper left')\n",
        "plt.savefig('/content/drive/MyDrive/Sergio Naranjo Fernández/FICHEROS/estancia_media.pdf', dpi=1000, format='pdf')"
      ]
    },
    {
      "cell_type": "markdown",
      "metadata": {
        "id": "yywMy_GmVuJn"
      },
      "source": [
        "PORCENTAJE DE OCUPACIÓN POR MES"
      ]
    },
    {
      "cell_type": "code",
      "execution_count": null,
      "metadata": {
        "id": "Uu12W8txVryg"
      },
      "outputs": [],
      "source": [
        "datos_ocupacion_meses = datos_meses_agrupados_mes[['Reporting Month', 'Reservation Days', 'Available Days']]\n",
        "datos_ocupacion_meses['Dias Ofertados'] = datos_ocupacion_meses['Reservation Days']+datos_ocupacion_meses['Available Days']\n",
        "datos_ocupacion_meses['Ocupacion'] = (datos_ocupacion_meses['Reservation Days']/datos_ocupacion_meses['Dias Ofertados'])*100\n",
        "\n",
        "plt.figure(figsize=(14, 7))\n",
        "sns.catplot(x='Reporting Month', y='Ocupacion', data=datos_ocupacion_meses, kind='bar', aspect=4)\n",
        "plt.xticks(rotation=-45)\n",
        "plt.title('Porcentaje de ocupación por meses', fontsize = 20, pad = 10)\n",
        "plt.xlabel('Mes')\n",
        "plt.ylabel('Porcentaje ocupación')\n",
        "plt.savefig('/content/drive/MyDrive/Sergio Naranjo Fernández/FICHEROS/porcentaje_ocupacion_por_meses.pdf', dpi=300, format='pdf')"
      ]
    },
    {
      "cell_type": "code",
      "execution_count": null,
      "metadata": {
        "id": "fxsfYw3Axbik"
      },
      "outputs": [],
      "source": [
        "datos_ocupacion_meses"
      ]
    },
    {
      "cell_type": "code",
      "execution_count": null,
      "metadata": {
        "id": "-HAz4L7TCfIA"
      },
      "outputs": [],
      "source": [
        "datos_ocupacion_meses['Reporting Month'] = pd.to_datetime(datos_ocupacion_meses['Reporting Month'])\n",
        "datos_ocupacion_meses['Año'] = datos_ocupacion_meses['Reporting Month'].dt.year\n",
        "datos_ocupacion_meses[['Reservation Days', 'Available Days', 'Dias Ofertados', 'Año']].groupby('Año').sum()"
      ]
    },
    {
      "cell_type": "code",
      "execution_count": null,
      "metadata": {
        "id": "BM1qR5SSsivy"
      },
      "outputs": [],
      "source": [
        "datos_meses_oferta_anual = datos_ocupacion_meses[['Reservation Days', 'Available Days', 'Dias Ofertados', 'Año']].groupby('Año').sum()\n",
        "datos_meses_oferta_anual['Ocupacion'] = datos_meses_oferta_anual['Reservation Days'] / datos_meses_oferta_anual['Dias Ofertados']\n",
        "datos_meses_oferta_anual"
      ]
    },
    {
      "cell_type": "code",
      "execution_count": null,
      "metadata": {
        "id": "-NWmxlKVto3Y"
      },
      "outputs": [],
      "source": [
        "datos_meses_oferta_vernao = datos_ocupacion_meses[(datos_ocupacion_meses['Reporting Month'].dt.month >= 6) & (datos_ocupacion_meses['Reporting Month'].dt.month <= 8)]\n",
        "datos_meses_oferta_vernao['Reporting Month'] = pd.to_datetime(datos_meses_oferta_vernao['Reporting Month'])\n",
        "datos_meses_oferta_vernao['Año'] = datos_meses_oferta_vernao['Reporting Month'].dt.year\n",
        "datos_meses_oferta_vernao[['Reservation Days', 'Available Days', 'Dias Ofertados', 'Año']].groupby('Año').sum()"
      ]
    },
    {
      "cell_type": "code",
      "source": [
        "datos_meses_oferta_vernao_anual = datos_meses_oferta_vernao[['Reservation Days', 'Available Days', 'Dias Ofertados', 'Año']].groupby('Año').sum()\n",
        "calculo = datos_meses_oferta_vernao_anual['Reservation Days'] / datos_meses_oferta_vernao_anual['Dias Ofertados']\n",
        "datos_meses_oferta_anual['Ocupacion Verano'] = calculo\n",
        "datos_meses_oferta_anual"
      ],
      "metadata": {
        "id": "oSvlwsqWuvgu"
      },
      "execution_count": null,
      "outputs": []
    },
    {
      "cell_type": "code",
      "source": [
        "datos_meses_oferta_vernao_anual['Reservation Days'] / datos_meses_oferta_vernao_anual['Dias Ofertados']"
      ],
      "metadata": {
        "id": "cYSVyKzUnhW4"
      },
      "execution_count": null,
      "outputs": []
    },
    {
      "cell_type": "code",
      "execution_count": null,
      "metadata": {
        "id": "tCE1st_iyEms"
      },
      "outputs": [],
      "source": [
        "datos_meses_oferta_anual = datos_meses_oferta_anual.reset_index()\n",
        "datos_meses_oferta_anual"
      ]
    },
    {
      "cell_type": "code",
      "execution_count": null,
      "metadata": {
        "id": "BaUSDrrbyPlI"
      },
      "outputs": [],
      "source": [
        "import numpy as np\n",
        "\n",
        "años = datos_meses_oferta_anual['Año']\n",
        "ocupacion = datos_meses_oferta_anual['Ocupacion']\n",
        "ocupacion_verano = datos_meses_oferta_anual['Ocupacion Verano']\n",
        "\n",
        "bar_width = 0.25\n",
        "r1 = np.arange(len(años))\n",
        "r2 = [x + bar_width for x in r1]\n",
        "plt.figure(figsize=(16, 7))\n",
        "\n",
        "plt.bar(r1, ocupacion, color='b', width=bar_width, edgecolor='grey', label='Ocupación Media Anual')\n",
        "plt.bar(r2, ocupacion_verano, color='#EB984E', width=bar_width, edgecolor='grey', label='Ocupación Media temporada alta')\n",
        "\n",
        "plt.xlabel('Año', fontweight='bold')\n",
        "plt.ylabel('Porcentaje de ocupación')\n",
        "plt.title('Ocupación de alojamientos')\n",
        "plt.xticks([r + bar_width for r in range(len(años))], años)\n",
        "\n",
        "fig = plt.gcf()\n",
        "fig.subplots_adjust(right=0.75)\n",
        "\n",
        "\n",
        "plt.legend(bbox_to_anchor=(1.05, 1), loc='upper left')\n",
        "plt.savefig('/content/drive/MyDrive/Sergio Naranjo Fernández/FICHEROS/evolucion_ocupacion.pdf', dpi=1000, format='pdf')"
      ]
    },
    {
      "cell_type": "code",
      "source": [
        "import matplotlib.pyplot as plt\n",
        "import numpy as np\n",
        "\n",
        "años = datos_meses_oferta_anual['Año']\n",
        "ocupacion = datos_meses_oferta_anual['Ocupacion']\n",
        "ocupacion_verano = datos_meses_oferta_anual['Ocupacion Verano']\n",
        "plt.figure(figsize=(16, 7))\n",
        "\n",
        "plt.plot(años, ocupacion, color='b', marker='o', linestyle='-', label='Ocupación Media Anual')\n",
        "plt.plot(años, ocupacion_verano, color='#EB984E', marker='o', linestyle='-', label='Ocupación Media Verano')\n",
        "\n",
        "plt.xlabel('Año', fontweight='bold')\n",
        "plt.ylabel('Porcentaje de ocupación')\n",
        "plt.title('Ocupación de alojamientos')\n",
        "plt.xticks(años)\n",
        "\n",
        "fig = plt.gcf()\n",
        "fig.subplots_adjust(right=0.75)\n",
        "plt.legend(bbox_to_anchor=(1.05, 1), loc='upper left')\n",
        "plt.savefig('/content/drive/MyDrive/Sergio Naranjo Fernández/FICHEROS/evolucion_ocupacion_lineal.pdf', dpi=1000, format='pdf')\n",
        "plt.show()\n"
      ],
      "metadata": {
        "id": "C5A7zwisdX1G"
      },
      "execution_count": null,
      "outputs": []
    },
    {
      "cell_type": "markdown",
      "metadata": {
        "id": "9HWlpYtfhKHH"
      },
      "source": [
        "EVOLUCIÓN DE OFERTA Y DEMANDA"
      ]
    },
    {
      "cell_type": "code",
      "execution_count": null,
      "metadata": {
        "id": "dKjTuDB4hOai"
      },
      "outputs": [],
      "source": [
        "dat = datos_ocupacion_meses[['Reporting Month', 'Reservation Days', 'Dias Ofertados']]\n",
        "df_long = dat.melt(id_vars='Reporting Month', var_name='Tipo', value_name='Dias')\n",
        "sns.catplot(data=df_long, x='Reporting Month', y='Dias', hue='Tipo',kind='bar', aspect=4)\n",
        "plt.xticks(rotation=-45)"
      ]
    },
    {
      "cell_type": "code",
      "execution_count": null,
      "metadata": {
        "id": "7zcrCtzZ0nHs"
      },
      "outputs": [],
      "source": [
        "prueba = datos_meses2[datos_meses2['Reporting Month'] == '2016-09-01']['Number of Reservations'].sum()\n",
        "prueba"
      ]
    },
    {
      "cell_type": "markdown",
      "metadata": {
        "id": "iZi0r06btyL0"
      },
      "source": [
        "TOTAL INGRESOS ANUALES"
      ]
    },
    {
      "cell_type": "code",
      "source": [
        "ue_verano = datos_meses2.groupby('Year')['Revenue (Native)'].sum()\n",
        "ue_verano2 = ue_verano.reset_index()"
      ],
      "metadata": {
        "id": "qTjNzjJZqbpX"
      },
      "execution_count": null,
      "outputs": []
    },
    {
      "cell_type": "code",
      "execution_count": null,
      "metadata": {
        "id": "Y7lZUXn0t0jz"
      },
      "outputs": [],
      "source": [
        "ue = datos_meses2.groupby('Year')['Revenue (Native)'].sum()\n",
        "ue2 = ue.reset_index()\n",
        "ue2.columns = ['Year', 'Ingresos Totales']\n",
        "ue2\n",
        "\n",
        "nueva_fila = pd.DataFrame({'Year': [2016], 'Revenue (Native)': [0]})\n",
        "\n",
        "ue_verano2 = pd.concat([nueva_fila, ue_verano2], ignore_index=True)\n",
        "ue_verano2\n",
        "\n",
        "ingresos_anual_verano = ue2\n",
        "\n",
        "ingresos_anual_verano['Total Ingresos Verano'] = ue_verano2['Revenue (Native)']\n",
        "ingresos_anual_verano['Porcentaje Verano'] = (ingresos_anual_verano['Total Ingresos Verano'] / ingresos_anual_verano['Ingresos Totales'])*100\n",
        "ingresos_anual_verano"
      ]
    },
    {
      "cell_type": "code",
      "execution_count": null,
      "metadata": {
        "id": "RMRz1NX1ywOH"
      },
      "outputs": [],
      "source": [
        "from matplotlib.ticker import FuncFormatter\n",
        "\n",
        "años = ingresos_anual_verano['Year']\n",
        "ingresos_totales = ingresos_anual_verano['Ingresos Totales']\n",
        "ingresos_totales_verano = ingresos_anual_verano['Total Ingresos Verano']\n",
        "percent_verano = ingresos_anual_verano['Porcentaje Verano']\n",
        "\n",
        "bar_width = 0.35\n",
        "r1 = np.arange(len(años))\n",
        "r2 = [x + bar_width for x in r1]\n",
        "\n",
        "def millones(x, pos):\n",
        "    return '%1.1fM' % (x * 1e-6)\n",
        "\n",
        "plt.figure(figsize=(16, 7))\n",
        "\n",
        "plt.bar(r1, ingresos_totales, color='b', width=bar_width, edgecolor='grey', label='Ingresos anuales')\n",
        "plt.bar(r2, ingresos_totales_verano, color='#EB984E', width=bar_width, edgecolor='grey', label='Ingresos junio a agosto')\n",
        "\n",
        "plt.xlabel('Año', fontweight='bold', fontsize=12)\n",
        "plt.ylabel('Ingresos (en millones)', fontsize=12)\n",
        "plt.title('Ingresos totales', fontsize=16)\n",
        "plt.xticks([r + bar_width / 2 for r in range(len(años))], años, fontsize=12)\n",
        "\n",
        "fig = plt.gcf()\n",
        "fig.subplots_adjust(right=0.75)\n",
        "\n",
        "plt.legend(bbox_to_anchor=(1.05, 1), loc='upper left')\n",
        "\n",
        "for i, perc in enumerate(percent_verano):\n",
        "    plt.text(r2[i], ingresos_totales_verano[i] + 50, f'{perc:.1f}%', ha='center', va='bottom', fontsize=10)\n",
        "\n",
        "formatter = FuncFormatter(millones)\n",
        "plt.gca().yaxis.set_major_formatter(formatter)\n",
        "\n",
        "\n",
        "plt.savefig('/content/drive/MyDrive/Sergio Naranjo Fernández/FICHEROS/ingresos_totales.pdf', dpi=1000, format='pdf')\n",
        "plt.show()"
      ]
    },
    {
      "cell_type": "code",
      "source": [
        "import matplotlib.pyplot as plt\n",
        "import numpy as np\n",
        "from matplotlib.ticker import FuncFormatter\n",
        "\n",
        "años = ingresos_anual_verano['Year']\n",
        "ingresos_totales = ingresos_anual_verano['Ingresos Totales']\n",
        "ingresos_totales_verano = ingresos_anual_verano['Total Ingresos Verano']\n",
        "percent_verano = ingresos_anual_verano['Porcentaje Verano']\n",
        "\n",
        "def millones(x, pos):\n",
        "    return '%1.1fM' % (x * 1e-6)\n",
        "\n",
        "plt.figure(figsize=(16, 7))\n",
        "\n",
        "plt.plot(años, ingresos_totales, color='b', marker='o', linestyle='-', label='Ingresos anuales')\n",
        "plt.plot(años, ingresos_totales_verano, color='#EB984E', marker='o', linestyle='-', label='Ingresos junio a septiembre')\n",
        "plt.xlabel('Año', fontweight='bold', fontsize=12)\n",
        "plt.ylabel('Ingresos (en millones)', fontsize=12)\n",
        "plt.title('Ingresos totales', fontsize=16)\n",
        "plt.xticks(años, fontsize=12)\n",
        "\n",
        "formatter = FuncFormatter(millones)\n",
        "plt.gca().yaxis.set_major_formatter(formatter)\n",
        "\n",
        "fig = plt.gcf()\n",
        "fig.subplots_adjust(right=0.75)\n",
        "plt.legend(bbox_to_anchor=(1.05, 1), loc='upper left')\n",
        "\n",
        "for i, perc in enumerate(percent_verano):\n",
        "    plt.text(años[i], ingresos_totales_verano[i], f'{perc:.1f}%', ha='center', va='bottom', fontsize=10)\n",
        "\n",
        "\n",
        "plt.savefig('/content/drive/MyDrive/Sergio Naranjo Fernández/FICHEROS/ingresos_totales_lineal.pdf', dpi=1000, format='pdf')\n",
        "plt.show()\n"
      ],
      "metadata": {
        "id": "WzlnsXxLd1Hb"
      },
      "execution_count": null,
      "outputs": []
    },
    {
      "cell_type": "markdown",
      "metadata": {
        "id": "x6mf93FH4sW9"
      },
      "source": [
        "INGRESOS POR ESTANCIA"
      ]
    },
    {
      "cell_type": "code",
      "execution_count": null,
      "metadata": {
        "id": "TjV1zXXA4uvl"
      },
      "outputs": [],
      "source": [
        "datos_noches_reservas_año_verano"
      ]
    },
    {
      "cell_type": "code",
      "execution_count": null,
      "metadata": {
        "id": "WgbyDpiXBgDA"
      },
      "outputs": [],
      "source": [
        "diarios_reservados_merge = datos_diarios_reservados_notna\n",
        "diarios_reservados_merge_verano = diarios_reservados_merge[(diarios_reservados_merge['Date'].dt.month >= 6) & (diarios_reservados_merge['Date'].dt.month <= 8)]\n",
        "diarios_reservados_merge_verano['Año'] = diarios_reservados_merge_verano['Date'].dt.year\n",
        "diarios_reservados_merge_verano"
      ]
    },
    {
      "cell_type": "code",
      "execution_count": null,
      "metadata": {
        "id": "nnOtz2OzHEFH"
      },
      "outputs": [],
      "source": [
        "precio_medio_verano = diarios_reservados_merge_verano.groupby('Año')['Price (Native)'].mean().reset_index()\n",
        "precio_medio_verano"
      ]
    },
    {
      "cell_type": "code",
      "execution_count": null,
      "metadata": {
        "id": "C98r0zqsIEOV"
      },
      "outputs": [],
      "source": [
        "precio_medio_anual = datos_diarios_reservados_notna.groupby('Año')['Price (Native)'].mean().reset_index()\n",
        "precio_medio_anual"
      ]
    },
    {
      "cell_type": "code",
      "execution_count": null,
      "metadata": {
        "id": "7UBglkRTJVG9"
      },
      "outputs": [],
      "source": [
        "precio_medio = pd.merge(precio_medio_verano, precio_medio_anual, on='Año', how='right')\n",
        "precio_medio.columns = ['Año', 'Precio Medio Verano', 'Precio Medio Anual']\n",
        "precio_medio"
      ]
    },
    {
      "cell_type": "code",
      "execution_count": null,
      "metadata": {
        "id": "4CE5gSkBKKFs"
      },
      "outputs": [],
      "source": [
        "años = precio_medio['Año']\n",
        "precio_verano = precio_medio['Precio Medio Verano']\n",
        "precio_anual = precio_medio['Precio Medio Anual']\n",
        "\n",
        "bar_width = 0.35\n",
        "r1 = np.arange(len(años))\n",
        "r2 = [x + bar_width for x in r1]\n",
        "plt.figure(figsize=(16, 7))\n",
        "\n",
        "plt.bar(r1, precio_anual, color='b', width=bar_width, edgecolor='grey', label='Precio medio anual')\n",
        "plt.bar(r2, precio_verano, color='#EB984E', width=bar_width, edgecolor='grey', label='Precio medio junio a agosto')\n",
        "\n",
        "plt.xlabel('Año', fontweight='bold', fontsize=12)\n",
        "plt.ylabel('Precio Medio', fontsize=12)\n",
        "plt.title('Precio medio por noche', fontsize=16)\n",
        "plt.xticks([r + bar_width / 2 for r in range(len(años))], años, fontsize=12)  # Ajustar etiquetas para que se centren entre las barras\n",
        "\n",
        "fig = plt.gcf()\n",
        "fig.subplots_adjust(right=0.75)\n",
        "\n",
        "plt.legend(bbox_to_anchor=(1.05, 1), loc='upper left', fontsize=12)\n",
        "\n",
        "plt.savefig('/content/drive/MyDrive/Sergio Naranjo Fernández/FICHEROS/precio_medio_anual_verano.pdf', dpi=1000, format='pdf')\n",
        "plt.show()"
      ]
    },
    {
      "cell_type": "code",
      "execution_count": null,
      "metadata": {
        "id": "vJTEWDE1Lpxq"
      },
      "outputs": [],
      "source": [
        "datos_noches_reservas_año_verano = datos_noches_reservas_año_verano.fillna(0)\n",
        "datos_noches_reservas_año_verano"
      ]
    },
    {
      "cell_type": "code",
      "execution_count": null,
      "metadata": {
        "id": "jlJdT2E4Lr3I"
      },
      "outputs": [],
      "source": [
        "precio_medio"
      ]
    },
    {
      "cell_type": "code",
      "source": [
        "datos_noches_reservas_año_verano"
      ],
      "metadata": {
        "id": "ADIg0J9zr4Sw"
      },
      "execution_count": null,
      "outputs": []
    },
    {
      "cell_type": "code",
      "execution_count": null,
      "metadata": {
        "id": "ObZRx8MENMDw"
      },
      "outputs": [],
      "source": [
        "ingresos_por_estancia = pd.DataFrame()\n",
        "ingresos_por_estancia['Año'] = datos_noches_reservas_año_verano['Año']\n",
        "ingresos_por_estancia['Ingresos Anuales'] = datos_noches_reservas_año_verano['Media Estancia'] * precio_medio['Precio Medio Anual']\n",
        "ingresos_por_estancia['Ingresos Verano'] = datos_noches_reservas_año_verano['Media Estancia Verano'] * precio_medio['Precio Medio Verano']\n",
        "ingresos_por_estancia = ingresos_por_estancia.fillna(0)\n",
        "ingresos_por_estancia"
      ]
    },
    {
      "cell_type": "code",
      "execution_count": null,
      "metadata": {
        "id": "pc9KpWmGNzNz"
      },
      "outputs": [],
      "source": [
        "años = ingresos_por_estancia['Año']\n",
        "ingresos_estancia_anual = ingresos_por_estancia['Ingresos Anuales']\n",
        "ingresos_estancia_verano = ingresos_por_estancia['Ingresos Verano']\n",
        "\n",
        "bar_width = 0.35\n",
        "r1 = np.arange(len(años))\n",
        "r2 = [x + bar_width for x in r1]\n",
        "plt.figure(figsize=(16, 7))\n",
        "\n",
        "plt.bar(r1, ingresos_estancia_anual, color='b', width=bar_width, edgecolor='grey', label='Ingresos por estancia anual')\n",
        "plt.bar(r2, ingresos_estancia_verano, color='#EB984E', width=bar_width, edgecolor='grey', label='Ingresos por estancia junio a agosto')\n",
        "\n",
        "plt.xlabel('Año', fontweight='bold', fontsize=12)\n",
        "plt.ylabel('Ingresos Medios', fontsize=12)\n",
        "plt.title('Ingresos medios por estancia', fontsize=16)\n",
        "plt.xticks([r + bar_width / 2 for r in range(len(años))], años, fontsize=12)  # Ajustar etiquetas para que se centren entre las barras\n",
        "\n",
        "fig = plt.gcf()\n",
        "fig.subplots_adjust(right=0.75)\n",
        "\n",
        "plt.legend(bbox_to_anchor=(1.05, 1), loc='upper left', fontsize=12)\n",
        "plt.tight_layout()\n",
        "\n",
        "plt.savefig('/content/drive/MyDrive/Sergio Naranjo Fernández/FICHEROS/ingresos_medios_estancia.pdf', dpi=1000, format='pdf')\n",
        "plt.show()"
      ]
    },
    {
      "cell_type": "markdown",
      "source": [
        "GRAFICA DE EVOLUCION DE OCUPACION EN UN AÑO PERO CON TODOS LOS DATOS DEL PERIODO"
      ],
      "metadata": {
        "id": "fPu-0Y5ZenUg"
      }
    },
    {
      "cell_type": "code",
      "source": [
        "datos_meses2_reservados = datos_meses2[datos_meses2['Occupancy Rate'] > 0]\n",
        "datos_meses2_reservados['Reporting Month'] = pd.to_datetime(datos_meses2_reservados['Reporting Month'])\n",
        "datos_meses2_reservados['Mes'] = datos_meses2_reservados['Reporting Month'].dt.month\n",
        "datos_meses2_reservados"
      ],
      "metadata": {
        "id": "Fu7I2bYqes88"
      },
      "execution_count": null,
      "outputs": []
    },
    {
      "cell_type": "code",
      "source": [
        "datos_meses2_reservados_por_mes = datos_meses2_reservados[['Occupancy Rate', 'Mes']].groupby('Mes').mean()\n",
        "datos_meses2_reservados_por_mes"
      ],
      "metadata": {
        "id": "o0RtQzAIfZPq"
      },
      "execution_count": null,
      "outputs": []
    },
    {
      "cell_type": "code",
      "source": [
        "datos_meses2_reservados_por_mes['Occupancy Rate'].mean()"
      ],
      "metadata": {
        "id": "wnGd9nwfj86q"
      },
      "execution_count": null,
      "outputs": []
    },
    {
      "cell_type": "code",
      "source": [
        "import numpy as np\n",
        "import pandas as pd\n",
        "import matplotlib.pyplot as plt\n",
        "from scipy.interpolate import make_interp_spline\n",
        "\n",
        "datos_meses2_reservados_por_mes = datos_meses2_reservados_por_mes.sort_index()\n",
        "datos_meses2_reservados_por_mes['Occupancy Rate'] *= 100\n",
        "\n",
        "x = np.arange(len(datos_meses2_reservados_por_mes))\n",
        "y = datos_meses2_reservados_por_mes['Occupancy Rate'].values\n",
        "\n",
        "#  máximo y mínimo\n",
        "max_index = y.argmax()\n",
        "min_index = y.argmin()\n",
        "\n",
        "#curva\n",
        "x_new = np.linspace(x.min(), x.max(), 300)\n",
        "\n",
        "spl = make_interp_spline(x, y, k=3) #revisar\n",
        "y_smooth = spl(x_new)\n",
        "\n",
        "plt.figure(figsize=(12, 6))\n",
        "plt.plot(x_new, y_smooth, label='Occupancy Rate', color='#3498db', linewidth=2, zorder=1)\n",
        "\n",
        "plt.scatter(x[max_index], y[max_index], color='#2ecc71', s=100, label=f'Máximo: {y[max_index]:.2f}%', zorder=2)\n",
        "plt.scatter(x[min_index], y[min_index], color='#e74c3c', s=100, label=f'Mínimo: {y[min_index]:.2f}%', zorder=2)\n",
        "\n",
        "plt.scatter(x, y, color='#34495e', marker='o', zorder=1)\n",
        "\n",
        "plt.xlabel('Mes', fontsize=14, fontweight='bold', color='#34495e')\n",
        "plt.ylabel('Occupancy Rate (%)', fontsize=14, fontweight='bold', color='#34495e')\n",
        "plt.title('Average Occupancy Rate by Month', fontsize=18, fontweight='bold', color='#34495e')\n",
        "plt.xticks(x, datos_meses2_reservados_por_mes.index, rotation=45, fontsize=10, color='#34495e')\n",
        "\n",
        "plt.ylim(0, 100)\n",
        "plt.grid(True, linestyle='--', alpha=0.7)\n",
        "\n",
        "plt.gca().set_facecolor('#f5f5f5')\n",
        "plt.gca().spines['top'].set_visible(False)\n",
        "plt.gca().spines['right'].set_visible(False)\n",
        "plt.gca().spines['left'].set_color('#95a5a6')\n",
        "plt.gca().spines['bottom'].set_color('#95a5a6')\n",
        "\n",
        "plt.legend(fontsize=12, loc='upper right')\n",
        "\n",
        "plt.annotate(f'agosto: {y[max_index]:.2f}%', (x[max_index], y[max_index]), xytext=(x[max_index] + 0.5, y[max_index] + 5),\n",
        "             fontsize=12, color='#2ecc71', fontweight='bold', arrowprops=dict(arrowstyle='->', color='#2ecc71'))\n",
        "plt.annotate(f'noviembre: {y[min_index]:.2f}%', (x[min_index], y[min_index]), xytext=(x[min_index] + 0.5, y[min_index] - 8),\n",
        "             fontsize=12, color='#e74c3c', fontweight='bold', arrowprops=dict(arrowstyle='->', color='#e74c3c'))\n",
        "\n",
        "plt.tight_layout()\n",
        "plt.savefig('/content/drive/MyDrive/Sergio Naranjo Fernández/FICHEROS/occupancy_rate_by_month_smooth_with_max_min_beautiful.pdf', dpi=300, format='pdf')\n",
        "plt.show()\n",
        "\n",
        "\n"
      ],
      "metadata": {
        "id": "_qroBELAh9kL"
      },
      "execution_count": null,
      "outputs": []
    },
    {
      "cell_type": "markdown",
      "source": [
        "IGUAL PERO SOLO DE LOS ÚLTIMOS 12 MESES"
      ],
      "metadata": {
        "id": "oe8l5kfegq0n"
      }
    },
    {
      "cell_type": "code",
      "source": [
        "fecha_mas_reciente = datos_meses2_reservados['Reporting Month'].max()\n",
        "fecha_limite = fecha_mas_reciente - pd.DateOffset(months=12)\n",
        "ultimos_12_meses = datos_meses2_reservados[datos_meses2_reservados['Reporting Month'] >= fecha_limite]\n",
        "ultimos_12_meses"
      ],
      "metadata": {
        "id": "rRqRlnqMghie"
      },
      "execution_count": null,
      "outputs": []
    },
    {
      "cell_type": "code",
      "source": [
        "datos_meses2_reservados_por_mes_ultimos_12 = ultimos_12_meses[['Occupancy Rate', 'Mes']].groupby('Mes').mean()\n",
        "datos_meses2_reservados_por_mes_ultimos_12"
      ],
      "metadata": {
        "id": "Br4exC3uf3aJ"
      },
      "execution_count": null,
      "outputs": []
    },
    {
      "cell_type": "markdown",
      "metadata": {
        "id": "NBRigMprtrbt"
      },
      "source": [
        "# MAPA DE ALOJAMIENTOS"
      ]
    },
    {
      "cell_type": "code",
      "execution_count": null,
      "metadata": {
        "id": "yT7z7wJI3bUp"
      },
      "outputs": [],
      "source": [
        "pip install pdfkit"
      ]
    },
    {
      "cell_type": "code",
      "source": [
        "m = folium.Map(location=[datos_properties_columnas_completadas_merge['Latitude'].mean(),\n",
        "                         datos_properties_columnas_completadas_merge['Longitude'].mean()],\n",
        "               zoom_start=6)\n",
        "marker_cluster = MarkerCluster().add_to(m)\n",
        "\n",
        "for index, row in datos_properties_columnas_completadas_merge.iterrows():\n",
        "    folium.Marker(\n",
        "        location=[row['Latitude'], row['Longitude']],\n",
        "        popup=row.get('Nombre', 'Sin nombre')\n",
        "    ).add_to(marker_cluster)\n",
        "\n",
        "display(m)"
      ],
      "metadata": {
        "id": "vluH6VQ7qETt"
      },
      "execution_count": null,
      "outputs": []
    },
    {
      "cell_type": "markdown",
      "metadata": {
        "id": "gEEQZ7L6tv_A"
      },
      "source": [
        "# EVENTOS TORREVIEJA\n"
      ]
    },
    {
      "cell_type": "markdown",
      "metadata": {
        "id": "bBJxsecdFgTQ"
      },
      "source": [
        "DATOS EVENTOS"
      ]
    },
    {
      "cell_type": "code",
      "execution_count": null,
      "metadata": {
        "id": "PTzMuvb0FfAe"
      },
      "outputs": [],
      "source": [
        "eventos = pd.read_csv(\"/content/drive/MyDrive/Sergio Naranjo Fernández/DATOS/EVENTOS.csv\")\n",
        "eventos"
      ]
    },
    {
      "cell_type": "code",
      "execution_count": null,
      "metadata": {
        "id": "oyti806lxdRz"
      },
      "outputs": [],
      "source": [
        "eventos['Total Recaudado'] = None\n",
        "eventos['Tasa Ocupacion'] = None\n",
        "eventos['Total Diario'] = None"
      ]
    },
    {
      "cell_type": "markdown",
      "metadata": {
        "id": "Os-djqk0kpjr"
      },
      "source": [
        "AGRUPADO POR DÍA, EL PRECIO TOTAL INGRESADO Y EL NÚMERO DE ALOJAMIENTOS RESERVADOS ESE DIA, CREOOOOOO"
      ]
    },
    {
      "cell_type": "code",
      "execution_count": null,
      "metadata": {
        "id": "k1_t5K630Sxd"
      },
      "outputs": [],
      "source": [
        "datos_diarios_reservados_properties = pd.merge(datos_diarios_reservados, datosAlojamientos,on='Property ID', how='inner')\n",
        "\n",
        "datos_diarios_reservados_fecha_aux = datos_diarios_reservados_properties\n",
        "datos_diarios_reservados_fecha_aux['Conteo'] = 1\n",
        "datos_diarios_reservados_fecha_aux = datos_diarios_reservados_fecha_aux.groupby('Date')\n",
        "datos_diarios_reservados_fecha_aux.sum().reset_index()[['Date', 'Price (Native)', 'Conteo']]"
      ]
    },
    {
      "cell_type": "code",
      "execution_count": null,
      "metadata": {
        "id": "7eh1vAXMk3pi"
      },
      "outputs": [],
      "source": [
        "datos_diarios_reservados_fecha_aux['Date'].dtype\n",
        "datos_diarios_reservados_fecha_aux_aux = datos_diarios_reservados_fecha_aux.sum().reset_index()[['Date', 'Price (Native)', 'Conteo']]\n",
        "datos_diarios_reservados_fecha_aux_aux['Date'] = pd.to_datetime(datos_diarios_reservados_fecha_aux_aux['Date'])\n",
        "datos_diarios_reservados_fecha_aux_aux[datos_diarios_reservados_fecha_aux_aux['Date'] > '2023-08']"
      ]
    },
    {
      "cell_type": "code",
      "execution_count": null,
      "metadata": {
        "id": "iVSRXBvCP0IJ"
      },
      "outputs": [],
      "source": [
        "datos_diarios23 = pd.merge(datos_diarios, datosAlojamientos, on='Property ID', how='inner')\n",
        "datos_diarios233 = datos_diarios23\n",
        "ocupacion_diaria23 = datos_diarios233.groupby(['Date', 'Status']).size().unstack(fill_value=0)\n",
        "ocupacion_diaria23['tasa_ocupacion'] = ocupacion_diaria23['R'] / (ocupacion_diaria23['A'] + ocupacion_diaria23['R'])\n",
        "ocupacion_diaria23.reset_index(inplace=True)\n",
        "ocupacion_diaria23"
      ]
    },
    {
      "cell_type": "code",
      "execution_count": null,
      "metadata": {
        "id": "gM5x24_QTH9h"
      },
      "outputs": [],
      "source": [
        "ocupacion_diaria23['Date'] = pd.to_datetime(ocupacion_diaria23['Date'] )"
      ]
    },
    {
      "cell_type": "code",
      "execution_count": null,
      "metadata": {
        "id": "PrRrc73dWymb"
      },
      "outputs": [],
      "source": [
        "fecha = '2016-09-04'\n",
        "fe = pd.to_datetime(fecha)\n",
        "print(type(fe.strftime('%Y-%m-%d')))\n",
        "ocupacion_diaria23[ocupacion_diaria23['Date'] == fe.strftime('%Y-%m-%d')]['tasa_ocupacion'].iloc[0]"
      ]
    },
    {
      "cell_type": "code",
      "execution_count": null,
      "metadata": {
        "id": "Qp6MSVLfHCYQ"
      },
      "outputs": [],
      "source": [
        "from datetime import datetime, timedelta\n",
        "\n",
        "totales_diario = datos_diarios_reservados_fecha_aux.sum().reset_index()\n",
        "\n",
        "totales_diario['Date'] = pd.to_datetime(totales_diario['Date'])\n",
        "\n",
        "\n",
        "\n",
        "for evento, fila in eventos.iterrows():\n",
        "    evento = fila['NOMBRE EVENTO Y EDICION']\n",
        "    fi = datetime.strptime(fila['FECHA INICIO'], \"%Y-%m-%d\").date()-timedelta(days=1)\n",
        "    ff = datetime.strptime(fila['FECHA FIN'], \"%Y-%m-%d\").date()\n",
        "\n",
        "\n",
        "\n",
        "    fecha_inicio = pd.to_datetime(fi)\n",
        "    fecha_fin = pd.to_datetime(ff)\n",
        "\n",
        "    print(\"inicio: \" + str(fecha_inicio) + \" fin: \" + str(fecha_fin))\n",
        "\n",
        "    #HASTA AQUI TENGO PARA CADA EVENTO LA FECHA INICIO Y FECHA FIN\n",
        "    #AHORA TENGO QUE VER LA DIFERENCIA DE DÍAS ENTRE ESTAS FECHA\n",
        "    #PARA ASI SABER QUE FECHAS TENGO QUE BUSCAR EN EL DATASET\n",
        "    #Y UNA VEZ ENCUENTRE LA FECHA FIN +1 O +2 PARAR EL BUCLE PORQUE ES INNECESARIO\n",
        "\n",
        "    #EMPEZAR 1 DÍA ANTES DEL DÍA INICIO Y AÑADIR 1 DÍA MAS AL FIN\n",
        "\n",
        "    #HACER UN ARRAY DE FECHAS Y CON ISIN ENCONTRAR ESAS FECHAS Y ASÍ PODER SUMAR EL TOTAL\n",
        "\n",
        "    fechas = []\n",
        "    fechas.append(fecha_inicio.strftime('%Y-%m-%d'))\n",
        "\n",
        "    total_evento = 0\n",
        "    total_ocupacion = 0\n",
        "    ocupacion_diaria = 0\n",
        "\n",
        "    while fecha_inicio <= fecha_fin:\n",
        "\n",
        "\n",
        "      #AHORA YA SOLO NOS QUEDA SACAR EL SUMATORIO DE CADA EVENTO, ESTARIA BIEN HACER UN DATAFRAME CON ESTOS DATOS\n",
        "      #Y ASÍ SE QUEDA MEJOR ESTRUCTURADO\n",
        "      print(\"hola\")\n",
        "      print(totales_diario['Date'].dtypes)\n",
        "\n",
        "\n",
        "      #aqui me guarda el total diario para cada fecha que comparo\n",
        "      total_diario = totales_diario[totales_diario['Date'] == fecha_inicio]['Price (Native)'].values\n",
        "\n",
        "      print(total_diario)\n",
        "\n",
        "      #llamada a la funcion para calcular la ocupacion\n",
        "      print(\"Probando \" + str(fecha_inicio))\n",
        "      print(type(fecha_inicio))\n",
        "      fecha2 = fecha_inicio.strftime('%Y-%m-%d')\n",
        "      print(\"Probando \" + str(fecha2))\n",
        "      ocupacionnn = ocupacion_diaria23[ocupacion_diaria23['Date'] == fecha2]['tasa_ocupacion'].iloc[0]\n",
        "      ocupacion_diaria = ocupacion_diaria + ocupacionnn\n",
        "      #funcion_ocupacion(fecha_inicio)\n",
        "\n",
        "\n",
        "      fecha_inicio += timedelta(days=1)\n",
        "      fechas.append(fecha_inicio.strftime('%Y-%m-%d'))\n",
        "\n",
        "      #DARLE UNA VUELTAAAAAAAAAAAAAAAAAAAAAAAAAAAAAAAAAAAAAAAAAAAAAAAAAAAAAAAAA\n",
        "      #filas_dias = datos_diarios_reservados.sum().reset_index()[datos_diarios_reservados.sum().reset_index()['Date'].isin(fechas)]\n",
        "      #filas_dias\n",
        "\n",
        "      #SOBRE ESTE DATAFRAME CREO QUE TENGO QUE ITERAR PARA SACAR EL SUMATORIO\n",
        "\n",
        "\n",
        "      dias_evento = fecha_fin - fecha_inicio\n",
        "\n",
        "      total_evento = total_evento + total_diario\n",
        "\n",
        "    print(\"Total evento: \"+ str(total_evento))\n",
        "    #añadir al evento el total generado\n",
        "\n",
        "    total_ocupacion = ocupacion_diaria/len(fechas)\n",
        "\n",
        "    total_diario = total_evento/len(fechas)\n",
        "\n",
        "    eventos.loc[eventos['NOMBRE EVENTO Y EDICION'] == evento, 'Total Recaudado'] = total_evento\n",
        "    eventos.loc[eventos['NOMBRE EVENTO Y EDICION'] == evento, 'Tasa Ocupacion'] = total_ocupacion\n",
        "    eventos.loc[eventos['NOMBRE EVENTO Y EDICION'] == evento, 'Total Diario'] = total_diario\n",
        "\n",
        "      #print(fechas)\n",
        "\n",
        "    #COGER 1 DÍA ANTEs Y UN DÍA DESPUES\n",
        "\n",
        "\n",
        "\n",
        "\n"
      ]
    },
    {
      "cell_type": "code",
      "execution_count": null,
      "metadata": {
        "id": "7bUUuVa6Kmq1"
      },
      "outputs": [],
      "source": [
        "#datos_diarios2 = pd.merge(datos_diarios, datosAlojamientos, on='Property ID', how='inner')\n",
        "datos_dairios_aux = datos_diarios23\n",
        "datos_dairios_aux['Date'] = pd.to_datetime(datos_dairios_aux['Date'])\n",
        "\n",
        "#MEJORA: CREO 2 DATASETS, UNO CON A Y OTRO CON R, AGRUPO POR DIA Y VER COMO SACAR LOS APARTAMENTOS PUESTO EN ALQUILER\n",
        "\n",
        "def funcion_ocupacion(fecha):\n",
        "\n",
        "  #cogemos valores del datos_diarios\n",
        "  #deolvemos ya la tasa de ocupación de ese día\n",
        "  #así en la otra función se van sumando y se divide ese total entre los días totales del array\n",
        "\n",
        "  valores_ocupacion = ['A', 'R']\n",
        "  valores_reservados = ['R']\n",
        "  #ocupacion = datos_dairios_aux[datos_dairios_aux['Status'].isin(valores)]\n",
        "  #ocupacion\n",
        "\n",
        "  ofertados = datos_dairios_aux[(datos_dairios_aux['Status'].isin(valores_ocupacion)) & (datos_dairios_aux['Date'] == fecha)]\n",
        "  apt_ofertados = ofertados.shape[0]\n",
        "\n",
        "  reservados = datos_dairios_aux[(datos_dairios_aux['Status'] == 'R') & (datos_dairios_aux['Date'] == fecha)]\n",
        "  apt_reservados = reservados.shape[0]\n",
        "\n",
        "  return apt_reservados/apt_ofertados"
      ]
    },
    {
      "cell_type": "markdown",
      "metadata": {
        "id": "IWjGAVo74Dtp"
      },
      "source": [
        "COMPARACIÓN TASAS DE OCUPACIÓN CUANDO SON"
      ]
    },
    {
      "cell_type": "code",
      "execution_count": null,
      "metadata": {
        "id": "rv8Tk9W14zTr"
      },
      "outputs": [],
      "source": [
        "import ast\n",
        "\n",
        "eventos_comparar = pd.read_csv(\"/content/drive/MyDrive/Sergio Naranjo Fernández/DATOS/EVENTOS-COMPARAR.csv\")\n",
        "eventos_comparar['FECHA NO ORGANIZADO'] = eventos_comparar['FECHA NO ORGANIZADO'].apply(ast.literal_eval)\n",
        "eventos_comparar"
      ]
    },
    {
      "cell_type": "code",
      "execution_count": null,
      "metadata": {
        "id": "ZexgDTz7cSsH"
      },
      "outputs": [],
      "source": [
        "eventos_comparar['TASA DE OCUPACION'] = 0\n",
        "eventos_comparar['TASA DE OCUPACION MEDIA'] = 0"
      ]
    },
    {
      "cell_type": "code",
      "execution_count": null,
      "metadata": {
        "id": "Dai_0m745YxH"
      },
      "outputs": [],
      "source": [
        "from datetime import datetime, timedelta\n",
        "\n",
        "for evento_comparar, fila in eventos_comparar.iterrows():\n",
        "    media = 0\n",
        "    evento_comparar = fila['NOMBRE EVENTO Y EDICION']\n",
        "    print(evento_comparar)\n",
        "    fi = datetime.strptime(fila['FECHA INICIO'], \"%Y-%m-%d\").date()-timedelta(days=1)\n",
        "    ff = datetime.strptime(fila['FECHA FIN'], \"%Y-%m-%d\").date()\n",
        "\n",
        "    fechas_no_organizado = fila['FECHA NO ORGANIZADO']\n",
        "\n",
        "    total_ocupacion_año = 0\n",
        "    total_ocupacion_evento = 0\n",
        "\n",
        "    for año in fechas_no_organizado:\n",
        "        #en año tengo los años en que no se han organizado\n",
        "        print(año)\n",
        "\n",
        "        fecha_inicio = pd.to_datetime(fi)\n",
        "        fecha_inicio_dia = fecha_inicio.day\n",
        "        fecha_inicio_mes = fecha_inicio.month\n",
        "        fecha_inicio_comprar = datetime(year=año, month=fecha_inicio_mes, day=fecha_inicio_dia)\n",
        "\n",
        "        print(fecha_inicio_comprar)\n",
        "\n",
        "\n",
        "        fecha_fin = pd.to_datetime(ff)\n",
        "        fecha_fin_dia = fecha_fin.day\n",
        "        fecha_fin_mes = fecha_fin.month\n",
        "        fecha_fin_comprar = datetime(year=año, month=fecha_fin_mes, day=fecha_fin_dia)\n",
        "\n",
        "        print(fecha_fin_comprar)\n",
        "\n",
        "        fechas = []\n",
        "        fechas.append(fecha_inicio_comprar.strftime('%Y-%m-%d'))\n",
        "        ocupacion_diaria = 0\n",
        "\n",
        "        while fecha_inicio_comprar <= fecha_fin_comprar:\n",
        "\n",
        "            fecha2 = fecha_inicio_comprar.strftime('%Y-%m-%d')\n",
        "            print(\"Probando \" + str(fecha2))\n",
        "            ocupacionnn = ocupacion_diaria23[ocupacion_diaria23['Date'] == fecha2]['tasa_ocupacion'].iloc[0]\n",
        "\n",
        "            ocupacion_diaria = ocupacion_diaria + ocupacionnn\n",
        "            #funcion_ocupacion(fecha_inicio_comprar)\n",
        "\n",
        "            fechas.append(fecha_inicio_comprar.strftime('%Y-%m-%d'))\n",
        "            fecha_inicio_comprar += timedelta(days=1)\n",
        "\n",
        "        total_ocupacion_año = ocupacion_diaria/len(fechas)\n",
        "        total_ocupacion_evento = total_ocupacion_evento + total_ocupacion_año\n",
        "        print(total_ocupacion_año)\n",
        "\n",
        "    media = total_ocupacion_evento/len(fechas_no_organizado)\n",
        "    eventos_comparar.loc[eventos_comparar['NOMBRE EVENTO Y EDICION'] == evento_comparar,'TASA DE OCUPACION MEDIA'] = media\n",
        "    filtro = eventos[eventos['NOMBRE EVENTO Y EDICION'] == evento_comparar]\n",
        "    print(eventos['NOMBRE EVENTO Y EDICION'])\n",
        "    print(filtro['Tasa Ocupacion'])\n",
        "    eventos_comparar.loc[eventos_comparar['NOMBRE EVENTO Y EDICION'] == evento_comparar,'TASA DE OCUPACION'] = filtro['Tasa Ocupacion'].iloc[0]\n",
        "    print(\"Media ocupacion\" + str(media))\n",
        "\n"
      ]
    },
    {
      "cell_type": "code",
      "execution_count": null,
      "metadata": {
        "id": "ARoqsgmGck0R"
      },
      "outputs": [],
      "source": [
        "eventos_comparar"
      ]
    },
    {
      "cell_type": "code",
      "execution_count": null,
      "metadata": {
        "id": "rdIK5cWynWAi"
      },
      "outputs": [],
      "source": [
        "eventos_comparar['DIFERENCIA TASA DE OCUPACION'] = eventos_comparar['TASA DE OCUPACION'] - eventos_comparar['TASA DE OCUPACION MEDIA']\n",
        "eventos_comparar['DIFERENCIA TASA DE OCUPACION'] = eventos_comparar['DIFERENCIA TASA DE OCUPACION'].round(2)\n",
        "eventos_comparar['TASA DE OCUPACION'] = eventos_comparar['TASA DE OCUPACION'].round(2)\n",
        "eventos_comparar['TASA DE OCUPACION MEDIA'] = eventos_comparar['TASA DE OCUPACION MEDIA'].round(2)\n",
        "eventos_comparar['PORCENTAJE AUMENTO'] = (eventos_comparar['TASA DE OCUPACION']-eventos_comparar['TASA DE OCUPACION MEDIA'])/eventos_comparar['TASA DE OCUPACION MEDIA']*100\n",
        "eventos_comparar['PORCENTAJE AUMENTO'] = eventos_comparar['PORCENTAJE AUMENTO'].round(2)\n",
        "eventos_comparar"
      ]
    },
    {
      "cell_type": "code",
      "execution_count": null,
      "metadata": {
        "id": "ABrRq44OuRkN"
      },
      "outputs": [],
      "source": [
        "eventos_ordenado_diferencia = eventos_comparar.sort_values(by='DIFERENCIA TASA DE OCUPACION', ascending=False)\n",
        "eventos_ordenado_diferencia.drop(6, inplace=True)\n",
        "plt.figure(figsize=(22, 10))\n",
        "sns.barplot(y='NOMBRE EVENTO Y EDICION', x='DIFERENCIA TASA DE OCUPACION', data=eventos_ordenado_diferencia, width=0.5)\n",
        "plt.title('Ranking eventos ordenados por diferencia de tasa de ocupación', fontsize = 20, pad = 10)\n",
        "plt.ylabel('Eventos', fontsize=12)\n",
        "plt.xlabel('Aumento tasa de ocupación')\n",
        "\n",
        "def to_percent(x, position):\n",
        "    return f'{x * 100:.0f}%'\n",
        "\n",
        "\n",
        "plt.yticks(fontsize=16)\n",
        "plt.xticks(fontsize=10)\n",
        "plt.tight_layout()\n",
        "plt.savefig('/content/drive/MyDrive/Sergio Naranjo Fernández/FICHEROS/ranking_diferencia_tasa.pdf', dpi=3000, format='pdf')"
      ]
    },
    {
      "cell_type": "code",
      "execution_count": null,
      "metadata": {
        "id": "7ErAweELwHPj"
      },
      "outputs": [],
      "source": [
        "eventos_ordenado_diferencia = eventos_comparar.sort_values(by='PORCENTAJE AUMENTO', ascending=False)\n",
        "eventos_ordenado_diferencia.drop(6, inplace=True)\n",
        "plt.figure(figsize=(22, 10))\n",
        "sns.barplot(y='NOMBRE EVENTO Y EDICION', x='PORCENTAJE AUMENTO', data=eventos_ordenado_diferencia, width=0.5)\n",
        "plt.title('Ranking eventos ordenados por % de aumento de ocupación', fontsize = 20, pad = 10)\n",
        "plt.ylabel('Eventos')\n",
        "plt.xlabel('Porcentaje de aumento de ocupación')\n",
        "plt.yticks(fontsize=16)\n",
        "plt.xticks(fontsize=10)\n",
        "ticks_x = plt.gca().get_xticks()\n",
        "\n",
        "labels_x = ['{}%'.format(int(x)) for x in ticks_x]\n",
        "\n",
        "plt.gca().set_xticklabels(labels_x)\n",
        "\n",
        "plt.tight_layout()\n",
        "plt.savefig('/content/drive/MyDrive/Sergio Naranjo Fernández/FICHEROS/ranking_aumento_ocupacion.pdf', dpi=3000, format='pdf')"
      ]
    },
    {
      "cell_type": "markdown",
      "metadata": {
        "id": "nQdnOias-jMk"
      },
      "source": [
        "# RANKINGS"
      ]
    },
    {
      "cell_type": "code",
      "execution_count": null,
      "metadata": {
        "id": "m1etvBg-xO4c"
      },
      "outputs": [],
      "source": [
        "eventos"
      ]
    },
    {
      "cell_type": "code",
      "source": [
        "eventos.to_csv('/content/drive/MyDrive/Sergio Naranjo Fernández/DATOS/eventos_final.pdf', index=False)"
      ],
      "metadata": {
        "id": "HwKjEW_7KYLe"
      },
      "execution_count": null,
      "outputs": []
    },
    {
      "cell_type": "code",
      "execution_count": null,
      "metadata": {
        "id": "VUuiWFu1Z25s"
      },
      "outputs": [],
      "source": [
        "import matplotlib.ticker as mtick\n",
        "eventos_ordenado = eventos.sort_values(by='Total Recaudado', ascending=False)\n",
        "plt.figure(figsize=(24, 24))\n",
        "sns.barplot(y='NOMBRE EVENTO Y EDICION', x='Total Recaudado',data=eventos_ordenado)\n",
        "plt.title('Ranking eventos ordenados por total ingresado', fontsize = 20, pad=10)\n",
        "plt.xlabel('Total recaudado (en millones)')\n",
        "plt.ylabel('Nombre del evento y edición')\n",
        "plt.yticks(fontsize=16)\n",
        "plt.xticks(fontsize=10)\n",
        "plt.gca().xaxis.set_major_formatter(mtick.FuncFormatter(lambda x, _: f'{int(x / 1e6)}M'))\n",
        "plt.tight_layout()\n",
        "plt.savefig('/content/drive/MyDrive/Sergio Naranjo Fernández/FICHEROS/ranking_eventos_ingresos_totales.pdf', dpi=3000, format='pdf')"
      ]
    },
    {
      "cell_type": "code",
      "execution_count": null,
      "metadata": {
        "id": "7e0toE261XyD"
      },
      "outputs": [],
      "source": [
        "eventos_ordenado = eventos.sort_values(by='Tasa Ocupacion', ascending=False)\n",
        "plt.figure(figsize=(24, 24))\n",
        "sns.barplot(y='NOMBRE EVENTO Y EDICION', x='Tasa Ocupacion',data=eventos_ordenado)\n",
        "plt.title('Ranking Eventos ordenados por tasa de ocupación', fontsize = 20, pad=10)\n",
        "plt.xlabel('Tasa de ocupación media')\n",
        "plt.ylabel('Nombre del evento y edición')\n",
        "plt.yticks(fontsize=16)\n",
        "plt.xticks(fontsize=10)\n",
        "plt.tight_layout()\n",
        "plt.savefig('/content/drive/MyDrive/Sergio Naranjo Fernández/FICHEROS/ranking_eventos_tasa_ocupacion.pdf', dpi=3000, format='pdf')"
      ]
    },
    {
      "cell_type": "code",
      "execution_count": null,
      "metadata": {
        "id": "AxGBNYYvT27g"
      },
      "outputs": [],
      "source": [
        "eventos_ordenado = eventos.sort_values(by='Total Diario', ascending=False)\n",
        "plt.figure(figsize=(24, 24))\n",
        "sns.barplot(y='NOMBRE EVENTO Y EDICION', x='Total Diario',data=eventos_ordenado)\n",
        "plt.title('Ranking Eventos ordenados por ingresos diarios', fontsize = 20, pad=10)\n",
        "plt.xlabel('Total recaudado diario')\n",
        "plt.ylabel('Nombre del evento y edición')\n",
        "plt.yticks(fontsize=16)\n",
        "plt.xticks(fontsize=10)\n",
        "plt.tight_layout()\n",
        "plt.savefig('/content/drive/MyDrive/Sergio Naranjo Fernández/FICHEROS/ranking_eventos_ingresos_diarios.pdf', dpi=3000, format='pdf')"
      ]
    },
    {
      "cell_type": "markdown",
      "metadata": {
        "id": "_4z1PxNJ9_hO"
      },
      "source": [
        "DATOS DIARIOS PARA CONOCER OCUPACIÓN..."
      ]
    },
    {
      "cell_type": "code",
      "execution_count": null,
      "metadata": {
        "id": "9i8Ia2Xc-Keh"
      },
      "outputs": [],
      "source": [
        "#datos diario\n",
        "#properties_final\n",
        "valores = ['A', 'R']\n",
        "ocupacion = datos_diarios[datos_diarios['Status'].isin(valores)]\n",
        "ocupacion\n",
        "\n",
        "fecha_concreta = '2021-07-31'\n",
        "\n",
        "ofertados = datos_diarios[(datos_diarios['Status'].isin(valores)) & (datos_diarios['Date'] == fecha_concreta)]\n",
        "apt_ofertados = ofertados.shape[0]\n",
        "\n",
        "reservados = datos_diarios[(datos_diarios['Status'] == 'R') & (datos_diarios['Date'] == fecha_concreta)]\n",
        "apt_reservados = reservados.shape[0]\n",
        "\n",
        "apt_reservados/apt_ofertados\n",
        "\n",
        "#combinacion = pd.merge(datos_diarios, properties_final, how='inner')\n",
        "#combinacion.groupby('Property ID').sum()"
      ]
    },
    {
      "cell_type": "markdown",
      "metadata": {
        "id": "WKgqzKFIX6Eo"
      },
      "source": [
        "TOTAL RECAUDADO POR AÑO"
      ]
    },
    {
      "cell_type": "code",
      "execution_count": null,
      "metadata": {
        "id": "HwI0dl8qX77Z"
      },
      "outputs": [],
      "source": [
        "eventos_año_total_recaudado = eventos.groupby('AÑO')['Total Recaudado'].sum().reset_index()\n",
        "eventos_año_total_recaudado"
      ]
    },
    {
      "cell_type": "markdown",
      "source": [
        "# NUEVAS GRÁFICAS DE EVENTOS"
      ],
      "metadata": {
        "id": "uAsE21D8KtUf"
      }
    },
    {
      "cell_type": "code",
      "source": [
        "eventos_final = pd.read_csv('/content/drive/MyDrive/Sergio Naranjo Fernández/DATOS/eventos_final.pdf')\n",
        "eventos_final_grafica = eventos_final[['AÑO', 'NOMBRE EVENTO', 'Total Diario']]\n",
        "eventos_final_grafica['Total Diario'] = eventos_final_grafica['Total Diario'].astype(int)\n",
        "eventos_final_grafica"
      ],
      "metadata": {
        "id": "L43Um5hWKwan"
      },
      "execution_count": null,
      "outputs": []
    },
    {
      "cell_type": "code",
      "source": [
        "eventos_final"
      ],
      "metadata": {
        "id": "M3i0ADyaYpsN"
      },
      "execution_count": null,
      "outputs": []
    },
    {
      "cell_type": "code",
      "source": [
        "eventos_final_grafica[['Total Diario', 'AÑO']].groupby('AÑO').sum()"
      ],
      "metadata": {
        "id": "hDNDAD70V83x"
      },
      "execution_count": null,
      "outputs": []
    },
    {
      "cell_type": "code",
      "source": [
        "eventos_final_grafica[['NOMBRE EVENTO', 'Total Diario']].groupby('NOMBRE EVENTO').sum()\n"
      ],
      "metadata": {
        "id": "uXmytgYeWStm"
      },
      "execution_count": null,
      "outputs": []
    },
    {
      "cell_type": "code",
      "source": [
        "eventos_final_grafica.loc[eventos_final_grafica['NOMBRE EVENTO'] == 'CERTAMEN INTERNACIONAL DE HABANERAS Y POLIFONÍA', 'NOMBRE EVENTO'] = 'CERT. INT. HABANERAS Y POLIFONÍA'\n",
        "eventos_final_grafica.loc[eventos_final_grafica['NOMBRE EVENTO'] == 'CERTAMEN JUVENIL DE HABANERAS Y POLIFONÍA', 'NOMBRE EVENTO'] = 'CERT. JUEVNIL HABANERAS Y POLIFONÍA'\n",
        "eventos_final_grafica.loc[eventos_final_grafica['NOMBRE EVENTO'] == 'EUROMARINA OPTIMISTIC DE VEL', 'NOMBRE EVENTO'] = 'EUROMARINA OPTIMISTIC'\n",
        "\n",
        "eventos_final.loc[eventos_final['NOMBRE EVENTO'] == 'CERTAMEN INTERNACIONAL DE HABANERAS Y POLIFONÍA', 'NOMBRE EVENTO'] = 'CERT. INT. HABANERAS Y POLIFONÍA'\n",
        "eventos_final.loc[eventos_final['NOMBRE EVENTO'] == 'CERTAMEN JUVENIL DE HABANERAS Y POLIFONÍA', 'NOMBRE EVENTO'] = 'CERT. JUEVNIL HABANERAS Y POLIFONÍA'\n",
        "eventos_final.loc[eventos_final['NOMBRE EVENTO'] == 'EUROMARINA OPTIMISTIC DE VEL', 'NOMBRE EVENTO'] = 'EUROMARINA OPTIMISTIC'\n",
        "\n",
        "eventos_final_grafica"
      ],
      "metadata": {
        "id": "ZjH-L3i_TeWT"
      },
      "execution_count": null,
      "outputs": []
    },
    {
      "cell_type": "code",
      "source": [
        "plt.figure(figsize=(12, 8))\n",
        "\n",
        "eventos_unicos = eventos_final_grafica['NOMBRE EVENTO'].unique()\n",
        "\n",
        "for evento in eventos_unicos:\n",
        "    df_evento = eventos_final_grafica[eventos_final_grafica['NOMBRE EVENTO'] == evento]\n",
        "    plt.plot(df_evento['AÑO'], df_evento['Total Diario'], marker='o', label=evento)\n",
        "\n",
        "plt.xlabel('Año')\n",
        "plt.ylabel('Total Diario')\n",
        "plt.title('Total Diario por Año y Evento')\n",
        "plt.legend(bbox_to_anchor=(1.05, 1), loc='upper left')\n",
        "plt.grid(True)\n",
        "plt.tight_layout()\n",
        "\n",
        "plt.show()"
      ],
      "metadata": {
        "id": "Mpyj8m38Lnd8"
      },
      "execution_count": null,
      "outputs": []
    },
    {
      "cell_type": "code",
      "source": [
        "eventos_unicos = eventos_final_grafica['NOMBRE EVENTO'].unique()\n",
        "años_unicos = sorted(eventos_final_grafica['AÑO'].unique())\n",
        "\n",
        "totals = {evento: [0] * len(años_unicos) for evento in eventos_unicos}\n",
        "\n",
        "for index, row in eventos_final_grafica.iterrows():\n",
        "    reseteo = True\n",
        "    evento = row['NOMBRE EVENTO']\n",
        "    año = row['AÑO']\n",
        "    total_diario = row['Total Diario']\n",
        "    idx_año = años_unicos.index(año)\n",
        "\n",
        "    if index > 0:\n",
        "        fila_anterior = eventos_final_grafica.iloc[index - 1]\n",
        "        if evento != fila_anterior['NOMBRE EVENTO']:\n",
        "          reseteo = True\n",
        "\n",
        "    if index == 0 or reseteo == True:\n",
        "        totals[evento][idx_año] = total_diario\n",
        "    else:\n",
        "        totals[evento][idx_año] = totals[evento][idx_año - 1] + total_diario\n",
        "\n",
        "plt.figure(figsize=(12, 8))\n",
        "\n",
        "bottom = None\n",
        "for evento in eventos_unicos:\n",
        "    plt.bar(años_unicos, totals[evento], label=evento, bottom=bottom)\n",
        "    if bottom is None:\n",
        "        bottom = [0] * len(años_unicos)\n",
        "    bottom = [bottom[i] + totals[evento][i] for i in range(len(años_unicos))]\n",
        "\n",
        "plt.xlabel('Evento')\n",
        "plt.ylabel('Total Diario Acumulado')\n",
        "plt.title('Total Diario Acumulado por Evento y Año')\n",
        "plt.xticks(años_unicos)\n",
        "plt.legend(bbox_to_anchor=(1.05, 1), loc='upper left')\n",
        "plt.grid(True)\n",
        "plt.tight_layout()\n",
        "\n",
        "plt.show()"
      ],
      "metadata": {
        "id": "VXfFJqFNNSFT"
      },
      "execution_count": null,
      "outputs": []
    },
    {
      "cell_type": "code",
      "source": [
        "import matplotlib.pyplot as plt\n",
        "import pandas as pd\n",
        "\n",
        "eventos_final_grafica['Total Diario'] = eventos_final_grafica['Total Diario'].astype(int)\n",
        "eventos_unicos = eventos_final_grafica['NOMBRE EVENTO'].unique()\n",
        "años_unicos = sorted(eventos_final_grafica['AÑO'].unique())\n",
        "\n",
        "max_totales = eventos_final_grafica.groupby('NOMBRE EVENTO')['Total Diario'].max()\n",
        "\n",
        "eventos_ordenados_ingresos = max_totales.sort_values(ascending=True).index.tolist()\n",
        "\n",
        "totals = {año: [0] * len(eventos_ordenados_ingresos) for año in años_unicos}\n",
        "\n",
        "for index, row in eventos_final_grafica.iterrows():\n",
        "    reseteo = True\n",
        "    evento = row['NOMBRE EVENTO']\n",
        "    año = row['AÑO']\n",
        "    total_diario = row['Total Diario']\n",
        "    idx_evento = eventos_ordenados_ingresos.index(evento)\n",
        "\n",
        "    if index > 0:\n",
        "        fila_anterior = eventos_final_grafica.iloc[index - 1]\n",
        "        if evento != fila_anterior['NOMBRE EVENTO']:\n",
        "            reseteo = True\n",
        "\n",
        "    if index == 0 or reseteo == True:\n",
        "        totals[año][idx_evento] = total_diario\n",
        "    else:\n",
        "        totals[año][idx_evento] = totals[año][idx_evento - 1] + total_diario\n",
        "\n",
        "\n",
        "plt.figure(figsize=(12, 8))\n",
        "bottom = [0] * len(eventos_ordenados_ingresos)\n",
        "for año in años_unicos:\n",
        "    plt.barh(eventos_ordenados_ingresos, totals[año], label=año, left=bottom)\n",
        "    bottom = [bottom[i] + totals[año][i] for i in range(len(eventos_ordenados_ingresos))]\n",
        "\n",
        "\n",
        "plt.ylabel('Evento')\n",
        "plt.xlabel('Total Diario Acumulado')\n",
        "plt.title('Total Diario Acumulado por Evento y Año')\n",
        "plt.yticks(rotation=0)\n",
        "plt.legend(title='Año', bbox_to_anchor=(1.05, 1), loc='upper left')\n",
        "plt.grid(True)\n",
        "plt.tight_layout()\n",
        "\n",
        "plt.savefig('/content/drive/MyDrive/Sergio Naranjo Fernández/FICHEROS/rankin_eventos_stack_bar.pdf', dpi=3000, format='pdf')"
      ],
      "metadata": {
        "id": "26H5O0MlNyAY"
      },
      "execution_count": null,
      "outputs": []
    },
    {
      "cell_type": "markdown",
      "source": [
        "ORDENARLO: COGER EL MÁXIMO DIARIO DE CADA EVENTO Y SE ORDENAN DESCENDENTEMENTE"
      ],
      "metadata": {
        "id": "A9v2IBBlQbWS"
      }
    },
    {
      "cell_type": "markdown",
      "source": [
        "IDEA: DESGLOSAR BRILLA TORREVIEJA PARA VER QUÉ ARTISTA RECAUDA MÁS O AUMENTA MÁS LA OCUPACIÓN RESPECTO AL RESTO"
      ],
      "metadata": {
        "id": "JyUnRTswKW0G"
      }
    },
    {
      "cell_type": "code",
      "source": [
        "import matplotlib.pyplot as plt\n",
        "\n",
        "eventos_final['Tasa Ocupacion'] = eventos_final['Tasa Ocupacion'].astype(float)\n",
        "eventos_unicos = eventos_final['NOMBRE EVENTO'].unique()\n",
        "años_unicos = sorted(eventos_final['AÑO'].unique())\n",
        "\n",
        "max_totales = eventos_final.groupby('NOMBRE EVENTO')['Tasa Ocupacion'].max()\n",
        "\n",
        "#eventos_ordenados = max_totales.sort_values(ascending=True).index.tolist()\n",
        "\n",
        "totals = {año: [0] * len(eventos_ordenados_ingresos) for año in años_unicos}\n",
        "\n",
        "for index, row in eventos_final.iterrows():\n",
        "    reseteo = True\n",
        "    evento = row['NOMBRE EVENTO']\n",
        "    año = row['AÑO']\n",
        "    total_ocupacion = row['Tasa Ocupacion']\n",
        "    idx_evento = eventos_ordenados_ingresos.index(evento)\n",
        "\n",
        "    if index > 0:\n",
        "        fila_anterior = eventos_final.iloc[index - 1]\n",
        "        if evento != fila_anterior['NOMBRE EVENTO']:\n",
        "            reseteo = True\n",
        "\n",
        "    if index == 0 or reseteo == True:\n",
        "        totals[año][idx_evento] = total_ocupacion\n",
        "    else:\n",
        "        totals[año][idx_evento] = totals[año][idx_evento - 1] + total_ocupacion\n",
        "\n",
        "plt.figure(figsize=(12, 8))\n",
        "\n",
        "bottom = [0] * len(eventos_ordenados_ingresos)\n",
        "for año in años_unicos:\n",
        "    plt.barh(eventos_ordenados_ingresos, totals[año], label=año, left=bottom)\n",
        "    bottom = [bottom[i] + totals[año][i] for i in range(len(eventos_ordenados_ingresos))]\n",
        "\n",
        "plt.ylabel('Evento')\n",
        "plt.xlabel('Total Ocupación Acumulado')\n",
        "plt.title('Total Ocupación Acumulado por Evento y Año')\n",
        "plt.yticks(rotation=0)\n",
        "plt.legend(title='Año', bbox_to_anchor=(1.05, 1), loc='upper left')\n",
        "plt.grid(True)\n",
        "plt.tight_layout()\n",
        "\n",
        "plt.savefig('/content/drive/MyDrive/Sergio Naranjo Fernández/FICHEROS/rankin_eventos_stack_bar_ocupacion.pdf', dpi=3000, format='pdf')\n",
        "\n"
      ],
      "metadata": {
        "id": "3nibe8M1Z7Zw"
      },
      "execution_count": null,
      "outputs": []
    },
    {
      "cell_type": "markdown",
      "source": [
        "ORDENAR POR DIFERENCIAS DE TASAS DE UN AÑO HA OTRO, Y LA QUE DE MEDIA HAYA AUMENTADO MAS ES LA PRIMERA Y ASI SUCESIVAMENTE"
      ],
      "metadata": {
        "id": "fcGZnzXnatD-"
      }
    },
    {
      "cell_type": "code",
      "source": [
        "import matplotlib.pyplot as plt\n",
        "import pandas as pd\n",
        "\n",
        "eventos_final_grafica['Total Diario'] = eventos_final_grafica['Total Diario'].astype(int)\n",
        "\n",
        "eventos_unicos = eventos_final_grafica['NOMBRE EVENTO'].unique()\n",
        "años_unicos = sorted(eventos_final_grafica['AÑO'].unique())\n",
        "\n",
        "totals = {año: [0] * len(eventos_unicos) for año in años_unicos}\n",
        "total_eventos = [0] * len(eventos_unicos)\n",
        "\n",
        "for index, row in eventos_final_grafica.iterrows():\n",
        "    evento = row['NOMBRE EVENTO']\n",
        "    año = row['AÑO']\n",
        "    total_diario = row['Total Diario']\n",
        "    idx_evento = list(eventos_unicos).index(evento)\n",
        "    totals[año][idx_evento] += total_diario\n",
        "    total_eventos[idx_evento] += total_diario\n",
        "\n",
        "percentages = {año: [0] * len(eventos_unicos) for año in años_unicos}\n",
        "for año in años_unicos:\n",
        "    for idx_evento in range(len(eventos_unicos)):\n",
        "        if total_eventos[idx_evento] > 0:\n",
        "            percentages[año][idx_evento] = (totals[año][idx_evento] / total_eventos[idx_evento]) * 100\n",
        "\n",
        "plt.figure(figsize=(12, 8))\n",
        "\n",
        "bottom = [0] * len(eventos_unicos)\n",
        "for año in años_unicos:\n",
        "    plt.bar(eventos_unicos, percentages[año], label=año, bottom=bottom)\n",
        "    for i, percentage in enumerate(percentages[año]):\n",
        "        if percentage > 0:\n",
        "            plt.annotate(f'{percentage:.1f}%', xy=(eventos_unicos[i], bottom[i] + percentage / 2), ha='center', va='center', fontsize=8)\n",
        "    bottom = [bottom[i] + percentages[año][i] for i in range(len(eventos_unicos))]\n",
        "\n",
        "plt.xlabel('Evento')\n",
        "plt.ylabel('Contribución Porcentual al Total Diario')\n",
        "plt.title('Contribución Porcentual al Total Diario por Evento y Año')\n",
        "plt.xticks(rotation=90)\n",
        "plt.legend(title='Año', bbox_to_anchor=(1.05, 1), loc='upper left')\n",
        "plt.grid(True)\n",
        "plt.tight_layout()\n",
        "\n",
        "plt.show()\n"
      ],
      "metadata": {
        "id": "Z25FwzuIWTb6"
      },
      "execution_count": null,
      "outputs": []
    },
    {
      "cell_type": "markdown",
      "source": [
        "# PREPARACION DATOS MODELO PREDICTIVO"
      ],
      "metadata": {
        "id": "IAvt2cZL27ng"
      }
    },
    {
      "cell_type": "code",
      "execution_count": null,
      "metadata": {
        "id": "7gvL9atC2v5W"
      },
      "outputs": [],
      "source": [
        "datosPropiedadesPredictivo = pd.merge(datosProperties, datosAlojamientos, on=\"Property ID\", how=\"inner\")\n",
        "datosPropiedadesPredictivo\n",
        "#vamos a quitar Created Date, Occupancy Rate LTM, Response Rate, Latitude, Longitude, Año Creacion\n",
        "columnas_a_eliminar = ['Created Date', 'Occupancy Rate LTM', 'Response Rate', 'Latitude', 'Longitude', 'Año Creacion']\n",
        "\n",
        "# Eliminar las columnas\n",
        "datosPropiedadesPredictivo = datosPropiedadesPredictivo.drop(columns=columnas_a_eliminar)\n",
        "datosPropiedadesPredictivo"
      ]
    },
    {
      "cell_type": "markdown",
      "metadata": {
        "id": "uyc4XInp3uSW"
      },
      "source": [
        "AMOS A CALCULAR: PRECIO MEDIO, PRECIO MEDIO VERANO, OCUPACIÓN MEDIA, OCUPACIÓN MEDIA VERANO, NÚMERO MEDIO DE RESERVAS, ESTANCIA MEDIA DE RESERVAS"
      ]
    },
    {
      "cell_type": "code",
      "execution_count": null,
      "metadata": {
        "id": "RCvm2Izw3gkO"
      },
      "outputs": [],
      "source": [
        "datosPrecioMedioDaily = datosDaily.groupby(\"Property ID\")['Price (Native)'].mean()\n",
        "datosPropiedadesPredictivo = pd.merge(datosPropiedadesPredictivo, datosPrecioMedioDaily, on=\"Property ID\", how=\"inner\")\n",
        "datosPropiedadesPredictivo = pd.merge(datosPropiedadesPredictivo, estancia_minima, on=\"Property ID\", how=\"inner\")\n",
        "datosPropiedadesPredictivo"
      ]
    },
    {
      "cell_type": "code",
      "source": [
        "datosDailyAux = pd.merge(datos_diarios, datosAlojamientos, on=\"Property ID\", how=\"inner\")"
      ],
      "metadata": {
        "id": "30yi6LSeOKZx"
      },
      "execution_count": null,
      "outputs": []
    },
    {
      "cell_type": "code",
      "execution_count": null,
      "metadata": {
        "id": "T84tPuoMDKx8"
      },
      "outputs": [],
      "source": [
        "\n",
        "datosDailyAux['Dias Ocupados'] = datosDailyAux['Status'].eq('R').groupby(datosDailyAux['Property ID']).transform('sum')\n",
        "datosDailyAux['Dias Disponibles'] = datosDailyAux['Status'].eq('A').groupby(datosDailyAux['Property ID']).transform('sum')\n",
        "\n",
        "# Calcular la tasa de ocupación media para cada alojamiento\n",
        "datosDailyAux['Tasa de Ocupación Media'] = datosDailyAux['Dias Ocupados'] / (datosDailyAux['Dias Ocupados'] + datosDailyAux['Dias Disponibles'])\n",
        "\n",
        "# Eliminar columnas auxiliares\n",
        "datosDailyAux.drop(columns=['Dias Ocupados', 'Dias Disponibles'], inplace=True)"
      ]
    },
    {
      "cell_type": "code",
      "execution_count": null,
      "metadata": {
        "id": "t4eKj91jDwEa"
      },
      "outputs": [],
      "source": [
        "tasa_ocupacion_media_por_propiedad = datosDailyAux.groupby('Property ID')['Tasa de Ocupación Media'].mean().reset_index()\n",
        "\n",
        "# Mostrar el resultado\n",
        "tasa_ocupacion_media_por_propiedad"
      ]
    },
    {
      "cell_type": "code",
      "execution_count": null,
      "metadata": {
        "id": "ObZoWu5lENLP"
      },
      "outputs": [],
      "source": [
        "datosPropiedadesPredictivo = pd.merge(datosPropiedadesPredictivo, tasa_ocupacion_media_por_propiedad, on=\"Property ID\", how=\"inner\")\n",
        "datosPropiedadesPredictivo"
      ]
    },
    {
      "cell_type": "markdown",
      "source": [
        "# MODELO PREDICTIVO FINAL FINAL"
      ],
      "metadata": {
        "id": "2EVk-MhHBr7u"
      }
    },
    {
      "cell_type": "code",
      "source": [
        "import warnings\n",
        "import sklearn\n",
        "from sklearn.ensemble import RandomForestRegressor\n",
        "from sklearn.metrics import mean_squared_error\n",
        "from sklearn.metrics import mean_absolute_error, r2_score\n",
        "from sklearn.linear_model import LinearRegression\n",
        "from sklearn.linear_model import Ridge\n",
        "import xgboost as xgb\n",
        "from math import sqrt"
      ],
      "metadata": {
        "id": "0GFm85PLXZw_"
      },
      "execution_count": null,
      "outputs": []
    },
    {
      "cell_type": "code",
      "source": [
        "ultimo = pd.read_csv('/content/drive/MyDrive/Sergio Naranjo Fernández/DATOS/df_ultimos_12_meses_revenue.csv')\n",
        "ultimo"
      ],
      "metadata": {
        "id": "YE_eSEL8XHUX"
      },
      "execution_count": null,
      "outputs": []
    },
    {
      "cell_type": "code",
      "source": [
        "df_encoded = pd.get_dummies(ultimo, columns=['Listing Type'])\n",
        "df_encoded.columns"
      ],
      "metadata": {
        "id": "D8iAnAMNBv4V"
      },
      "execution_count": null,
      "outputs": []
    },
    {
      "cell_type": "code",
      "source": [
        "\n",
        "df_encoded_columnas = ultimo\n",
        "uepa = df_encoded_columnas.drop(columns=['Property ID','Reporting Month', 'Precio/Habitacion','Revenue (Native)', 'Number of Reservations' , 'Revenue/Bed'\n",
        "                                ,'Listing Type_2', 'Property Type_2'])\n",
        "uepa.rename(columns={'Extra People Fee (USD)': 'Extra People'}, inplace=True)\n",
        "uepa.rename(columns={'Minimum Stay_x': 'Minimun Stay'}, inplace=True)\n",
        "uepa.info()"
      ],
      "metadata": {
        "id": "H0-4n_bMKNaM"
      },
      "execution_count": null,
      "outputs": []
    },
    {
      "cell_type": "code",
      "source": [
        "df_encoded_2 = pd.get_dummies(df_encoded, columns=['Property Type'])\n",
        "df_encoded2.columns"
      ],
      "metadata": {
        "id": "8PkSrr-eB7JN"
      },
      "execution_count": null,
      "outputs": []
    },
    {
      "cell_type": "code",
      "source": [
        "df_encoded_medio = df_encoded_2"
      ],
      "metadata": {
        "id": "Nmay5U1jDbJi"
      },
      "execution_count": null,
      "outputs": []
    },
    {
      "cell_type": "code",
      "source": [
        "df_encoded_final = df_encoded_medio.drop(columns=['Property ID','Reporting Month', 'Listing Type_2', 'Property Type_2'])\n",
        "df_encoded_final.rename(columns={'Extra People Fee (USD)': 'Extra People'}, inplace=True)\n",
        "df_encoded_final.rename(columns={'Minimum Stay_x': 'Minimun Stay'}, inplace=True)\n",
        "df_encoded_final.columns"
      ],
      "metadata": {
        "id": "U8JgVL4yCRTI"
      },
      "execution_count": null,
      "outputs": []
    },
    {
      "cell_type": "code",
      "source": [
        "boolean_columns = df_encoded_final.select_dtypes(include=['bool']).columns\n",
        "df_encoded_final[boolean_columns] = df_encoded_final[boolean_columns].astype(int)\n",
        "df_encoded_final"
      ],
      "metadata": {
        "id": "qc7-gassF6xM"
      },
      "execution_count": null,
      "outputs": []
    },
    {
      "cell_type": "code",
      "source": [
        "from sklearn.ensemble import GradientBoostingRegressor\n",
        "from sklearn.preprocessing import StandardScaler\n",
        "from scipy.stats import chi2_contingency\n",
        "\n",
        "random = RandomForestRegressor(n_estimators = 1000,\n",
        "            criterion    = 'squared_error',\n",
        "            max_depth    = None,\n",
        "            max_features = 'auto',\n",
        "            oob_score    = False,\n",
        "            n_jobs       = -1,\n",
        "            random_state = 123)\n",
        "\n",
        "datosModelo = df_encoded_final.drop(columns=['Revenue/Bed', 'Revenue (Native)', 'Occupancy Rate', 'Reservation Days', 'Precio/Habitacion', 'Number of Reservations'])\n",
        "\n",
        "xx_servicios = datosModelo.drop(['ADR (Native)'], axis=1)\n",
        "yx_servicios = datosModelo['ADR (Native)']\n",
        "\n",
        "\n",
        "X_train_servicios, X_test_servicios, y_train_servicios, y_test_servicios = train_test_split(xx_servicios, yx_servicios, test_size=0.2, random_state=123)\n",
        "\n",
        "train_data = X_train_servicios.join(y_train_servicios)\n",
        "test_data = X_test_servicios.join(y_test_servicios)\n",
        "random.fit(X_train_servicios, y_train_servicios)\n",
        "\n",
        "y_pred = random.predict(X_test_servicios)\n",
        "\n",
        "plt.figure(figsize=(10, 6))\n",
        "plt.scatter(y_test_servicios, y_pred, alpha=0.7)\n",
        "plt.plot([min(y_test_servicios), max(y_test_servicios)], [min(y_test_servicios), max(y_test_servicios)], '--r')\n",
        "plt.xlabel('Valor Real')\n",
        "plt.ylabel('Predicción')\n",
        "plt.title('Comparación de Predicciones vs Valores Reales')\n",
        "plt.show()"
      ],
      "metadata": {
        "id": "SoJmR2FcDtfp"
      },
      "execution_count": null,
      "outputs": []
    },
    {
      "cell_type": "code",
      "source": [
        "random.score(X_test_servicios, y_test_servicios)\n",
        "\n",
        "y_pred = random.predict(X_test_servicios)\n",
        "\n",
        "mse = mean_squared_error(y_test_servicios, y_pred)\n",
        "mae = mean_absolute_error(y_test_servicios, y_pred)\n",
        "rmse = sqrt(mean_squared_error(y_test_servicios, y_pred))\n",
        "r2 = r2_score(y_test_servicios, y_pred)\n",
        "\n",
        "print(f'Mean Squared Error: {mse}')\n",
        "print(f'Root Mean Squared Error: {rmse}')\n",
        "print(f'Mean Absolute Error: {mae}')\n",
        "print(f'R² Score: {r2}')"
      ],
      "metadata": {
        "id": "4UCW7pw4EvS2"
      },
      "execution_count": null,
      "outputs": []
    },
    {
      "cell_type": "code",
      "source": [
        "datosModelo.info()"
      ],
      "metadata": {
        "id": "yLj86-wVEy7n"
      },
      "execution_count": null,
      "outputs": []
    },
    {
      "cell_type": "code",
      "source": [
        "importances = random.feature_importances_\n",
        "feature_names = xx_servicios.columns\n",
        "feature_importance_df = pd.DataFrame({'feature': feature_names, 'importance': importances})\n",
        "feature_importance_df = feature_importance_df.sort_values(by='importance', ascending=False).round(6)\n",
        "\n",
        "print(feature_importance_df)"
      ],
      "metadata": {
        "id": "btEP3-NHE6Iu"
      },
      "execution_count": null,
      "outputs": []
    },
    {
      "cell_type": "code",
      "source": [
        "comparison_df = pd.DataFrame({'Valor Real': y_test_servicios, 'Predicción': y_pred}, index=y_test_servicios.index)\n",
        "sample_comparison_df = comparison_df.sample(n=10, random_state=123)\n",
        "\n",
        "print(sample_comparison_df)"
      ],
      "metadata": {
        "id": "DGWl30TqGrz3"
      },
      "execution_count": null,
      "outputs": []
    },
    {
      "cell_type": "code",
      "source": [
        "from sklearn.ensemble import GradientBoostingRegressor\n",
        "from sklearn.model_selection import train_test_split\n",
        "from sklearn.preprocessing import StandardScaler\n",
        "import matplotlib.pyplot as plt\n",
        "from xgboost import XGBRegressor\n",
        "\n",
        "gb_model = GradientBoostingRegressor(loss='squared_error',    # 'ls' se refiere a least squares regression\n",
        "                                     learning_rate=0.1,\n",
        "                                     n_estimators=1000,\n",
        "                                     subsample=1.0,\n",
        "                                     criterion='friedman_mse',\n",
        "                                     min_samples_split=2,\n",
        "                                     min_samples_leaf=1,\n",
        "                                     min_weight_fraction_leaf=0.0,\n",
        "                                     max_depth=3,\n",
        "                                     random_state=123)\n",
        "\n",
        "xx_serviciosG = datosModelo.drop(['ADR (Native)'], axis=1)\n",
        "yx_serviciosG = datosModelo['ADR (Native)']\n",
        "\n",
        "X_train_serviciosG, X_test_serviciosG, y_train_serviciosG, y_test_serviciosG = train_test_split(xx_serviciosG, yx_serviciosG, test_size=0.20, random_state=123)\n",
        "gb_model.fit(X_train_serviciosG, y_train_serviciosG)\n",
        "\n",
        "y_predG = gb_model.predict(X_test_serviciosG)\n",
        "\n",
        "plt.figure(figsize=(10, 6))\n",
        "plt.scatter(y_test_serviciosG, y_predG, alpha=0.7)\n",
        "plt.plot([min(y_test_serviciosG), max(y_test_serviciosG)], [min(y_test_serviciosG), max(y_test_serviciosG)], '--r')\n",
        "plt.xlabel('Valor Real')\n",
        "plt.ylabel('Predicción')\n",
        "plt.title('Comparación de Predicciones vs Valores Reales')\n",
        "plt.show()\n",
        "\n",
        "mae = mean_absolute_error(y_test_serviciosG, y_predG)\n",
        "mse = mean_squared_error(y_test_serviciosG, y_predG)\n",
        "rmse = mean_squared_error(y_test_serviciosG, y_predG, squared=False)\n",
        "r2 = r2_score(y_test_serviciosG, y_predG)\n",
        "\n",
        "print(f'Mean Absolute Error (MAE): {mae:.10f}')\n",
        "print(f'Root Mean Squared Error (RMSE): {rmse:.10f}')\n",
        "print(f'R^2 Score: {r2:.10f}')\n",
        "print(f'Mean Squared Error (MSE): {mse:.10f}')"
      ],
      "metadata": {
        "id": "Ho2gNsDbL9dM"
      },
      "execution_count": null,
      "outputs": []
    },
    {
      "cell_type": "code",
      "source": [
        "comparison_dfG = pd.DataFrame({'Valor Real': y_test_serviciosG, 'Predicción': y_predG}, index=y_test_serviciosG.index)\n",
        "\n",
        "sample_comparison_dfG = comparison_dfG.sample(n=10, random_state=123)\n",
        "\n",
        "print(sample_comparison_dfG)"
      ],
      "metadata": {
        "id": "XmesbtQuQPJM"
      },
      "execution_count": null,
      "outputs": []
    },
    {
      "cell_type": "code",
      "source": [
        "from sklearn.ensemble import GradientBoostingRegressor\n",
        "from sklearn.preprocessing import StandardScaler\n",
        "from sklearn.linear_model import LinearRegression\n",
        "from sklearn.linear_model import Lasso\n",
        "\n",
        "linear = LinearRegression()\n",
        "\n",
        "xx_serviciosL = datosModelo.drop(['ADR (Native)'], axis=1)\n",
        "yx_serviciosL = datosModelo['ADR (Native)']\n",
        "\n",
        "\n",
        "X_train_serviciosL, X_test_serviciosL, y_train_serviciosL, y_test_serviciosL = train_test_split(xx_serviciosL, yx_serviciosL, test_size=0.20, random_state=123)\n",
        "\n",
        "train_dataL = X_train_serviciosL.join(y_train_serviciosL)\n",
        "test_dataL = X_test_serviciosL.join(y_test_serviciosL)\n",
        "linear.fit(X_train_serviciosL, y_train_serviciosL)\n",
        "\n",
        "y_predL = linear.predict(X_test_serviciosL)\n",
        "\n",
        "plt.figure(figsize=(10, 6))\n",
        "plt.scatter(y_test_serviciosL, y_predL, alpha=0.7)\n",
        "plt.plot([min(y_test_serviciosL), max(y_test_serviciosL)], [min(y_test_serviciosL), max(y_test_serviciosL)], '--r')\n",
        "plt.xlabel('Valor Real')\n",
        "plt.ylabel('Predicción')\n",
        "plt.title('Comparación de Predicciones vs Valores Reales')\n",
        "plt.show()"
      ],
      "metadata": {
        "id": "QdlrZrZLNSiu"
      },
      "execution_count": null,
      "outputs": []
    },
    {
      "cell_type": "code",
      "source": [
        "linear.score(X_test_serviciosL, y_test_serviciosL)\n",
        "\n",
        "y_pred = linear.predict(X_test_serviciosL)\n",
        "\n",
        "mse = mean_squared_error(y_test_serviciosL, y_predL)\n",
        "mae = mean_absolute_error(y_test_serviciosL, y_predL)\n",
        "rmse = sqrt(mean_squared_error(y_test_serviciosL, y_predL))\n",
        "r2 = r2_score(y_test_serviciosL, y_predL)\n",
        "\n",
        "print(f'Mean Squared Error: {mse}')\n",
        "print(f'Root Mean Squared Error: {rmse}')\n",
        "print(f'Mean Absolute Error: {mae}')\n",
        "print(f'R² Score: {r2}')"
      ],
      "metadata": {
        "id": "VcMSNEqENXx4"
      },
      "execution_count": null,
      "outputs": []
    },
    {
      "cell_type": "code",
      "source": [
        "comparison_dfL = pd.DataFrame({'Valor Real': y_test_serviciosL, 'Predicción': y_predL}, index=y_test_serviciosL.index)\n",
        "sample_comparison_dfL = comparison_dfL.sample(n=10, random_state=123)\n",
        "\n",
        "print(sample_comparison_dfL)"
      ],
      "metadata": {
        "id": "LrwLToaFO3uC"
      },
      "execution_count": null,
      "outputs": []
    },
    {
      "cell_type": "markdown",
      "source": [
        "# 5760 ALOJAMIENTOS ÚLTIMOS 12 MESES"
      ],
      "metadata": {
        "id": "ZW2Q-vPO-3ce"
      }
    },
    {
      "cell_type": "code",
      "source": [
        "agrupando = pd.read_csv('/content/drive/MyDrive/Sergio Naranjo Fernández/DATOS/df_ultimos_12_meses_revenue.csv')\n",
        "agrupando\n",
        "\n",
        "agrupando = agrupando.drop(columns=['Reporting Month', 'Temporada', 'Mes'])\n",
        "agrupando = agrupando.drop(columns=['Precio/Habitacion', 'Number of Reservations', 'Occupancy Rate', 'Revenue (Native)', 'Reservation Days', 'Revenue/Bed', 'Listing Type_2', 'Property Type_2'])\n",
        "agrupando.info()"
      ],
      "metadata": {
        "id": "1Q9dF20k-7cC"
      },
      "execution_count": null,
      "outputs": []
    },
    {
      "cell_type": "code",
      "source": [
        "agg_funs = {\n",
        "    'ADR (Native)': 'mean',\n",
        "    'Bedrooms' : 'first',\n",
        "    'Bathrooms' : 'first',\n",
        "    'Max Guests' : 'first',\n",
        "    'Extra People Fee (USD)' : 'first',\n",
        "    'Number of Photos' : 'first',\n",
        "    'Minimum Stay_x' : 'first',\n",
        "    'Pets Allowed' : 'first',\n",
        "    'Pool' : 'first',\n",
        "    'Lift/Elevator' : 'first',\n",
        "    'Parking' : 'first',\n",
        "    'Internet' : 'first',\n",
        "    'TV' : 'first',\n",
        "    'Private Pool': 'first',\n",
        "    'Air' : 'first',\n",
        "    'dishwasher' : 'first',\n",
        "    'doorman_entry' : 'first',\n",
        "    'ENTERTAINMENT_ALL_AGES|Books': 'first',\n",
        "    'fireplace' : 'first',\n",
        "    'Bath/Bed' : 'first',\n",
        "    'Bed/Bath' : 'first',\n",
        "    'Listing Type' : 'first',\n",
        "    'Property Type' : 'first'\n",
        "}\n",
        "\n",
        "ultimo_final_agg = agrupando.groupby('Property ID').agg(agg_funs).reset_index()\n",
        "ultimo_final_agg"
      ],
      "metadata": {
        "id": "jQW4Zlp2AVzt"
      },
      "execution_count": null,
      "outputs": []
    },
    {
      "cell_type": "markdown",
      "source": [
        "SOLO PRECIO MEDIO TEMPORADA BAJA"
      ],
      "metadata": {
        "id": "S2W1Bi1ADARW"
      }
    },
    {
      "cell_type": "code",
      "source": [
        "agrupando2 = pd.read_csv('/content/drive/MyDrive/Sergio Naranjo Fernández/DATOS/df_ultimos_12_meses_revenue.csv')\n",
        "agrupando_baja = agrupando2[(agrupando2['Mes'] < 6) | (agrupando2['Mes'] > 8 )]\n",
        "agrupando_baja\n",
        "agrupando_baja = agrupando_baja.drop(columns=['Reporting Month', 'Temporada', 'Mes','Precio/Habitacion'])\n",
        "agrupando_baja.info()\n",
        "\n",
        "agg_funs = {\n",
        "    'ADR (Native)': 'mean',\n",
        "    'Bedrooms' : 'first',\n",
        "    'Bathrooms' : 'first',\n",
        "    'Max Guests' : 'first',\n",
        "    'Extra People Fee (USD)' : 'first',\n",
        "    'Number of Photos' : 'first',\n",
        "    'Minimum Stay_x' : 'first',\n",
        "    'Pets Allowed' : 'first',\n",
        "    'Pool' : 'first',\n",
        "    'Lift/Elevator' : 'first',\n",
        "    'Parking' : 'first',\n",
        "    'Internet' : 'first',\n",
        "    'TV' : 'first',\n",
        "    'Private Pool': 'first',\n",
        "    'Air' : 'first',\n",
        "    'dishwasher' : 'first',\n",
        "    'doorman_entry' : 'first',\n",
        "    'ENTERTAINMENT_ALL_AGES|Books': 'first',\n",
        "    'fireplace' : 'first',\n",
        "    'Bath/Bed' : 'first',\n",
        "    'Bed/Bath' : 'first',\n",
        "    'Listing Type' : 'first',\n",
        "    'Property Type' : 'first'\n",
        "}\n",
        "\n",
        "ultimo_final_agg_baja = agrupando_baja.groupby('Property ID').agg(agg_funs).reset_index()\n",
        "ultimo_final_agg_baja"
      ],
      "metadata": {
        "id": "8XCxzMK2DC-X"
      },
      "execution_count": null,
      "outputs": []
    },
    {
      "cell_type": "code",
      "source": [
        "ultimo_final_agg_baja_one_hot = pd.get_dummies(ultimo_final_agg_baja, columns=['Listing Type'])"
      ],
      "metadata": {
        "id": "WIPK0KYqaKwu"
      },
      "execution_count": null,
      "outputs": []
    },
    {
      "cell_type": "code",
      "source": [
        "ultimo_final_agg_baja_one_hot2 = pd.get_dummies(ultimo_final_agg_baja_one_hot, columns=['Property Type'])"
      ],
      "metadata": {
        "id": "k6gHWq38aU_4"
      },
      "execution_count": null,
      "outputs": []
    },
    {
      "cell_type": "code",
      "source": [
        "ultimo_final_agg_baja_one_hot2.info()"
      ],
      "metadata": {
        "id": "j8OPPyMRac9x"
      },
      "execution_count": null,
      "outputs": []
    },
    {
      "cell_type": "code",
      "source": [
        "from sklearn.ensemble import GradientBoostingRegressor\n",
        "from sklearn.preprocessing import StandardScaler\n",
        "\n",
        "randomAgrupado = RandomForestRegressor(n_estimators = 1000,\n",
        "            criterion    = 'squared_error',\n",
        "            max_depth    = None,\n",
        "            max_features = 'auto',\n",
        "            oob_score    = False,\n",
        "            n_jobs       = -1,\n",
        "            random_state = 123)\n",
        "\n",
        "datosModeloAgrupado = ultimo_final_agg_baja_one_hot2\n",
        "datosModeloAgrupado = datosModeloAgrupado.drop(columns=['Property ID'])\n",
        "\n",
        "\n",
        "xx_serviciosRA = datosModeloAgrupado.drop(['ADR (Native)'], axis=1)\n",
        "yx_serviciosRA = datosModeloAgrupado['ADR (Native)']\n",
        "\n",
        "\n",
        "X_train_serviciosRA, X_test_serviciosRA, y_train_serviciosRA, y_test_serviciosRA = train_test_split(xx_serviciosRA, yx_serviciosRA, test_size=0.20, random_state=123)\n",
        "randomAgrupado.fit(X_train_serviciosRA, y_train_serviciosRA)\n",
        "\n",
        "y_predRA = randomAgrupado.predict(X_test_serviciosRA)\n",
        "\n",
        "plt.figure(figsize=(10, 6))\n",
        "plt.scatter(y_test_serviciosRA, y_predRA, alpha=0.7)\n",
        "plt.plot([min(y_test_serviciosRA), max(y_test_serviciosRA)], [min(y_test_serviciosRA), max(y_test_serviciosRA)], '--r')\n",
        "plt.xlabel('Valor Real')\n",
        "plt.ylabel('Predicción')\n",
        "plt.title('Comparación de Predicciones vs Valores Reales')\n",
        "plt.show()"
      ],
      "metadata": {
        "id": "wNauwZygEHX_"
      },
      "execution_count": null,
      "outputs": []
    },
    {
      "cell_type": "code",
      "source": [
        "randomAgrupado.score(X_test_serviciosRA, y_test_serviciosRA)\n",
        "\n",
        "y_predRA = randomAgrupado.predict(X_test_serviciosRA)\n",
        "\n",
        "mse = mean_squared_error(y_test_serviciosRA, y_predRA)\n",
        "mae = mean_absolute_error(y_test_serviciosRA, y_predRA)\n",
        "rmse = sqrt(mean_squared_error(y_test_serviciosRA, y_predRA))\n",
        "r2 = r2_score(y_test_serviciosRA, y_predRA)\n",
        "\n",
        "print(f'Mean Squared Error: {mse}')\n",
        "print(f'Root Mean Squared Error: {rmse}')\n",
        "print(f'Mean Absolute Error: {mae}')\n",
        "print(f'R² Score: {r2}')"
      ],
      "metadata": {
        "id": "RENjIXBNEZio"
      },
      "execution_count": null,
      "outputs": []
    },
    {
      "cell_type": "code",
      "source": [
        "from sklearn.ensemble import GradientBoostingRegressor\n",
        "from sklearn.model_selection import train_test_split\n",
        "from sklearn.preprocessing import StandardScaler\n",
        "import matplotlib.pyplot as plt\n",
        "from xgboost import XGBRegressor\n",
        "gb_modelAgrupado = GradientBoostingRegressor(loss='squared_error',\n",
        "                                     learning_rate=0.1,\n",
        "                                     n_estimators=1000,\n",
        "                                     subsample=1.0,\n",
        "                                     criterion='friedman_mse',\n",
        "                                     min_samples_split=2,\n",
        "                                     min_samples_leaf=1,\n",
        "                                     min_weight_fraction_leaf=0.0,\n",
        "                                     max_depth=3,\n",
        "                                     random_state=123)\n",
        "\n",
        "xx_serviciosGA = datosModeloAgrupado.drop(['ADR (Native)'], axis=1)\n",
        "yx_serviciosGA = datosModeloAgrupado['ADR (Native)']\n",
        "\n",
        "X_train_serviciosGA, X_test_serviciosGA, y_train_serviciosGA, y_test_serviciosGA = train_test_split(xx_serviciosGA, yx_serviciosGA, test_size=0.20, random_state=123)\n",
        "\n",
        "scaler = StandardScaler()\n",
        "X_train_servicios_scaledGA = scaler.fit_transform(X_train_serviciosGA)\n",
        "X_test_servicios_scaledGA = scaler.transform(X_test_serviciosGA)\n",
        "\n",
        "gb_modelAgrupado.fit(X_train_servicios_scaledGA, y_train_serviciosGA)\n",
        "\n",
        "y_predGA = gb_modelAgrupado.predict(X_test_servicios_scaledGA)\n",
        "\n",
        "plt.figure(figsize=(10, 6))\n",
        "plt.scatter(y_test_serviciosGA, y_predGA, alpha=0.7)\n",
        "plt.plot([min(y_test_serviciosGA), max(y_test_serviciosGA)], [min(y_test_serviciosGA), max(y_test_serviciosGA)], '--r')\n",
        "plt.xlabel('Valor Real')\n",
        "plt.ylabel('Predicción')\n",
        "plt.title('Comparación de Predicciones vs Valores Reales')\n",
        "plt.show()\n",
        "\n",
        "mae = mean_absolute_error(y_test_serviciosGA, y_predGA)\n",
        "mse = mean_squared_error(y_test_serviciosGA, y_predGA)\n",
        "rmse = mean_squared_error(y_test_serviciosGA, y_predGA, squared=False)\n",
        "r2 = r2_score(y_test_serviciosGA, y_predGA)\n",
        "\n",
        "print(f'Mean Absolute Error (MAE): {mae:.10f}')\n",
        "print(f'Root Mean Squared Error (RMSE): {rmse:.10f}')\n",
        "print(f'R^2 Score: {r2:.10f}')\n",
        "print(f'Mean Squared Error (MSE): {mse:.10f}')"
      ],
      "metadata": {
        "id": "D_vI6E-4cK5O"
      },
      "execution_count": null,
      "outputs": []
    },
    {
      "cell_type": "code",
      "source": [
        "from sklearn.ensemble import GradientBoostingRegressor\n",
        "from sklearn.preprocessing import StandardScaler\n",
        "from sklearn.linear_model import LinearRegression\n",
        "from sklearn.linear_model import Lasso\n",
        "\n",
        "linearAgrupado = LinearRegression()\n",
        "\n",
        "xx_serviciosL = datosModeloAgrupado.drop(['ADR (Native)'], axis=1)\n",
        "yx_serviciosL = datosModeloAgrupado['ADR (Native)']\n",
        "\n",
        "X_train_serviciosL, X_test_serviciosL, y_train_serviciosL, y_test_serviciosL = train_test_split(xx_serviciosL, yx_serviciosL, test_size=0.20, random_state=123)\n",
        "\n",
        "linearAgrupado.fit(X_train_serviciosL, y_train_serviciosL)\n",
        "\n",
        "y_predL = linearAgrupado.predict(X_test_serviciosL)\n",
        "\n",
        "plt.figure(figsize=(10, 6))\n",
        "plt.scatter(y_test_serviciosL, y_predL, alpha=0.7)\n",
        "plt.plot([min(y_test_serviciosL), max(y_test_serviciosL)], [min(y_test_serviciosL), max(y_test_serviciosL)], '--r')\n",
        "plt.xlabel('Valor Real')\n",
        "plt.ylabel('Predicción')\n",
        "plt.title('Comparación de Predicciones vs Valores Reales')\n",
        "plt.show()"
      ],
      "metadata": {
        "id": "HTHS6VdncpHC"
      },
      "execution_count": null,
      "outputs": []
    },
    {
      "cell_type": "code",
      "source": [
        "linearAgrupado.score(X_test_serviciosL, y_test_serviciosL)\n",
        "\n",
        "y_predL = linearAgrupado.predict(X_test_serviciosL)\n",
        "\n",
        "mse = mean_squared_error(y_test_serviciosL, y_predL)\n",
        "mae = mean_absolute_error(y_test_serviciosL, y_predL)\n",
        "rmse = sqrt(mean_squared_error(y_test_serviciosL, y_predL))\n",
        "r2 = r2_score(y_test_serviciosL, y_predL)\n",
        "\n",
        "print(f'Mean Squared Error: {mse}')\n",
        "print(f'Root Mean Squared Error: {rmse}')\n",
        "print(f'Mean Absolute Error: {mae}')\n",
        "print(f'R² Score: {r2}')"
      ],
      "metadata": {
        "id": "dvpCehlycs_d"
      },
      "execution_count": null,
      "outputs": []
    },
    {
      "cell_type": "code",
      "source": [
        "agrupando2 = pd.read_csv('/content/drive/MyDrive/Sergio Naranjo Fernández/DATOS/df_ultimos_12_meses_revenue.csv')\n",
        "agrupando_alta = agrupando2[(agrupando2['Mes'] >= 6) & (agrupando2['Mes'] <= 8)]\n",
        "agrupando_alta\n",
        "\n",
        "agrupando_alta = agrupando_alta.drop(columns=['Precio/Habitacion', 'Number of Reservations', 'Occupancy Rate', 'Revenue (Native)', 'Reservation Days', 'Revenue/Bed', 'Listing Type_2', 'Property Type_2', 'Mes', 'Temporada', 'Reporting Month'])\n",
        "agrupando_alta.info()\n",
        "\n",
        "agg_funs = {\n",
        "    'ADR (Native)': 'mean',\n",
        "    'Bedrooms' : 'first',\n",
        "    'Bathrooms' : 'first',\n",
        "    'Max Guests' : 'first',\n",
        "    'Extra People Fee (USD)' : 'first',\n",
        "    'Number of Photos' : 'first',\n",
        "    'Minimum Stay_x' : 'first',\n",
        "    'Pets Allowed' : 'first',\n",
        "    'Pool' : 'first',\n",
        "    'Lift/Elevator' : 'first',\n",
        "    'Parking' : 'first',\n",
        "    'Internet' : 'first',\n",
        "    'TV' : 'first',\n",
        "    'Private Pool': 'first',\n",
        "    'Air' : 'first',\n",
        "    'dishwasher' : 'first',\n",
        "    'doorman_entry' : 'first',\n",
        "    'ENTERTAINMENT_ALL_AGES|Books': 'first',\n",
        "    'fireplace' : 'first',\n",
        "    'Bath/Bed' : 'first',\n",
        "    'Bed/Bath' : 'first',\n",
        "    'Listing Type' : 'first',\n",
        "    'Property Type' : 'first'\n",
        "\n",
        "}\n",
        "\n",
        "ultimo_final_agg_alta = agrupando_alta.groupby('Property ID').agg(agg_funs).reset_index()\n",
        "ultimo_final_agg_alta"
      ],
      "metadata": {
        "id": "ucaDTzl2FDuy"
      },
      "execution_count": null,
      "outputs": []
    },
    {
      "cell_type": "code",
      "source": [
        "ultimo_final_agg_alta_one_hot = pd.get_dummies(ultimo_final_agg_alta, columns=['Listing Type'])"
      ],
      "metadata": {
        "id": "UTyGB-dndUhz"
      },
      "execution_count": null,
      "outputs": []
    },
    {
      "cell_type": "code",
      "source": [
        "ultimo_final_agg_alta_one_hot2 = pd.get_dummies(ultimo_final_agg_alta_one_hot, columns=['Property Type'])"
      ],
      "metadata": {
        "id": "eAGDGJMndZVn"
      },
      "execution_count": null,
      "outputs": []
    },
    {
      "cell_type": "code",
      "source": [
        "from sklearn.ensemble import GradientBoostingRegressor\n",
        "from sklearn.preprocessing import StandardScaler\n",
        "\n",
        "randomAgrupadoAlta = RandomForestRegressor(n_estimators = 100,\n",
        "            criterion    = 'squared_error',\n",
        "            max_depth    = None,\n",
        "            max_features = 'auto',\n",
        "            oob_score    = False,\n",
        "            n_jobs       = -1,\n",
        "            random_state = 123)\n",
        "\n",
        "datosModeloAgrupadoAlta = ultimo_final_agg_alta_one_hot2\n",
        "datosModeloAgrupadoAlta = datosModeloAgrupadoAlta.drop(columns=['Property ID'])\n",
        "\n",
        "xx_serviciosRAA = datosModeloAgrupadoAlta.drop(['ADR (Native)'], axis=1)\n",
        "yx_serviciosRAA = datosModeloAgrupadoAlta['ADR (Native)']\n",
        "\n",
        "\n",
        "X_train_serviciosRAA, X_test_serviciosRAA, y_train_serviciosRAA, y_test_serviciosRAA = train_test_split(xx_serviciosRAA, yx_serviciosRAA, test_size=0.2, random_state=123)\n",
        "randomAgrupadoAlta.fit(X_train_serviciosRAA, y_train_serviciosRAA)\n",
        "\n",
        "y_predRAA = randomAgrupadoAlta.predict(X_test_serviciosRAA)\n",
        "\n",
        "plt.figure(figsize=(10, 6))\n",
        "plt.scatter(y_test_serviciosRAA, y_predRAA, alpha=0.7)\n",
        "plt.plot([min(y_test_serviciosRAA), max(y_test_serviciosRAA)], [min(y_test_serviciosRAA), max(y_test_serviciosRAA)], '--r')\n",
        "plt.xlabel('Valor Real')\n",
        "plt.ylabel('Predicción')\n",
        "plt.title('Comparación de Predicciones vs Valores Reales')\n",
        "plt.show()"
      ],
      "metadata": {
        "id": "GtAu7tStFRaU"
      },
      "execution_count": null,
      "outputs": []
    },
    {
      "cell_type": "code",
      "source": [
        "randomAgrupadoAlta.score(X_test_serviciosRAA, y_test_serviciosRAA)\n",
        "\n",
        "y_predRAA = randomAgrupadoAlta.predict(X_test_serviciosRAA)\n",
        "\n",
        "mse = mean_squared_error(y_test_serviciosRAA, y_predRAA)\n",
        "mae = mean_absolute_error(y_test_serviciosRAA, y_predRAA)\n",
        "rmse = sqrt(mean_squared_error(y_test_serviciosRAA, y_predRAA))\n",
        "r2 = r2_score(y_test_serviciosRAA, y_predRAA)\n",
        "\n",
        "print(f'Mean Squared Error: {mse}')\n",
        "print(f'Root Mean Squared Error: {rmse}')\n",
        "print(f'Mean Absolute Error: {mae}')\n",
        "print(f'R² Score: {r2}')"
      ],
      "metadata": {
        "id": "Jg-qryJ4FVoh"
      },
      "execution_count": null,
      "outputs": []
    },
    {
      "cell_type": "code",
      "source": [
        "from sklearn.ensemble import GradientBoostingRegressor\n",
        "from sklearn.model_selection import train_test_split\n",
        "from sklearn.preprocessing import StandardScaler\n",
        "import matplotlib.pyplot as plt\n",
        "from xgboost import XGBRegressor\n",
        "\n",
        "gb_modelAgrupadoAlta = GradientBoostingRegressor(loss='squared_error',\n",
        "                                     learning_rate=0.1,\n",
        "                                     n_estimators=100,\n",
        "                                     subsample=1.0,\n",
        "                                     criterion='friedman_mse',\n",
        "                                     min_samples_split=2,\n",
        "                                     min_samples_leaf=1,\n",
        "                                     min_weight_fraction_leaf=0.0,\n",
        "                                     max_depth=3,\n",
        "                                     random_state=123)\n",
        "\n",
        "\n",
        "xx_serviciosGAA = datosModeloAgrupadoAlta.drop(['ADR (Native)'], axis=1)\n",
        "yx_serviciosGAA = datosModeloAgrupadoAlta['ADR (Native)']\n",
        "\n",
        "X_train_serviciosGAA, X_test_serviciosGAA, y_train_serviciosGAA, y_test_serviciosGAA = train_test_split(xx_serviciosGAA, yx_serviciosGAA, test_size=0.15, random_state=123)\n",
        "\n",
        "scaler = StandardScaler()\n",
        "X_train_servicios_scaledGAA = scaler.fit_transform(X_train_serviciosGAA)\n",
        "X_test_servicios_scaledGAA = scaler.transform(X_test_serviciosGAA)\n",
        "\n",
        "gb_modelAgrupadoAlta.fit(X_train_servicios_scaledGAA, y_train_serviciosGAA)\n",
        "\n",
        "y_predGAA = gb_modelAgrupadoAlta.predict(X_test_servicios_scaledGAA)\n",
        "\n",
        "plt.figure(figsize=(10, 6))\n",
        "plt.scatter(y_test_serviciosGAA, y_predGAA, alpha=0.7)\n",
        "plt.plot([min(y_test_servicios), max(y_test_serviciosGAA)], [min(y_test_serviciosGAA), max(y_test_serviciosGAA)], '--r')\n",
        "plt.xlabel('Valor Real')\n",
        "plt.ylabel('Predicción')\n",
        "plt.title('Comparación de Predicciones vs Valores Reales')\n",
        "plt.show()\n",
        "\n",
        "mae = mean_absolute_error(y_test_serviciosGAA, y_predGAA)\n",
        "mse = mean_squared_error(y_test_serviciosGAA, y_predGAA)\n",
        "rmse = mean_squared_error(y_test_serviciosGAA, y_predGAA, squared=False)  # Aquí calculamos directamente el RMSE usando squared=False\n",
        "r2 = r2_score(y_test_servicios, y_predGAA)\n",
        "\n",
        "# Mostrar los resultados\n",
        "print(f'Mean Absolute Error (MAE): {mae:.10f}')\n",
        "print(f'Root Mean Squared Error (RMSE): {rmse:.10f}')\n",
        "print(f'R^2 Score: {r2:.10f}')\n",
        "print(f'Mean Squared Error (MSE): {mse:.10f}')\n"
      ],
      "metadata": {
        "id": "Si8d9kMFbgFk"
      },
      "execution_count": null,
      "outputs": []
    },
    {
      "cell_type": "code",
      "source": [
        "from sklearn.ensemble import GradientBoostingRegressor\n",
        "from sklearn.preprocessing import StandardScaler\n",
        "from sklearn.linear_model import LinearRegression\n",
        "from sklearn.linear_model import Lasso\n",
        "\n",
        "linearAgrupadoAlta = LinearRegression()\n",
        "datosModeloAgrupadoAlta = ultimo_final_agg_alta_one_hot2\n",
        "datosModeloAgrupadoAlta = datosModeloAgrupadoAlta.drop(columns=['Property ID'])\n",
        "\n",
        "xx_serviciosLAA = datosModeloAgrupadoAlta.drop(['ADR (Native)'], axis=1)\n",
        "yx_serviciosLAA = datosModeloAgrupadoAlta['ADR (Native)']\n",
        "\n",
        "X_train_serviciosLAA, X_test_serviciosLAA, y_train_serviciosLAA, y_test_serviciosLAA = train_test_split(xx_serviciosLAA, yx_serviciosLAA, test_size=0.20, random_state=123)\n",
        "\n",
        "linearAgrupadoAlta.fit(X_train_serviciosLAA, y_train_serviciosLAA)\n",
        "\n",
        "y_predLAA = linearAgrupadoAlta.predict(X_test_serviciosLAA)\n",
        "\n",
        "plt.figure(figsize=(10, 6))\n",
        "plt.scatter(y_test_serviciosLAA, y_predLAA, alpha=0.7)\n",
        "plt.plot([min(y_test_serviciosLAA), max(y_test_serviciosLAA)], [min(y_test_serviciosLAA), max(y_test_serviciosLAA)], '--r')\n",
        "plt.xlabel('Valor Real')\n",
        "plt.ylabel('Predicción')\n",
        "plt.title('Comparación de Predicciones vs Valores Reales')\n",
        "plt.show()"
      ],
      "metadata": {
        "id": "1c6rjivbc3cC"
      },
      "execution_count": null,
      "outputs": []
    },
    {
      "cell_type": "code",
      "source": [
        "linearAgrupadoAlta.score(X_test_serviciosLAA, y_test_serviciosLAA)\n",
        "\n",
        "y_predLAA = linearAgrupadoAlta.predict(X_test_serviciosLAA)\n",
        "\n",
        "mse = mean_squared_error(y_test_serviciosLAA, y_predLAA)\n",
        "mae = mean_absolute_error(y_test_serviciosLAA, y_predLAA)\n",
        "rmse = sqrt(mean_squared_error(y_test_serviciosLAA, y_predLAA))\n",
        "r2 = r2_score(y_test_serviciosLAA, y_predLAA)\n",
        "\n",
        "print(f'Mean Squared Error: {mse}')\n",
        "print(f'Root Mean Squared Error: {rmse}')\n",
        "print(f'Mean Absolute Error: {mae}')\n",
        "print(f'R² Score: {r2}')"
      ],
      "metadata": {
        "id": "TjwNa3bwc6bv"
      },
      "execution_count": null,
      "outputs": []
    },
    {
      "cell_type": "code",
      "source": [
        "fila = ultimo_final_agg_alta.sample(n=1)\n",
        "fila"
      ],
      "metadata": {
        "id": "40iBkTqTi5fL"
      },
      "execution_count": null,
      "outputs": []
    },
    {
      "cell_type": "code",
      "source": [
        "fila2 = ultimo_final_agg_baja[ultimo_final_agg_baja['Property ID'] == 'ab-910569626739652703']\n",
        "fila2"
      ],
      "metadata": {
        "id": "vt9kzCshkiMr"
      },
      "execution_count": null,
      "outputs": []
    }
  ],
  "metadata": {
    "colab": {
      "collapsed_sections": [
        "6iARlleYtU2s",
        "m3FoWgUkoixE",
        "bm6ZfmHptfsx",
        "nWyg8oEEts7D",
        "mCxjt7ADxsZn",
        "h6faRoWkLleO",
        "MToWrgr7Lv9Y",
        "VodMcnuFMOZx",
        "0beIImsyaAPr",
        "ZbPulDXMw1eJ",
        "0pJ0yQlWIoCH",
        "6fkdKgA_KxSK",
        "NBRigMprtrbt",
        "E6m56x4rYj5D",
        "gEEQZ7L6tv_A",
        "nQdnOias-jMk",
        "PRXK98uwlEd7"
      ],
      "toc_visible": true,
      "provenance": [],
      "mount_file_id": "1SGPwrssLha9eQif9bO8a9ICrfwUNm79I",
      "authorship_tag": "ABX9TyPCkuKumyfk9C4L4sJwOaoL",
      "include_colab_link": true
    },
    "kernelspec": {
      "display_name": "Python 3",
      "name": "python3"
    },
    "language_info": {
      "name": "python"
    }
  },
  "nbformat": 4,
  "nbformat_minor": 0
}